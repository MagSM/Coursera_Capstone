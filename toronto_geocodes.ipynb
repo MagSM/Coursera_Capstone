{
 "cells": [
  {
   "cell_type": "markdown",
   "metadata": {},
   "source": [
    "# Toronto with Geocodes"
   ]
  },
  {
   "cell_type": "markdown",
   "metadata": {},
   "source": [
    "1. [Import](#import)\n",
    "2. [Data Loading and Preparation](#load)\n",
    "3. [Map of Toronto and Neighborhoods](#map)\n",
    "4. [Export](#export)"
   ]
  },
  {
   "cell_type": "markdown",
   "metadata": {},
   "source": [
    "### <a id=\"import\"> </a> Importing packages"
   ]
  },
  {
   "cell_type": "code",
   "execution_count": 1,
   "metadata": {},
   "outputs": [],
   "source": [
    "import pandas as pd\n",
    "# install packages if not installed\n",
    "# !pip install geocoder \n",
    "import geocoder\n",
    "# !pip install folium\n",
    "import folium"
   ]
  },
  {
   "cell_type": "code",
   "execution_count": null,
   "metadata": {},
   "outputs": [],
   "source": []
  },
  {
   "cell_type": "markdown",
   "metadata": {},
   "source": [
    "### <a id=\"load\"> </a> Data Loading and Preparation"
   ]
  },
  {
   "cell_type": "markdown",
   "metadata": {},
   "source": [
    "The data saved to csv from previous step will be loaded into pandas dataframe"
   ]
  },
  {
   "cell_type": "code",
   "execution_count": 2,
   "metadata": {},
   "outputs": [
    {
     "data": {
      "text/html": [
       "<div>\n",
       "<style scoped>\n",
       "    .dataframe tbody tr th:only-of-type {\n",
       "        vertical-align: middle;\n",
       "    }\n",
       "\n",
       "    .dataframe tbody tr th {\n",
       "        vertical-align: top;\n",
       "    }\n",
       "\n",
       "    .dataframe thead th {\n",
       "        text-align: right;\n",
       "    }\n",
       "</style>\n",
       "<table border=\"1\" class=\"dataframe\">\n",
       "  <thead>\n",
       "    <tr style=\"text-align: right;\">\n",
       "      <th></th>\n",
       "      <th>Unnamed: 0</th>\n",
       "      <th>PostalCode</th>\n",
       "      <th>Borough</th>\n",
       "      <th>Neighborhood</th>\n",
       "    </tr>\n",
       "  </thead>\n",
       "  <tbody>\n",
       "    <tr>\n",
       "      <th>0</th>\n",
       "      <td>2</td>\n",
       "      <td>M3A</td>\n",
       "      <td>North York</td>\n",
       "      <td>Parkwoods</td>\n",
       "    </tr>\n",
       "    <tr>\n",
       "      <th>1</th>\n",
       "      <td>3</td>\n",
       "      <td>M4A</td>\n",
       "      <td>North York</td>\n",
       "      <td>Victoria Village</td>\n",
       "    </tr>\n",
       "    <tr>\n",
       "      <th>2</th>\n",
       "      <td>4</td>\n",
       "      <td>M5A</td>\n",
       "      <td>Downtown Toronto</td>\n",
       "      <td>Harbourfront, Regent Park</td>\n",
       "    </tr>\n",
       "    <tr>\n",
       "      <th>3</th>\n",
       "      <td>6</td>\n",
       "      <td>M6A</td>\n",
       "      <td>North York</td>\n",
       "      <td>Lawrence Heights, Lawrence Manor</td>\n",
       "    </tr>\n",
       "    <tr>\n",
       "      <th>4</th>\n",
       "      <td>8</td>\n",
       "      <td>M7A</td>\n",
       "      <td>Queen's Park</td>\n",
       "      <td>Queen's Park</td>\n",
       "    </tr>\n",
       "  </tbody>\n",
       "</table>\n",
       "</div>"
      ],
      "text/plain": [
       "   Unnamed: 0 PostalCode           Borough                      Neighborhood\n",
       "0           2        M3A        North York                         Parkwoods\n",
       "1           3        M4A        North York                  Victoria Village\n",
       "2           4        M5A  Downtown Toronto         Harbourfront, Regent Park\n",
       "3           6        M6A        North York  Lawrence Heights, Lawrence Manor\n",
       "4           8        M7A      Queen's Park                      Queen's Park"
      ]
     },
     "execution_count": 2,
     "metadata": {},
     "output_type": "execute_result"
    }
   ],
   "source": [
    "toronto_wiki_data = pd.read_csv('data/toronto_wiki_data.csv')\n",
    "# Print first 5 rows od dataframe\n",
    "toronto_wiki_data.head()"
   ]
  },
  {
   "cell_type": "markdown",
   "metadata": {},
   "source": [
    "Unnamed: 0 is the previous data index which is not needed anymore and thus will me removed"
   ]
  },
  {
   "cell_type": "code",
   "execution_count": 3,
   "metadata": {},
   "outputs": [
    {
     "data": {
      "text/html": [
       "<div>\n",
       "<style scoped>\n",
       "    .dataframe tbody tr th:only-of-type {\n",
       "        vertical-align: middle;\n",
       "    }\n",
       "\n",
       "    .dataframe tbody tr th {\n",
       "        vertical-align: top;\n",
       "    }\n",
       "\n",
       "    .dataframe thead th {\n",
       "        text-align: right;\n",
       "    }\n",
       "</style>\n",
       "<table border=\"1\" class=\"dataframe\">\n",
       "  <thead>\n",
       "    <tr style=\"text-align: right;\">\n",
       "      <th></th>\n",
       "      <th>PostalCode</th>\n",
       "      <th>Borough</th>\n",
       "      <th>Neighborhood</th>\n",
       "    </tr>\n",
       "  </thead>\n",
       "  <tbody>\n",
       "    <tr>\n",
       "      <th>0</th>\n",
       "      <td>M3A</td>\n",
       "      <td>North York</td>\n",
       "      <td>Parkwoods</td>\n",
       "    </tr>\n",
       "    <tr>\n",
       "      <th>1</th>\n",
       "      <td>M4A</td>\n",
       "      <td>North York</td>\n",
       "      <td>Victoria Village</td>\n",
       "    </tr>\n",
       "    <tr>\n",
       "      <th>2</th>\n",
       "      <td>M5A</td>\n",
       "      <td>Downtown Toronto</td>\n",
       "      <td>Harbourfront, Regent Park</td>\n",
       "    </tr>\n",
       "    <tr>\n",
       "      <th>3</th>\n",
       "      <td>M6A</td>\n",
       "      <td>North York</td>\n",
       "      <td>Lawrence Heights, Lawrence Manor</td>\n",
       "    </tr>\n",
       "    <tr>\n",
       "      <th>4</th>\n",
       "      <td>M7A</td>\n",
       "      <td>Queen's Park</td>\n",
       "      <td>Queen's Park</td>\n",
       "    </tr>\n",
       "  </tbody>\n",
       "</table>\n",
       "</div>"
      ],
      "text/plain": [
       "  PostalCode           Borough                      Neighborhood\n",
       "0        M3A        North York                         Parkwoods\n",
       "1        M4A        North York                  Victoria Village\n",
       "2        M5A  Downtown Toronto         Harbourfront, Regent Park\n",
       "3        M6A        North York  Lawrence Heights, Lawrence Manor\n",
       "4        M7A      Queen's Park                      Queen's Park"
      ]
     },
     "execution_count": 3,
     "metadata": {},
     "output_type": "execute_result"
    }
   ],
   "source": [
    "toronto_wiki_data.drop('Unnamed: 0', inplace=True, axis=1)\n",
    "toronto_wiki_data.head()"
   ]
  },
  {
   "cell_type": "markdown",
   "metadata": {},
   "source": [
    "### <a id=\"geo\"> </a> Adding latitide and longitude to the dataframe"
   ]
  },
  {
   "cell_type": "markdown",
   "metadata": {},
   "source": [
    "Adding Latitude and Longitude columns to the new dataframe. They will be populated later on."
   ]
  },
  {
   "cell_type": "code",
   "execution_count": 4,
   "metadata": {},
   "outputs": [
    {
     "data": {
      "text/html": [
       "<div>\n",
       "<style scoped>\n",
       "    .dataframe tbody tr th:only-of-type {\n",
       "        vertical-align: middle;\n",
       "    }\n",
       "\n",
       "    .dataframe tbody tr th {\n",
       "        vertical-align: top;\n",
       "    }\n",
       "\n",
       "    .dataframe thead th {\n",
       "        text-align: right;\n",
       "    }\n",
       "</style>\n",
       "<table border=\"1\" class=\"dataframe\">\n",
       "  <thead>\n",
       "    <tr style=\"text-align: right;\">\n",
       "      <th></th>\n",
       "      <th>PostalCode</th>\n",
       "      <th>Borough</th>\n",
       "      <th>Neighborhood</th>\n",
       "      <th>Latitude</th>\n",
       "      <th>Longitude</th>\n",
       "    </tr>\n",
       "  </thead>\n",
       "  <tbody>\n",
       "    <tr>\n",
       "      <th>0</th>\n",
       "      <td>M3A</td>\n",
       "      <td>North York</td>\n",
       "      <td>Parkwoods</td>\n",
       "      <td>None</td>\n",
       "      <td>None</td>\n",
       "    </tr>\n",
       "    <tr>\n",
       "      <th>1</th>\n",
       "      <td>M4A</td>\n",
       "      <td>North York</td>\n",
       "      <td>Victoria Village</td>\n",
       "      <td>None</td>\n",
       "      <td>None</td>\n",
       "    </tr>\n",
       "    <tr>\n",
       "      <th>2</th>\n",
       "      <td>M5A</td>\n",
       "      <td>Downtown Toronto</td>\n",
       "      <td>Harbourfront, Regent Park</td>\n",
       "      <td>None</td>\n",
       "      <td>None</td>\n",
       "    </tr>\n",
       "    <tr>\n",
       "      <th>3</th>\n",
       "      <td>M6A</td>\n",
       "      <td>North York</td>\n",
       "      <td>Lawrence Heights, Lawrence Manor</td>\n",
       "      <td>None</td>\n",
       "      <td>None</td>\n",
       "    </tr>\n",
       "    <tr>\n",
       "      <th>4</th>\n",
       "      <td>M7A</td>\n",
       "      <td>Queen's Park</td>\n",
       "      <td>Queen's Park</td>\n",
       "      <td>None</td>\n",
       "      <td>None</td>\n",
       "    </tr>\n",
       "  </tbody>\n",
       "</table>\n",
       "</div>"
      ],
      "text/plain": [
       "  PostalCode           Borough                      Neighborhood Latitude  \\\n",
       "0        M3A        North York                         Parkwoods     None   \n",
       "1        M4A        North York                  Victoria Village     None   \n",
       "2        M5A  Downtown Toronto         Harbourfront, Regent Park     None   \n",
       "3        M6A        North York  Lawrence Heights, Lawrence Manor     None   \n",
       "4        M7A      Queen's Park                      Queen's Park     None   \n",
       "\n",
       "  Longitude  \n",
       "0      None  \n",
       "1      None  \n",
       "2      None  \n",
       "3      None  \n",
       "4      None  "
      ]
     },
     "execution_count": 4,
     "metadata": {},
     "output_type": "execute_result"
    }
   ],
   "source": [
    "toronto_geo_data = toronto_wiki_data\n",
    "toronto_geo_data['Latitude'] = None\n",
    "toronto_geo_data['Longitude'] = None\n",
    "toronto_geo_data.head()"
   ]
  },
  {
   "cell_type": "code",
   "execution_count": 5,
   "metadata": {},
   "outputs": [
    {
     "name": "stdout",
     "output_type": "stream",
     "text": [
      "[43.65609081300005, -79.38492999999994]\n"
     ]
    }
   ],
   "source": [
    "# Testing the geocoder for a M5G postcode\n",
    "lat_lng_coords = None\n",
    "while lat_lng_coords is None:\n",
    "    g = geocoder.arcgis('{}, Toronto, Ontario'.format(\"M5G\"))\n",
    "    lat_lng_coords = g.latlng\n",
    "\n",
    "print(lat_lng_coords)"
   ]
  },
  {
   "cell_type": "markdown",
   "metadata": {},
   "source": [
    "We will now loop through the entries of the dataframe and add their latitude and longitude"
   ]
  },
  {
   "cell_type": "code",
   "execution_count": 6,
   "metadata": {},
   "outputs": [],
   "source": [
    "\n",
    "for i in toronto_geo_data.index:\n",
    "    lat_lng_coords = None\n",
    "    postcode = toronto_geo_data.loc[i]['PostalCode']\n",
    "    \n",
    "    while lat_lng_coords is None:\n",
    "        g = geocoder.arcgis('{}, Toronto, Ontario'.format(postcode))\n",
    "        lat_lng_coords = g.latlng\n",
    "        \n",
    "    lat = lat_lng_coords[0]\n",
    "    lon = lat_lng_coords[1]\n",
    "    toronto_geo_data.loc[i]['Latitude'] = lat\n",
    "    toronto_geo_data.loc[i]['Longitude'] = lon\n",
    "    "
   ]
  },
  {
   "cell_type": "code",
   "execution_count": 7,
   "metadata": {},
   "outputs": [
    {
     "data": {
      "text/html": [
       "<div>\n",
       "<style scoped>\n",
       "    .dataframe tbody tr th:only-of-type {\n",
       "        vertical-align: middle;\n",
       "    }\n",
       "\n",
       "    .dataframe tbody tr th {\n",
       "        vertical-align: top;\n",
       "    }\n",
       "\n",
       "    .dataframe thead th {\n",
       "        text-align: right;\n",
       "    }\n",
       "</style>\n",
       "<table border=\"1\" class=\"dataframe\">\n",
       "  <thead>\n",
       "    <tr style=\"text-align: right;\">\n",
       "      <th></th>\n",
       "      <th>PostalCode</th>\n",
       "      <th>Borough</th>\n",
       "      <th>Neighborhood</th>\n",
       "      <th>Latitude</th>\n",
       "      <th>Longitude</th>\n",
       "    </tr>\n",
       "  </thead>\n",
       "  <tbody>\n",
       "    <tr>\n",
       "      <th>0</th>\n",
       "      <td>M3A</td>\n",
       "      <td>North York</td>\n",
       "      <td>Parkwoods</td>\n",
       "      <td>43.7524</td>\n",
       "      <td>-79.3292</td>\n",
       "    </tr>\n",
       "    <tr>\n",
       "      <th>1</th>\n",
       "      <td>M4A</td>\n",
       "      <td>North York</td>\n",
       "      <td>Victoria Village</td>\n",
       "      <td>43.7306</td>\n",
       "      <td>-79.3133</td>\n",
       "    </tr>\n",
       "    <tr>\n",
       "      <th>2</th>\n",
       "      <td>M5A</td>\n",
       "      <td>Downtown Toronto</td>\n",
       "      <td>Harbourfront, Regent Park</td>\n",
       "      <td>43.6503</td>\n",
       "      <td>-79.3592</td>\n",
       "    </tr>\n",
       "    <tr>\n",
       "      <th>3</th>\n",
       "      <td>M6A</td>\n",
       "      <td>North York</td>\n",
       "      <td>Lawrence Heights, Lawrence Manor</td>\n",
       "      <td>43.7233</td>\n",
       "      <td>-79.4513</td>\n",
       "    </tr>\n",
       "    <tr>\n",
       "      <th>4</th>\n",
       "      <td>M7A</td>\n",
       "      <td>Queen's Park</td>\n",
       "      <td>Queen's Park</td>\n",
       "      <td>43.6612</td>\n",
       "      <td>-79.3917</td>\n",
       "    </tr>\n",
       "  </tbody>\n",
       "</table>\n",
       "</div>"
      ],
      "text/plain": [
       "  PostalCode           Borough                      Neighborhood Latitude  \\\n",
       "0        M3A        North York                         Parkwoods  43.7524   \n",
       "1        M4A        North York                  Victoria Village  43.7306   \n",
       "2        M5A  Downtown Toronto         Harbourfront, Regent Park  43.6503   \n",
       "3        M6A        North York  Lawrence Heights, Lawrence Manor  43.7233   \n",
       "4        M7A      Queen's Park                      Queen's Park  43.6612   \n",
       "\n",
       "  Longitude  \n",
       "0  -79.3292  \n",
       "1  -79.3133  \n",
       "2  -79.3592  \n",
       "3  -79.4513  \n",
       "4  -79.3917  "
      ]
     },
     "execution_count": 7,
     "metadata": {},
     "output_type": "execute_result"
    }
   ],
   "source": [
    "toronto_geo_data.head()"
   ]
  },
  {
   "cell_type": "markdown",
   "metadata": {},
   "source": [
    "### <a id=\"map\">  </a> Map of Toronto and Neighborhoods"
   ]
  },
  {
   "cell_type": "code",
   "execution_count": 9,
   "metadata": {},
   "outputs": [
    {
     "data": {
      "text/plain": [
       "[43.648690000000045, -79.38543999999996]"
      ]
     },
     "execution_count": 9,
     "metadata": {},
     "output_type": "execute_result"
    }
   ],
   "source": [
    "g = geocoder.arcgis('Toronto, Ontario')\n",
    "torloc = g.latlng\n",
    "torloc"
   ]
  },
  {
   "cell_type": "code",
   "execution_count": 10,
   "metadata": {},
   "outputs": [],
   "source": [
    "torm = folium.Map(location=torloc, zoom_start=12)"
   ]
  },
  {
   "cell_type": "code",
   "execution_count": 11,
   "metadata": {
    "scrolled": true
   },
   "outputs": [],
   "source": [
    "radius = 5\n",
    "for i in toronto_geo_data.index:\n",
    "    lat = toronto_geo_data.loc[i]['Latitude']\n",
    "    long = toronto_geo_data.loc[i]['Longitude']\n",
    "    popup = toronto_geo_data.loc[i]['Neighborhood']\n",
    "    folium.Marker(location=[lat,long], radius=radius, popup=popup).add_to(torm)\n",
    "    "
   ]
  },
  {
   "cell_type": "code",
   "execution_count": 14,
   "metadata": {
    "scrolled": true
   },
   "outputs": [
    {
     "data": {
      "text/html": [
       "<div style=\"width:100%;\"><div style=\"position:relative;width:100%;height:0;padding-bottom:60%;\"><iframe src=\"data:text/html;charset=utf-8;base64,PCFET0NUWVBFIGh0bWw+CjxoZWFkPiAgICAKICAgIDxtZXRhIGh0dHAtZXF1aXY9ImNvbnRlbnQtdHlwZSIgY29udGVudD0idGV4dC9odG1sOyBjaGFyc2V0PVVURi04IiAvPgogICAgCiAgICAgICAgPHNjcmlwdD4KICAgICAgICAgICAgTF9OT19UT1VDSCA9IGZhbHNlOwogICAgICAgICAgICBMX0RJU0FCTEVfM0QgPSBmYWxzZTsKICAgICAgICA8L3NjcmlwdD4KICAgIAogICAgPHNjcmlwdCBzcmM9Imh0dHBzOi8vY2RuLmpzZGVsaXZyLm5ldC9ucG0vbGVhZmxldEAxLjUuMS9kaXN0L2xlYWZsZXQuanMiPjwvc2NyaXB0PgogICAgPHNjcmlwdCBzcmM9Imh0dHBzOi8vY29kZS5qcXVlcnkuY29tL2pxdWVyeS0xLjEyLjQubWluLmpzIj48L3NjcmlwdD4KICAgIDxzY3JpcHQgc3JjPSJodHRwczovL21heGNkbi5ib290c3RyYXBjZG4uY29tL2Jvb3RzdHJhcC8zLjIuMC9qcy9ib290c3RyYXAubWluLmpzIj48L3NjcmlwdD4KICAgIDxzY3JpcHQgc3JjPSJodHRwczovL2NkbmpzLmNsb3VkZmxhcmUuY29tL2FqYXgvbGlicy9MZWFmbGV0LmF3ZXNvbWUtbWFya2Vycy8yLjAuMi9sZWFmbGV0LmF3ZXNvbWUtbWFya2Vycy5qcyI+PC9zY3JpcHQ+CiAgICA8bGluayByZWw9InN0eWxlc2hlZXQiIGhyZWY9Imh0dHBzOi8vY2RuLmpzZGVsaXZyLm5ldC9ucG0vbGVhZmxldEAxLjUuMS9kaXN0L2xlYWZsZXQuY3NzIi8+CiAgICA8bGluayByZWw9InN0eWxlc2hlZXQiIGhyZWY9Imh0dHBzOi8vbWF4Y2RuLmJvb3RzdHJhcGNkbi5jb20vYm9vdHN0cmFwLzMuMi4wL2Nzcy9ib290c3RyYXAubWluLmNzcyIvPgogICAgPGxpbmsgcmVsPSJzdHlsZXNoZWV0IiBocmVmPSJodHRwczovL21heGNkbi5ib290c3RyYXBjZG4uY29tL2Jvb3RzdHJhcC8zLjIuMC9jc3MvYm9vdHN0cmFwLXRoZW1lLm1pbi5jc3MiLz4KICAgIDxsaW5rIHJlbD0ic3R5bGVzaGVldCIgaHJlZj0iaHR0cHM6Ly9tYXhjZG4uYm9vdHN0cmFwY2RuLmNvbS9mb250LWF3ZXNvbWUvNC42LjMvY3NzL2ZvbnQtYXdlc29tZS5taW4uY3NzIi8+CiAgICA8bGluayByZWw9InN0eWxlc2hlZXQiIGhyZWY9Imh0dHBzOi8vY2RuanMuY2xvdWRmbGFyZS5jb20vYWpheC9saWJzL0xlYWZsZXQuYXdlc29tZS1tYXJrZXJzLzIuMC4yL2xlYWZsZXQuYXdlc29tZS1tYXJrZXJzLmNzcyIvPgogICAgPGxpbmsgcmVsPSJzdHlsZXNoZWV0IiBocmVmPSJodHRwczovL3Jhd2Nkbi5naXRoYWNrLmNvbS9weXRob24tdmlzdWFsaXphdGlvbi9mb2xpdW0vbWFzdGVyL2ZvbGl1bS90ZW1wbGF0ZXMvbGVhZmxldC5hd2Vzb21lLnJvdGF0ZS5jc3MiLz4KICAgIDxzdHlsZT5odG1sLCBib2R5IHt3aWR0aDogMTAwJTtoZWlnaHQ6IDEwMCU7bWFyZ2luOiAwO3BhZGRpbmc6IDA7fTwvc3R5bGU+CiAgICA8c3R5bGU+I21hcCB7cG9zaXRpb246YWJzb2x1dGU7dG9wOjA7Ym90dG9tOjA7cmlnaHQ6MDtsZWZ0OjA7fTwvc3R5bGU+CiAgICAKICAgICAgICAgICAgPG1ldGEgbmFtZT0idmlld3BvcnQiIGNvbnRlbnQ9IndpZHRoPWRldmljZS13aWR0aCwKICAgICAgICAgICAgICAgIGluaXRpYWwtc2NhbGU9MS4wLCBtYXhpbXVtLXNjYWxlPTEuMCwgdXNlci1zY2FsYWJsZT1ubyIgLz4KICAgICAgICAgICAgPHN0eWxlPgogICAgICAgICAgICAgICAgI21hcF80YWI4MTljY2FjMjk0ZmJiOGE4MjA3NzNkZmQwNDJiOSB7CiAgICAgICAgICAgICAgICAgICAgcG9zaXRpb246IHJlbGF0aXZlOwogICAgICAgICAgICAgICAgICAgIHdpZHRoOiAxMDAuMCU7CiAgICAgICAgICAgICAgICAgICAgaGVpZ2h0OiAxMDAuMCU7CiAgICAgICAgICAgICAgICAgICAgbGVmdDogMC4wJTsKICAgICAgICAgICAgICAgICAgICB0b3A6IDAuMCU7CiAgICAgICAgICAgICAgICB9CiAgICAgICAgICAgIDwvc3R5bGU+CiAgICAgICAgCjwvaGVhZD4KPGJvZHk+ICAgIAogICAgCiAgICAgICAgICAgIDxkaXYgY2xhc3M9ImZvbGl1bS1tYXAiIGlkPSJtYXBfNGFiODE5Y2NhYzI5NGZiYjhhODIwNzczZGZkMDQyYjkiID48L2Rpdj4KICAgICAgICAKPC9ib2R5Pgo8c2NyaXB0PiAgICAKICAgIAogICAgICAgICAgICB2YXIgbWFwXzRhYjgxOWNjYWMyOTRmYmI4YTgyMDc3M2RmZDA0MmI5ID0gTC5tYXAoCiAgICAgICAgICAgICAgICAibWFwXzRhYjgxOWNjYWMyOTRmYmI4YTgyMDc3M2RmZDA0MmI5IiwKICAgICAgICAgICAgICAgIHsKICAgICAgICAgICAgICAgICAgICBjZW50ZXI6IFs0My42NDg2OTAwMDAwMDAwNDUsIC03OS4zODU0Mzk5OTk5OTk5Nl0sCiAgICAgICAgICAgICAgICAgICAgY3JzOiBMLkNSUy5FUFNHMzg1NywKICAgICAgICAgICAgICAgICAgICB6b29tOiAxMiwKICAgICAgICAgICAgICAgICAgICB6b29tQ29udHJvbDogdHJ1ZSwKICAgICAgICAgICAgICAgICAgICBwcmVmZXJDYW52YXM6IGZhbHNlLAogICAgICAgICAgICAgICAgfQogICAgICAgICAgICApOwoKICAgICAgICAgICAgCgogICAgICAgIAogICAgCiAgICAgICAgICAgIHZhciB0aWxlX2xheWVyXzkxZmZmYTM4YzBjZjQwN2U4ODhmOTAwYjNhMzcxOTc4ID0gTC50aWxlTGF5ZXIoCiAgICAgICAgICAgICAgICAiaHR0cHM6Ly97c30udGlsZS5vcGVuc3RyZWV0bWFwLm9yZy97en0ve3h9L3t5fS5wbmciLAogICAgICAgICAgICAgICAgeyJhdHRyaWJ1dGlvbiI6ICJEYXRhIGJ5IFx1MDAyNmNvcHk7IFx1MDAzY2EgaHJlZj1cImh0dHA6Ly9vcGVuc3RyZWV0bWFwLm9yZ1wiXHUwMDNlT3BlblN0cmVldE1hcFx1MDAzYy9hXHUwMDNlLCB1bmRlciBcdTAwM2NhIGhyZWY9XCJodHRwOi8vd3d3Lm9wZW5zdHJlZXRtYXAub3JnL2NvcHlyaWdodFwiXHUwMDNlT0RiTFx1MDAzYy9hXHUwMDNlLiIsICJkZXRlY3RSZXRpbmEiOiBmYWxzZSwgIm1heE5hdGl2ZVpvb20iOiAxOCwgIm1heFpvb20iOiAxOCwgIm1pblpvb20iOiAwLCAibm9XcmFwIjogZmFsc2UsICJvcGFjaXR5IjogMSwgInN1YmRvbWFpbnMiOiAiYWJjIiwgInRtcyI6IGZhbHNlfQogICAgICAgICAgICApLmFkZFRvKG1hcF80YWI4MTljY2FjMjk0ZmJiOGE4MjA3NzNkZmQwNDJiOSk7CiAgICAgICAgCiAgICAKICAgICAgICAgICAgdmFyIG1hcmtlcl8yMmY3MWM5NTk3Yzk0ZjM4ODM0MTRlZjg5OWY4MzMyZiA9IEwubWFya2VyKAogICAgICAgICAgICAgICAgWzQzLjc1MjQyMDAwMDAwMDAzLCAtNzkuMzI5MjQyNDUyOTk5OTVdLAogICAgICAgICAgICAgICAgeyJyYWRpdXMiOiA1fQogICAgICAgICAgICApLmFkZFRvKG1hcF80YWI4MTljY2FjMjk0ZmJiOGE4MjA3NzNkZmQwNDJiOSk7CiAgICAgICAgCiAgICAKICAgICAgICB2YXIgcG9wdXBfMjRhZThiNTE2ZmM4NGEyMzhmNTQ1MjUzMTIyOTFhZmMgPSBMLnBvcHVwKHsibWF4V2lkdGgiOiAiMTAwJSJ9KTsKCiAgICAgICAgCiAgICAgICAgICAgIHZhciBodG1sXzM4NzhiY2ZmMWJiNTRmMGE4M2UxM2JiZmY2NWEyYzA2ID0gJChgPGRpdiBpZD0iaHRtbF8zODc4YmNmZjFiYjU0ZjBhODNlMTNiYmZmNjVhMmMwNiIgc3R5bGU9IndpZHRoOiAxMDAuMCU7IGhlaWdodDogMTAwLjAlOyI+UGFya3dvb2RzPC9kaXY+YClbMF07CiAgICAgICAgICAgIHBvcHVwXzI0YWU4YjUxNmZjODRhMjM4ZjU0NTI1MzEyMjkxYWZjLnNldENvbnRlbnQoaHRtbF8zODc4YmNmZjFiYjU0ZjBhODNlMTNiYmZmNjVhMmMwNik7CiAgICAgICAgCgogICAgICAgIG1hcmtlcl8yMmY3MWM5NTk3Yzk0ZjM4ODM0MTRlZjg5OWY4MzMyZi5iaW5kUG9wdXAocG9wdXBfMjRhZThiNTE2ZmM4NGEyMzhmNTQ1MjUzMTIyOTFhZmMpCiAgICAgICAgOwoKICAgICAgICAKICAgIAogICAgCiAgICAgICAgICAgIHZhciBtYXJrZXJfMjRkZjhkNjU1ZDI5NDYyZjlkMzA0ZDdlNGEyMDcxY2MgPSBMLm1hcmtlcigKICAgICAgICAgICAgICAgIFs0My43MzA2MDAyNDYwMDAwNSwgLTc5LjMxMzI2NDk5OTk5OTk0XSwKICAgICAgICAgICAgICAgIHsicmFkaXVzIjogNX0KICAgICAgICAgICAgKS5hZGRUbyhtYXBfNGFiODE5Y2NhYzI5NGZiYjhhODIwNzczZGZkMDQyYjkpOwogICAgICAgIAogICAgCiAgICAgICAgdmFyIHBvcHVwXzFlOGFjYzQ4MGRlZTQ1NzNhYzQ1YTVjOGQ5NTI3MTg2ID0gTC5wb3B1cCh7Im1heFdpZHRoIjogIjEwMCUifSk7CgogICAgICAgIAogICAgICAgICAgICB2YXIgaHRtbF8yZmQ0ZjAxNTg4MDA0NTFiYjNkY2MxZjg1NzM2NTFlNSA9ICQoYDxkaXYgaWQ9Imh0bWxfMmZkNGYwMTU4ODAwNDUxYmIzZGNjMWY4NTczNjUxZTUiIHN0eWxlPSJ3aWR0aDogMTAwLjAlOyBoZWlnaHQ6IDEwMC4wJTsiPlZpY3RvcmlhIFZpbGxhZ2U8L2Rpdj5gKVswXTsKICAgICAgICAgICAgcG9wdXBfMWU4YWNjNDgwZGVlNDU3M2FjNDVhNWM4ZDk1MjcxODYuc2V0Q29udGVudChodG1sXzJmZDRmMDE1ODgwMDQ1MWJiM2RjYzFmODU3MzY1MWU1KTsKICAgICAgICAKCiAgICAgICAgbWFya2VyXzI0ZGY4ZDY1NWQyOTQ2MmY5ZDMwNGQ3ZTRhMjA3MWNjLmJpbmRQb3B1cChwb3B1cF8xZThhY2M0ODBkZWU0NTczYWM0NWE1YzhkOTUyNzE4NikKICAgICAgICA7CgogICAgICAgIAogICAgCiAgICAKICAgICAgICAgICAgdmFyIG1hcmtlcl81NjljNzc1MjU2MDU0YWFjYWE3MGNhMTMwZjM3OTZiNSA9IEwubWFya2VyKAogICAgICAgICAgICAgICAgWzQzLjY1MDI5NTAwMDAwMDAzLCAtNzkuMzU5MTY1NzIyOTk5OTldLAogICAgICAgICAgICAgICAgeyJyYWRpdXMiOiA1fQogICAgICAgICAgICApLmFkZFRvKG1hcF80YWI4MTljY2FjMjk0ZmJiOGE4MjA3NzNkZmQwNDJiOSk7CiAgICAgICAgCiAgICAKICAgICAgICB2YXIgcG9wdXBfMzU5YWQ5MTJjMzhiNDc4MDk2MzQ1ZDllZGU2ZjFhYmIgPSBMLnBvcHVwKHsibWF4V2lkdGgiOiAiMTAwJSJ9KTsKCiAgICAgICAgCiAgICAgICAgICAgIHZhciBodG1sX2Q5MjYwOGI5ZDNlODRlYjc5ZDA0YzFiZTI2YzIwNDVlID0gJChgPGRpdiBpZD0iaHRtbF9kOTI2MDhiOWQzZTg0ZWI3OWQwNGMxYmUyNmMyMDQ1ZSIgc3R5bGU9IndpZHRoOiAxMDAuMCU7IGhlaWdodDogMTAwLjAlOyI+SGFyYm91cmZyb250LCBSZWdlbnQgUGFyazwvZGl2PmApWzBdOwogICAgICAgICAgICBwb3B1cF8zNTlhZDkxMmMzOGI0NzgwOTYzNDVkOWVkZTZmMWFiYi5zZXRDb250ZW50KGh0bWxfZDkyNjA4YjlkM2U4NGViNzlkMDRjMWJlMjZjMjA0NWUpOwogICAgICAgIAoKICAgICAgICBtYXJrZXJfNTY5Yzc3NTI1NjA1NGFhY2FhNzBjYTEzMGYzNzk2YjUuYmluZFBvcHVwKHBvcHVwXzM1OWFkOTEyYzM4YjQ3ODA5NjM0NWQ5ZWRlNmYxYWJiKQogICAgICAgIDsKCiAgICAgICAgCiAgICAKICAgIAogICAgICAgICAgICB2YXIgbWFya2VyXzU5Zjc1NTRkNGRmNTQ1NzliNmFiMTYxYmEzZDcwNjdmID0gTC5tYXJrZXIoCiAgICAgICAgICAgICAgICBbNDMuNzIzMjcwMDAwMDAwMDcsIC03OS40NTEyODYwMTY5OTk5N10sCiAgICAgICAgICAgICAgICB7InJhZGl1cyI6IDV9CiAgICAgICAgICAgICkuYWRkVG8obWFwXzRhYjgxOWNjYWMyOTRmYmI4YTgyMDc3M2RmZDA0MmI5KTsKICAgICAgICAKICAgIAogICAgICAgIHZhciBwb3B1cF8yZjlkNmIxOWFlMWQ0NTYwOWRjY2U5ZmQ2Njg0YzgwYiA9IEwucG9wdXAoeyJtYXhXaWR0aCI6ICIxMDAlIn0pOwoKICAgICAgICAKICAgICAgICAgICAgdmFyIGh0bWxfMWNlZWZlZjgxODZlNGFlNmI0ZDUyZTQ1MTRiMDE2NDcgPSAkKGA8ZGl2IGlkPSJodG1sXzFjZWVmZWY4MTg2ZTRhZTZiNGQ1MmU0NTE0YjAxNjQ3IiBzdHlsZT0id2lkdGg6IDEwMC4wJTsgaGVpZ2h0OiAxMDAuMCU7Ij5MYXdyZW5jZSBIZWlnaHRzLCBMYXdyZW5jZSBNYW5vcjwvZGl2PmApWzBdOwogICAgICAgICAgICBwb3B1cF8yZjlkNmIxOWFlMWQ0NTYwOWRjY2U5ZmQ2Njg0YzgwYi5zZXRDb250ZW50KGh0bWxfMWNlZWZlZjgxODZlNGFlNmI0ZDUyZTQ1MTRiMDE2NDcpOwogICAgICAgIAoKICAgICAgICBtYXJrZXJfNTlmNzU1NGQ0ZGY1NDU3OWI2YWIxNjFiYTNkNzA2N2YuYmluZFBvcHVwKHBvcHVwXzJmOWQ2YjE5YWUxZDQ1NjA5ZGNjZTlmZDY2ODRjODBiKQogICAgICAgIDsKCiAgICAgICAgCiAgICAKICAgIAogICAgICAgICAgICB2YXIgbWFya2VyXzNkYzJlNGQ1MDRlODQ2M2NhN2Y5MzI2MmIyNTBlM2EyID0gTC5tYXJrZXIoCiAgICAgICAgICAgICAgICBbNDMuNjYxMTUwMzM1MDAwMDYsIC03OS4zOTE3MTQ5OTk5OTk5OF0sCiAgICAgICAgICAgICAgICB7InJhZGl1cyI6IDV9CiAgICAgICAgICAgICkuYWRkVG8obWFwXzRhYjgxOWNjYWMyOTRmYmI4YTgyMDc3M2RmZDA0MmI5KTsKICAgICAgICAKICAgIAogICAgICAgIHZhciBwb3B1cF9kYTM5MTllOTRkZjY0ZTM5YThlM2RmNjZlYWYxZjU4YyA9IEwucG9wdXAoeyJtYXhXaWR0aCI6ICIxMDAlIn0pOwoKICAgICAgICAKICAgICAgICAgICAgdmFyIGh0bWxfNzk4Zjg2MTM3ZGJiNGZmNDlhMWZmNDk2NzdiNjc5MzQgPSAkKGA8ZGl2IGlkPSJodG1sXzc5OGY4NjEzN2RiYjRmZjQ5YTFmZjQ5Njc3YjY3OTM0IiBzdHlsZT0id2lkdGg6IDEwMC4wJTsgaGVpZ2h0OiAxMDAuMCU7Ij5RdWVlbidzIFBhcms8L2Rpdj5gKVswXTsKICAgICAgICAgICAgcG9wdXBfZGEzOTE5ZTk0ZGY2NGUzOWE4ZTNkZjY2ZWFmMWY1OGMuc2V0Q29udGVudChodG1sXzc5OGY4NjEzN2RiYjRmZjQ5YTFmZjQ5Njc3YjY3OTM0KTsKICAgICAgICAKCiAgICAgICAgbWFya2VyXzNkYzJlNGQ1MDRlODQ2M2NhN2Y5MzI2MmIyNTBlM2EyLmJpbmRQb3B1cChwb3B1cF9kYTM5MTllOTRkZjY0ZTM5YThlM2RmNjZlYWYxZjU4YykKICAgICAgICA7CgogICAgICAgIAogICAgCiAgICAKICAgICAgICAgICAgdmFyIG1hcmtlcl82NDNkZTI0YjAwMjc0ODFkYmQ5M2Y5Y2JiZTAzMTFkNyA9IEwubWFya2VyKAogICAgICAgICAgICAgICAgWzQzLjY2MjI5OTA4MzAwMDA1LCAtNzkuNTI4MTk0OTk5OTk5OThdLAogICAgICAgICAgICAgICAgeyJyYWRpdXMiOiA1fQogICAgICAgICAgICApLmFkZFRvKG1hcF80YWI4MTljY2FjMjk0ZmJiOGE4MjA3NzNkZmQwNDJiOSk7CiAgICAgICAgCiAgICAKICAgICAgICB2YXIgcG9wdXBfYzM3ODQ5YWI3MjQ5NDE2YTlmYjYyMzQ0NTlhZjhmMTAgPSBMLnBvcHVwKHsibWF4V2lkdGgiOiAiMTAwJSJ9KTsKCiAgICAgICAgCiAgICAgICAgICAgIHZhciBodG1sX2ZiYTRjM2IxNDFiOTQ1OTQ5Mzc3NDI3NDZkNzZlNTEwID0gJChgPGRpdiBpZD0iaHRtbF9mYmE0YzNiMTQxYjk0NTk0OTM3NzQyNzQ2ZDc2ZTUxMCIgc3R5bGU9IndpZHRoOiAxMDAuMCU7IGhlaWdodDogMTAwLjAlOyI+SXNsaW5ndG9uIEF2ZW51ZTwvZGl2PmApWzBdOwogICAgICAgICAgICBwb3B1cF9jMzc4NDlhYjcyNDk0MTZhOWZiNjIzNDQ1OWFmOGYxMC5zZXRDb250ZW50KGh0bWxfZmJhNGMzYjE0MWI5NDU5NDkzNzc0Mjc0NmQ3NmU1MTApOwogICAgICAgIAoKICAgICAgICBtYXJrZXJfNjQzZGUyNGIwMDI3NDgxZGJkOTNmOWNiYmUwMzExZDcuYmluZFBvcHVwKHBvcHVwX2MzNzg0OWFiNzI0OTQxNmE5ZmI2MjM0NDU5YWY4ZjEwKQogICAgICAgIDsKCiAgICAgICAgCiAgICAKICAgIAogICAgICAgICAgICB2YXIgbWFya2VyXzZmYzc5NDhiYTU0NTRiMjE4MGU5NDIwMDllNWIwYjg3ID0gTC5tYXJrZXIoCiAgICAgICAgICAgICAgICBbNDMuODExNTI1MDAwMDAwMDc0LCAtNzkuMTk1NTE3NDYzOTk5OThdLAogICAgICAgICAgICAgICAgeyJyYWRpdXMiOiA1fQogICAgICAgICAgICApLmFkZFRvKG1hcF80YWI4MTljY2FjMjk0ZmJiOGE4MjA3NzNkZmQwNDJiOSk7CiAgICAgICAgCiAgICAKICAgICAgICB2YXIgcG9wdXBfYmI2NDQ0NmM1MWVhNDFhODhkYjllYWY3YjE1YzVhMGIgPSBMLnBvcHVwKHsibWF4V2lkdGgiOiAiMTAwJSJ9KTsKCiAgICAgICAgCiAgICAgICAgICAgIHZhciBodG1sX2FmZmVhNGM1ZTM5MDQ3YTRiMzU2ZTg3MmRkOWUyYWQwID0gJChgPGRpdiBpZD0iaHRtbF9hZmZlYTRjNWUzOTA0N2E0YjM1NmU4NzJkZDllMmFkMCIgc3R5bGU9IndpZHRoOiAxMDAuMCU7IGhlaWdodDogMTAwLjAlOyI+Um91Z2UsIE1hbHZlcm48L2Rpdj5gKVswXTsKICAgICAgICAgICAgcG9wdXBfYmI2NDQ0NmM1MWVhNDFhODhkYjllYWY3YjE1YzVhMGIuc2V0Q29udGVudChodG1sX2FmZmVhNGM1ZTM5MDQ3YTRiMzU2ZTg3MmRkOWUyYWQwKTsKICAgICAgICAKCiAgICAgICAgbWFya2VyXzZmYzc5NDhiYTU0NTRiMjE4MGU5NDIwMDllNWIwYjg3LmJpbmRQb3B1cChwb3B1cF9iYjY0NDQ2YzUxZWE0MWE4OGRiOWVhZjdiMTVjNWEwYikKICAgICAgICA7CgogICAgICAgIAogICAgCiAgICAKICAgICAgICAgICAgdmFyIG1hcmtlcl82MmUwNzdjZTFkYmY0ZThjODdhY2Q2MjMxMDg0YTU1ZSA9IEwubWFya2VyKAogICAgICAgICAgICAgICAgWzQzLjc0OTA1NTAwMDAwMDA1NSwgLTc5LjM2MjIyNjcyNDk5OTk3XSwKICAgICAgICAgICAgICAgIHsicmFkaXVzIjogNX0KICAgICAgICAgICAgKS5hZGRUbyhtYXBfNGFiODE5Y2NhYzI5NGZiYjhhODIwNzczZGZkMDQyYjkpOwogICAgICAgIAogICAgCiAgICAgICAgdmFyIHBvcHVwXzI3OTJlMGQzMjE0YjRkN2VhNTllOTM4YWY0NzEwNjYyID0gTC5wb3B1cCh7Im1heFdpZHRoIjogIjEwMCUifSk7CgogICAgICAgIAogICAgICAgICAgICB2YXIgaHRtbF9kZGM3MTg5NjE3OGQ0NDAzOTVjZjdhMTE2NjgyODljZCA9ICQoYDxkaXYgaWQ9Imh0bWxfZGRjNzE4OTYxNzhkNDQwMzk1Y2Y3YTExNjY4Mjg5Y2QiIHN0eWxlPSJ3aWR0aDogMTAwLjAlOyBoZWlnaHQ6IDEwMC4wJTsiPkRvbiBNaWxscyBOb3J0aDwvZGl2PmApWzBdOwogICAgICAgICAgICBwb3B1cF8yNzkyZTBkMzIxNGI0ZDdlYTU5ZTkzOGFmNDcxMDY2Mi5zZXRDb250ZW50KGh0bWxfZGRjNzE4OTYxNzhkNDQwMzk1Y2Y3YTExNjY4Mjg5Y2QpOwogICAgICAgIAoKICAgICAgICBtYXJrZXJfNjJlMDc3Y2UxZGJmNGU4Yzg3YWNkNjIzMTA4NGE1NWUuYmluZFBvcHVwKHBvcHVwXzI3OTJlMGQzMjE0YjRkN2VhNTllOTM4YWY0NzEwNjYyKQogICAgICAgIDsKCiAgICAgICAgCiAgICAKICAgIAogICAgICAgICAgICB2YXIgbWFya2VyX2UzZTNiNDU1MzQ4ODQ4ZTM5NzQwZmQ1ZmNiNjU3MzAwID0gTC5tYXJrZXIoCiAgICAgICAgICAgICAgICBbNDMuNzA3NTM1MDAwMDAwMDY0LCAtNzkuMzExNzczMjk2OTk5OTVdLAogICAgICAgICAgICAgICAgeyJyYWRpdXMiOiA1fQogICAgICAgICAgICApLmFkZFRvKG1hcF80YWI4MTljY2FjMjk0ZmJiOGE4MjA3NzNkZmQwNDJiOSk7CiAgICAgICAgCiAgICAKICAgICAgICB2YXIgcG9wdXBfNGQ2MzYyMjRlYmRlNGMyMjgwMDlmNmI0Yzc0OWJiNmMgPSBMLnBvcHVwKHsibWF4V2lkdGgiOiAiMTAwJSJ9KTsKCiAgICAgICAgCiAgICAgICAgICAgIHZhciBodG1sXzQwMDgwZTUzYTYzMDQ0NGRiZDFkOTc4NzVhZGNhMmY2ID0gJChgPGRpdiBpZD0iaHRtbF80MDA4MGU1M2E2MzA0NDRkYmQxZDk3ODc1YWRjYTJmNiIgc3R5bGU9IndpZHRoOiAxMDAuMCU7IGhlaWdodDogMTAwLjAlOyI+V29vZGJpbmUgR2FyZGVucywgUGFya3ZpZXcgSGlsbDwvZGl2PmApWzBdOwogICAgICAgICAgICBwb3B1cF80ZDYzNjIyNGViZGU0YzIyODAwOWY2YjRjNzQ5YmI2Yy5zZXRDb250ZW50KGh0bWxfNDAwODBlNTNhNjMwNDQ0ZGJkMWQ5Nzg3NWFkY2EyZjYpOwogICAgICAgIAoKICAgICAgICBtYXJrZXJfZTNlM2I0NTUzNDg4NDhlMzk3NDBmZDVmY2I2NTczMDAuYmluZFBvcHVwKHBvcHVwXzRkNjM2MjI0ZWJkZTRjMjI4MDA5ZjZiNGM3NDliYjZjKQogICAgICAgIDsKCiAgICAgICAgCiAgICAKICAgIAogICAgICAgICAgICB2YXIgbWFya2VyX2RiOTc4NTE2M2ZlMDRhZTBiMjE4ZjU2NmRmOGU2ZWYzID0gTC5tYXJrZXIoCiAgICAgICAgICAgICAgICBbNDMuNjU3MzYzMDExMDAwMDMsIC03OS4zNzgxNzk5OTk5OTk5OV0sCiAgICAgICAgICAgICAgICB7InJhZGl1cyI6IDV9CiAgICAgICAgICAgICkuYWRkVG8obWFwXzRhYjgxOWNjYWMyOTRmYmI4YTgyMDc3M2RmZDA0MmI5KTsKICAgICAgICAKICAgIAogICAgICAgIHZhciBwb3B1cF80YmI3MDY4NTRlZGI0YmNjYjVlMzQ3ZGNjMGEyYTBmZSA9IEwucG9wdXAoeyJtYXhXaWR0aCI6ICIxMDAlIn0pOwoKICAgICAgICAKICAgICAgICAgICAgdmFyIGh0bWxfNDdkOGNkNjEyYjdlNGJiNGIwNWIxM2Y4MzllMzNhYjAgPSAkKGA8ZGl2IGlkPSJodG1sXzQ3ZDhjZDYxMmI3ZTRiYjRiMDViMTNmODM5ZTMzYWIwIiBzdHlsZT0id2lkdGg6IDEwMC4wJTsgaGVpZ2h0OiAxMDAuMCU7Ij5SeWVyc29uLCBHYXJkZW4gRGlzdHJpY3Q8L2Rpdj5gKVswXTsKICAgICAgICAgICAgcG9wdXBfNGJiNzA2ODU0ZWRiNGJjY2I1ZTM0N2RjYzBhMmEwZmUuc2V0Q29udGVudChodG1sXzQ3ZDhjZDYxMmI3ZTRiYjRiMDViMTNmODM5ZTMzYWIwKTsKICAgICAgICAKCiAgICAgICAgbWFya2VyX2RiOTc4NTE2M2ZlMDRhZTBiMjE4ZjU2NmRmOGU2ZWYzLmJpbmRQb3B1cChwb3B1cF80YmI3MDY4NTRlZGI0YmNjYjVlMzQ3ZGNjMGEyYTBmZSkKICAgICAgICA7CgogICAgICAgIAogICAgCiAgICAKICAgICAgICAgICAgdmFyIG1hcmtlcl81YzlhYWQxNWEwYzM0YmM4YjZhY2NlYjg5NWFlNzlhZCA9IEwubWFya2VyKAogICAgICAgICAgICAgICAgWzQzLjcwNzk5MDAwMDAwMDA1LCAtNzkuNDQ4MzY3MzMxOTk5OThdLAogICAgICAgICAgICAgICAgeyJyYWRpdXMiOiA1fQogICAgICAgICAgICApLmFkZFRvKG1hcF80YWI4MTljY2FjMjk0ZmJiOGE4MjA3NzNkZmQwNDJiOSk7CiAgICAgICAgCiAgICAKICAgICAgICB2YXIgcG9wdXBfMGRkYzAzOWM4YzBmNDQ0OTk3NTBkZTQ4NzZlOGNmZGYgPSBMLnBvcHVwKHsibWF4V2lkdGgiOiAiMTAwJSJ9KTsKCiAgICAgICAgCiAgICAgICAgICAgIHZhciBodG1sX2FmMTM4YThiODcxMjQxMTRhMDIzMjVkYjJjMDkzYjMwID0gJChgPGRpdiBpZD0iaHRtbF9hZjEzOGE4Yjg3MTI0MTE0YTAyMzI1ZGIyYzA5M2IzMCIgc3R5bGU9IndpZHRoOiAxMDAuMCU7IGhlaWdodDogMTAwLjAlOyI+R2xlbmNhaXJuPC9kaXY+YClbMF07CiAgICAgICAgICAgIHBvcHVwXzBkZGMwMzljOGMwZjQ0NDk5NzUwZGU0ODc2ZThjZmRmLnNldENvbnRlbnQoaHRtbF9hZjEzOGE4Yjg3MTI0MTE0YTAyMzI1ZGIyYzA5M2IzMCk7CiAgICAgICAgCgogICAgICAgIG1hcmtlcl81YzlhYWQxNWEwYzM0YmM4YjZhY2NlYjg5NWFlNzlhZC5iaW5kUG9wdXAocG9wdXBfMGRkYzAzOWM4YzBmNDQ0OTk3NTBkZTQ4NzZlOGNmZGYpCiAgICAgICAgOwoKICAgICAgICAKICAgIAogICAgCiAgICAgICAgICAgIHZhciBtYXJrZXJfYmJlZjg3NzllMzc2NDRlMDg0NDMxNDZhOTFkZTYwOWEgPSBMLm1hcmtlcigKICAgICAgICAgICAgICAgIFs0My42NTAzNDY5ODEwMDAwNCwgLTc5LjU1NTAzOTk5OTk5OTk2XSwKICAgICAgICAgICAgICAgIHsicmFkaXVzIjogNX0KICAgICAgICAgICAgKS5hZGRUbyhtYXBfNGFiODE5Y2NhYzI5NGZiYjhhODIwNzczZGZkMDQyYjkpOwogICAgICAgIAogICAgCiAgICAgICAgdmFyIHBvcHVwX2ZlMjJhNTdkOTU0ZjQzZWE5MzVjZmU1YjVhZDE0YTQwID0gTC5wb3B1cCh7Im1heFdpZHRoIjogIjEwMCUifSk7CgogICAgICAgIAogICAgICAgICAgICB2YXIgaHRtbF9kN2I0YTJjNzc3ZjI0ZDNkODJiMjMwOTIzNWVhYzVkZCA9ICQoYDxkaXYgaWQ9Imh0bWxfZDdiNGEyYzc3N2YyNGQzZDgyYjIzMDkyMzVlYWM1ZGQiIHN0eWxlPSJ3aWR0aDogMTAwLjAlOyBoZWlnaHQ6IDEwMC4wJTsiPkNsb3ZlcmRhbGUsIElzbGluZ3RvbiwgTWFydGluIEdyb3ZlLCBQcmluY2VzcyBHYXJkZW5zLCBXZXN0IERlYW5lIFBhcms8L2Rpdj5gKVswXTsKICAgICAgICAgICAgcG9wdXBfZmUyMmE1N2Q5NTRmNDNlYTkzNWNmZTViNWFkMTRhNDAuc2V0Q29udGVudChodG1sX2Q3YjRhMmM3NzdmMjRkM2Q4MmIyMzA5MjM1ZWFjNWRkKTsKICAgICAgICAKCiAgICAgICAgbWFya2VyX2JiZWY4Nzc5ZTM3NjQ0ZTA4NDQzMTQ2YTkxZGU2MDlhLmJpbmRQb3B1cChwb3B1cF9mZTIyYTU3ZDk1NGY0M2VhOTM1Y2ZlNWI1YWQxNGE0MCkKICAgICAgICA7CgogICAgICAgIAogICAgCiAgICAKICAgICAgICAgICAgdmFyIG1hcmtlcl80ZGFjMzQwOGQzNWI0ODRmYTBiMWRiNjM4YTUxZjlhZiA9IEwubWFya2VyKAogICAgICAgICAgICAgICAgWzQzLjc4NTY2NTAwMDAwMDA1LCAtNzkuMTU4NzI0NTcyOTk5OTddLAogICAgICAgICAgICAgICAgeyJyYWRpdXMiOiA1fQogICAgICAgICAgICApLmFkZFRvKG1hcF80YWI4MTljY2FjMjk0ZmJiOGE4MjA3NzNkZmQwNDJiOSk7CiAgICAgICAgCiAgICAKICAgICAgICB2YXIgcG9wdXBfMTRmNWExODJmNmRjNDlmZjkxODU2MTk5ZmI1ODEwM2UgPSBMLnBvcHVwKHsibWF4V2lkdGgiOiAiMTAwJSJ9KTsKCiAgICAgICAgCiAgICAgICAgICAgIHZhciBodG1sX2ZkZjc3ZjI4YmU1NzRiNTdiOGZlZTM5MThjYjY5NDAyID0gJChgPGRpdiBpZD0iaHRtbF9mZGY3N2YyOGJlNTc0YjU3YjhmZWUzOTE4Y2I2OTQwMiIgc3R5bGU9IndpZHRoOiAxMDAuMCU7IGhlaWdodDogMTAwLjAlOyI+SGlnaGxhbmQgQ3JlZWssIFJvdWdlIEhpbGwsIFBvcnQgVW5pb248L2Rpdj5gKVswXTsKICAgICAgICAgICAgcG9wdXBfMTRmNWExODJmNmRjNDlmZjkxODU2MTk5ZmI1ODEwM2Uuc2V0Q29udGVudChodG1sX2ZkZjc3ZjI4YmU1NzRiNTdiOGZlZTM5MThjYjY5NDAyKTsKICAgICAgICAKCiAgICAgICAgbWFya2VyXzRkYWMzNDA4ZDM1YjQ4NGZhMGIxZGI2MzhhNTFmOWFmLmJpbmRQb3B1cChwb3B1cF8xNGY1YTE4MmY2ZGM0OWZmOTE4NTYxOTlmYjU4MTAzZSkKICAgICAgICA7CgogICAgICAgIAogICAgCiAgICAKICAgICAgICAgICAgdmFyIG1hcmtlcl9kYjM0ZGNhMTkyODc0N2E3YmE1ZGUxZGJlNzUwNGQ3NiA9IEwubWFya2VyKAogICAgICAgICAgICAgICAgWzQzLjcyMTQyNTAwMDAwMDA3LCAtNzkuMzQzNDU0MjI3OTk5OThdLAogICAgICAgICAgICAgICAgeyJyYWRpdXMiOiA1fQogICAgICAgICAgICApLmFkZFRvKG1hcF80YWI4MTljY2FjMjk0ZmJiOGE4MjA3NzNkZmQwNDJiOSk7CiAgICAgICAgCiAgICAKICAgICAgICB2YXIgcG9wdXBfMDE3MjgxYTg2NTFkNGJiMmEyNzU0YTNlZjU5YmNiZmUgPSBMLnBvcHVwKHsibWF4V2lkdGgiOiAiMTAwJSJ9KTsKCiAgICAgICAgCiAgICAgICAgICAgIHZhciBodG1sXzZiMWI4MDFlMTI3MjQ1YjE5MmVkZTdhZTg5YmI1NmNlID0gJChgPGRpdiBpZD0iaHRtbF82YjFiODAxZTEyNzI0NWIxOTJlZGU3YWU4OWJiNTZjZSIgc3R5bGU9IndpZHRoOiAxMDAuMCU7IGhlaWdodDogMTAwLjAlOyI+RmxlbWluZ2RvbiBQYXJrLCBEb24gTWlsbHMgU291dGg8L2Rpdj5gKVswXTsKICAgICAgICAgICAgcG9wdXBfMDE3MjgxYTg2NTFkNGJiMmEyNzU0YTNlZjU5YmNiZmUuc2V0Q29udGVudChodG1sXzZiMWI4MDFlMTI3MjQ1YjE5MmVkZTdhZTg5YmI1NmNlKTsKICAgICAgICAKCiAgICAgICAgbWFya2VyX2RiMzRkY2ExOTI4NzQ3YTdiYTVkZTFkYmU3NTA0ZDc2LmJpbmRQb3B1cChwb3B1cF8wMTcyODFhODY1MWQ0YmIyYTI3NTRhM2VmNTliY2JmZSkKICAgICAgICA7CgogICAgICAgIAogICAgCiAgICAKICAgICAgICAgICAgdmFyIG1hcmtlcl81OGQxMGUzMDBiZjE0YzRjYWI2NzcwNzhmMWVmZjE3NSA9IEwubWFya2VyKAogICAgICAgICAgICAgICAgWzQzLjY4OTY0MDAwMDAwMDA1NCwgLTc5LjMwNjg3Mzg3Nzk5OTk4XSwKICAgICAgICAgICAgICAgIHsicmFkaXVzIjogNX0KICAgICAgICAgICAgKS5hZGRUbyhtYXBfNGFiODE5Y2NhYzI5NGZiYjhhODIwNzczZGZkMDQyYjkpOwogICAgICAgIAogICAgCiAgICAgICAgdmFyIHBvcHVwXzA1ZjE3NTIxY2M0MTQyZTg4NGQ3MTE2N2Y5NDkwYTAxID0gTC5wb3B1cCh7Im1heFdpZHRoIjogIjEwMCUifSk7CgogICAgICAgIAogICAgICAgICAgICB2YXIgaHRtbF9kN2E1MDAzNWMyYzk0NjdiOGY2MGFiNTg5ZDdiNmY0OCA9ICQoYDxkaXYgaWQ9Imh0bWxfZDdhNTAwMzVjMmM5NDY3YjhmNjBhYjU4OWQ3YjZmNDgiIHN0eWxlPSJ3aWR0aDogMTAwLjAlOyBoZWlnaHQ6IDEwMC4wJTsiPldvb2RiaW5lIEhlaWdodHM8L2Rpdj5gKVswXTsKICAgICAgICAgICAgcG9wdXBfMDVmMTc1MjFjYzQxNDJlODg0ZDcxMTY3Zjk0OTBhMDEuc2V0Q29udGVudChodG1sX2Q3YTUwMDM1YzJjOTQ2N2I4ZjYwYWI1ODlkN2I2ZjQ4KTsKICAgICAgICAKCiAgICAgICAgbWFya2VyXzU4ZDEwZTMwMGJmMTRjNGNhYjY3NzA3OGYxZWZmMTc1LmJpbmRQb3B1cChwb3B1cF8wNWYxNzUyMWNjNDE0MmU4ODRkNzExNjdmOTQ5MGEwMSkKICAgICAgICA7CgogICAgICAgIAogICAgCiAgICAKICAgICAgICAgICAgdmFyIG1hcmtlcl85ZDdiOTAxMTI4ZWI0Yzc2ODE1ODYxYzlhOGFjNDI0ZSA9IEwubWFya2VyKAogICAgICAgICAgICAgICAgWzQzLjY1MTIxMDAwMDAwMDA1LCAtNzkuMzc1NDgwNTc2OTk5OTZdLAogICAgICAgICAgICAgICAgeyJyYWRpdXMiOiA1fQogICAgICAgICAgICApLmFkZFRvKG1hcF80YWI4MTljY2FjMjk0ZmJiOGE4MjA3NzNkZmQwNDJiOSk7CiAgICAgICAgCiAgICAKICAgICAgICB2YXIgcG9wdXBfNmE0YjRkYzViYzIwNGFkMjhhNDhmOTBlMjU5ODE5YmUgPSBMLnBvcHVwKHsibWF4V2lkdGgiOiAiMTAwJSJ9KTsKCiAgICAgICAgCiAgICAgICAgICAgIHZhciBodG1sX2ZhZWY1OTE3MjM5YTRiNmZiZGIwNzM2ZGY0ZmE5ZTlhID0gJChgPGRpdiBpZD0iaHRtbF9mYWVmNTkxNzIzOWE0YjZmYmRiMDczNmRmNGZhOWU5YSIgc3R5bGU9IndpZHRoOiAxMDAuMCU7IGhlaWdodDogMTAwLjAlOyI+U3QuIEphbWVzIFRvd248L2Rpdj5gKVswXTsKICAgICAgICAgICAgcG9wdXBfNmE0YjRkYzViYzIwNGFkMjhhNDhmOTBlMjU5ODE5YmUuc2V0Q29udGVudChodG1sX2ZhZWY1OTE3MjM5YTRiNmZiZGIwNzM2ZGY0ZmE5ZTlhKTsKICAgICAgICAKCiAgICAgICAgbWFya2VyXzlkN2I5MDExMjhlYjRjNzY4MTU4NjFjOWE4YWM0MjRlLmJpbmRQb3B1cChwb3B1cF82YTRiNGRjNWJjMjA0YWQyOGE0OGY5MGUyNTk4MTliZSkKICAgICAgICA7CgogICAgICAgIAogICAgCiAgICAKICAgICAgICAgICAgdmFyIG1hcmtlcl9iOTA1YjNlZmYwZmM0MTM1YTI1ODk3ZmU0ZjU4MjVlYSA9IEwubWFya2VyKAogICAgICAgICAgICAgICAgWzQzLjY5MjEwNTE3ODAwMDA4LCAtNzkuNDMwMzU0OTk5OTk5OTZdLAogICAgICAgICAgICAgICAgeyJyYWRpdXMiOiA1fQogICAgICAgICAgICApLmFkZFRvKG1hcF80YWI4MTljY2FjMjk0ZmJiOGE4MjA3NzNkZmQwNDJiOSk7CiAgICAgICAgCiAgICAKICAgICAgICB2YXIgcG9wdXBfNDFlN2NkN2ZhN2EzNGY5MGI3YmQ1YjQzNzlhZjY5NTQgPSBMLnBvcHVwKHsibWF4V2lkdGgiOiAiMTAwJSJ9KTsKCiAgICAgICAgCiAgICAgICAgICAgIHZhciBodG1sX2QwNDhhZDc5MmVjMDQwMzU5Y2NiNGY4NjE2NmFkZmUxID0gJChgPGRpdiBpZD0iaHRtbF9kMDQ4YWQ3OTJlYzA0MDM1OWNjYjRmODYxNjZhZGZlMSIgc3R5bGU9IndpZHRoOiAxMDAuMCU7IGhlaWdodDogMTAwLjAlOyI+SHVtZXdvb2QtQ2VkYXJ2YWxlPC9kaXY+YClbMF07CiAgICAgICAgICAgIHBvcHVwXzQxZTdjZDdmYTdhMzRmOTBiN2JkNWI0Mzc5YWY2OTU0LnNldENvbnRlbnQoaHRtbF9kMDQ4YWQ3OTJlYzA0MDM1OWNjYjRmODYxNjZhZGZlMSk7CiAgICAgICAgCgogICAgICAgIG1hcmtlcl9iOTA1YjNlZmYwZmM0MTM1YTI1ODk3ZmU0ZjU4MjVlYS5iaW5kUG9wdXAocG9wdXBfNDFlN2NkN2ZhN2EzNGY5MGI3YmQ1YjQzNzlhZjY5NTQpCiAgICAgICAgOwoKICAgICAgICAKICAgIAogICAgCiAgICAgICAgICAgIHZhciBtYXJrZXJfYmQ5YjQ1NWNlMjZmNGMzODk2YTZiMmE3NjdiZDVlNjYgPSBMLm1hcmtlcigKICAgICAgICAgICAgICAgIFs0My42NDg1NzM0NDkwMDAwMjUsIC03OS41NzgyNDk5OTk5OTk5N10sCiAgICAgICAgICAgICAgICB7InJhZGl1cyI6IDV9CiAgICAgICAgICAgICkuYWRkVG8obWFwXzRhYjgxOWNjYWMyOTRmYmI4YTgyMDc3M2RmZDA0MmI5KTsKICAgICAgICAKICAgIAogICAgICAgIHZhciBwb3B1cF8yZmM4Mzk1YTcyMjQ0NGJkOGNmYWM2ZDIxZGViZTAwMSA9IEwucG9wdXAoeyJtYXhXaWR0aCI6ICIxMDAlIn0pOwoKICAgICAgICAKICAgICAgICAgICAgdmFyIGh0bWxfMzQ1NDY3NmEzMGQ5NDZjNmIwODYxMGZkZTg5ZmU1ZjQgPSAkKGA8ZGl2IGlkPSJodG1sXzM0NTQ2NzZhMzBkOTQ2YzZiMDg2MTBmZGU4OWZlNWY0IiBzdHlsZT0id2lkdGg6IDEwMC4wJTsgaGVpZ2h0OiAxMDAuMCU7Ij5CbG9vcmRhbGUgR2FyZGVucywgRXJpbmdhdGUsIE1hcmtsYW5kIFdvb2QsIE9sZCBCdXJuaGFtdGhvcnBlPC9kaXY+YClbMF07CiAgICAgICAgICAgIHBvcHVwXzJmYzgzOTVhNzIyNDQ0YmQ4Y2ZhYzZkMjFkZWJlMDAxLnNldENvbnRlbnQoaHRtbF8zNDU0Njc2YTMwZDk0NmM2YjA4NjEwZmRlODlmZTVmNCk7CiAgICAgICAgCgogICAgICAgIG1hcmtlcl9iZDliNDU1Y2UyNmY0YzM4OTZhNmIyYTc2N2JkNWU2Ni5iaW5kUG9wdXAocG9wdXBfMmZjODM5NWE3MjI0NDRiZDhjZmFjNmQyMWRlYmUwMDEpCiAgICAgICAgOwoKICAgICAgICAKICAgIAogICAgCiAgICAgICAgICAgIHZhciBtYXJrZXJfYzVkMzY1NWJjNzJlNGRkYmEwZWRmZDA2NWI4M2NkMWMgPSBMLm1hcmtlcigKICAgICAgICAgICAgICAgIFs0My43NjU4MTUwMDAwMDAwMywgLTc5LjE3NTE5Mjk0Njk5OTk3XSwKICAgICAgICAgICAgICAgIHsicmFkaXVzIjogNX0KICAgICAgICAgICAgKS5hZGRUbyhtYXBfNGFiODE5Y2NhYzI5NGZiYjhhODIwNzczZGZkMDQyYjkpOwogICAgICAgIAogICAgCiAgICAgICAgdmFyIHBvcHVwX2U2ZGMwN2RjMDc2YjQ5YzJhNDExOTUyYmE3N2NkMGMxID0gTC5wb3B1cCh7Im1heFdpZHRoIjogIjEwMCUifSk7CgogICAgICAgIAogICAgICAgICAgICB2YXIgaHRtbF9mYTU2ZWU1OWIwODM0NzM3YmE1ZmViZmEyOTM3OWZjZCA9ICQoYDxkaXYgaWQ9Imh0bWxfZmE1NmVlNTliMDgzNDczN2JhNWZlYmZhMjkzNzlmY2QiIHN0eWxlPSJ3aWR0aDogMTAwLjAlOyBoZWlnaHQ6IDEwMC4wJTsiPkd1aWxkd29vZCwgTW9ybmluZ3NpZGUsIFdlc3QgSGlsbDwvZGl2PmApWzBdOwogICAgICAgICAgICBwb3B1cF9lNmRjMDdkYzA3NmI0OWMyYTQxMTk1MmJhNzdjZDBjMS5zZXRDb250ZW50KGh0bWxfZmE1NmVlNTliMDgzNDczN2JhNWZlYmZhMjkzNzlmY2QpOwogICAgICAgIAoKICAgICAgICBtYXJrZXJfYzVkMzY1NWJjNzJlNGRkYmEwZWRmZDA2NWI4M2NkMWMuYmluZFBvcHVwKHBvcHVwX2U2ZGMwN2RjMDc2YjQ5YzJhNDExOTUyYmE3N2NkMGMxKQogICAgICAgIDsKCiAgICAgICAgCiAgICAKICAgIAogICAgICAgICAgICB2YXIgbWFya2VyXzIwMWNmZjU0MjQ0OTQwZWZhMjAzYzQzNzVjNjkxMzljID0gTC5tYXJrZXIoCiAgICAgICAgICAgICAgICBbNDMuNjc2NTMxMjE2MDAwMDYsIC03OS4yOTU0MjQ5OTk5OTk5N10sCiAgICAgICAgICAgICAgICB7InJhZGl1cyI6IDV9CiAgICAgICAgICAgICkuYWRkVG8obWFwXzRhYjgxOWNjYWMyOTRmYmI4YTgyMDc3M2RmZDA0MmI5KTsKICAgICAgICAKICAgIAogICAgICAgIHZhciBwb3B1cF8wMWZlODMyMzg2NTA0MTEzOWUyMTdkNWU2OGU1OGZhMSA9IEwucG9wdXAoeyJtYXhXaWR0aCI6ICIxMDAlIn0pOwoKICAgICAgICAKICAgICAgICAgICAgdmFyIGh0bWxfOGQxNDI3MDVlYjEwNDFkOWE3NTViYjVmOTM0MGJiNjYgPSAkKGA8ZGl2IGlkPSJodG1sXzhkMTQyNzA1ZWIxMDQxZDlhNzU1YmI1ZjkzNDBiYjY2IiBzdHlsZT0id2lkdGg6IDEwMC4wJTsgaGVpZ2h0OiAxMDAuMCU7Ij5UaGUgQmVhY2hlczwvZGl2PmApWzBdOwogICAgICAgICAgICBwb3B1cF8wMWZlODMyMzg2NTA0MTEzOWUyMTdkNWU2OGU1OGZhMS5zZXRDb250ZW50KGh0bWxfOGQxNDI3MDVlYjEwNDFkOWE3NTViYjVmOTM0MGJiNjYpOwogICAgICAgIAoKICAgICAgICBtYXJrZXJfMjAxY2ZmNTQyNDQ5NDBlZmEyMDNjNDM3NWM2OTEzOWMuYmluZFBvcHVwKHBvcHVwXzAxZmU4MzIzODY1MDQxMTM5ZTIxN2Q1ZTY4ZTU4ZmExKQogICAgICAgIDsKCiAgICAgICAgCiAgICAKICAgIAogICAgICAgICAgICB2YXIgbWFya2VyXzA3NmM3YmVmNGEyYzQyZmViNjFiMGJiMjUyOTgwMDE1ID0gTC5tYXJrZXIoCiAgICAgICAgICAgICAgICBbNDMuNjQ1MTYwMTU2MDAwMDMsIC03OS4zNzM2NzQ5OTk5OTk5M10sCiAgICAgICAgICAgICAgICB7InJhZGl1cyI6IDV9CiAgICAgICAgICAgICkuYWRkVG8obWFwXzRhYjgxOWNjYWMyOTRmYmI4YTgyMDc3M2RmZDA0MmI5KTsKICAgICAgICAKICAgIAogICAgICAgIHZhciBwb3B1cF8xYzU5ODcxYTFmMjA0YzZlYjY1OGQ4ZWZiNjA3YzE1OSA9IEwucG9wdXAoeyJtYXhXaWR0aCI6ICIxMDAlIn0pOwoKICAgICAgICAKICAgICAgICAgICAgdmFyIGh0bWxfM2JlYzJhNGExZmJhNGQ4M2E3YWI3NzY4OWQ4ZDI4NTAgPSAkKGA8ZGl2IGlkPSJodG1sXzNiZWMyYTRhMWZiYTRkODNhN2FiNzc2ODlkOGQyODUwIiBzdHlsZT0id2lkdGg6IDEwMC4wJTsgaGVpZ2h0OiAxMDAuMCU7Ij5CZXJjenkgUGFyazwvZGl2PmApWzBdOwogICAgICAgICAgICBwb3B1cF8xYzU5ODcxYTFmMjA0YzZlYjY1OGQ4ZWZiNjA3YzE1OS5zZXRDb250ZW50KGh0bWxfM2JlYzJhNGExZmJhNGQ4M2E3YWI3NzY4OWQ4ZDI4NTApOwogICAgICAgIAoKICAgICAgICBtYXJrZXJfMDc2YzdiZWY0YTJjNDJmZWI2MWIwYmIyNTI5ODAwMTUuYmluZFBvcHVwKHBvcHVwXzFjNTk4NzFhMWYyMDRjNmViNjU4ZDhlZmI2MDdjMTU5KQogICAgICAgIDsKCiAgICAgICAgCiAgICAKICAgIAogICAgICAgICAgICB2YXIgbWFya2VyXzRmMmY2OTI4OTE3ZjRmN2U4YzdmZTVmYTE3YjQ4M2ZlID0gTC5tYXJrZXIoCiAgICAgICAgICAgICAgICBbNDMuNjg4NjQwMDAwMDAwMDgsIC03OS40NTEwMTc2MTM5OTk5N10sCiAgICAgICAgICAgICAgICB7InJhZGl1cyI6IDV9CiAgICAgICAgICAgICkuYWRkVG8obWFwXzRhYjgxOWNjYWMyOTRmYmI4YTgyMDc3M2RmZDA0MmI5KTsKICAgICAgICAKICAgIAogICAgICAgIHZhciBwb3B1cF8yOTkxMWFmZTI1OWI0M2EwYTZiMWVmZGU3MmYzMzMzZiA9IEwucG9wdXAoeyJtYXhXaWR0aCI6ICIxMDAlIn0pOwoKICAgICAgICAKICAgICAgICAgICAgdmFyIGh0bWxfNGNlOWVjMDRmYzMyNGM2MDkzYTNhMDc3MWE2NWUyNWYgPSAkKGA8ZGl2IGlkPSJodG1sXzRjZTllYzA0ZmMzMjRjNjA5M2EzYTA3NzFhNjVlMjVmIiBzdHlsZT0id2lkdGg6IDEwMC4wJTsgaGVpZ2h0OiAxMDAuMCU7Ij5DYWxlZG9uaWEtRmFpcmJhbmtzPC9kaXY+YClbMF07CiAgICAgICAgICAgIHBvcHVwXzI5OTExYWZlMjU5YjQzYTBhNmIxZWZkZTcyZjMzMzNmLnNldENvbnRlbnQoaHRtbF80Y2U5ZWMwNGZjMzI0YzYwOTNhM2EwNzcxYTY1ZTI1Zik7CiAgICAgICAgCgogICAgICAgIG1hcmtlcl80ZjJmNjkyODkxN2Y0ZjdlOGM3ZmU1ZmExN2I0ODNmZS5iaW5kUG9wdXAocG9wdXBfMjk5MTFhZmUyNTliNDNhMGE2YjFlZmRlNzJmMzMzM2YpCiAgICAgICAgOwoKICAgICAgICAKICAgIAogICAgCiAgICAgICAgICAgIHZhciBtYXJrZXJfZDk4M2I3NTA1YmQzNDc4NGJlNTk0NTJhMTZjZjUzYjIgPSBMLm1hcmtlcigKICAgICAgICAgICAgICAgIFs0My43NjgzNjkxMjEwMDAwMzUsIC03OS4yMTc1ODk5OTk5OTk5N10sCiAgICAgICAgICAgICAgICB7InJhZGl1cyI6IDV9CiAgICAgICAgICAgICkuYWRkVG8obWFwXzRhYjgxOWNjYWMyOTRmYmI4YTgyMDc3M2RmZDA0MmI5KTsKICAgICAgICAKICAgIAogICAgICAgIHZhciBwb3B1cF9jYzEwZTVjZTZkNDk0ZmRiOTE3OGFmN2M0ODRhYzU5OSA9IEwucG9wdXAoeyJtYXhXaWR0aCI6ICIxMDAlIn0pOwoKICAgICAgICAKICAgICAgICAgICAgdmFyIGh0bWxfYTNlMjEwYWEzYmVmNDhkYTkzNGIwZGY1ZjI0Yzk2YTkgPSAkKGA8ZGl2IGlkPSJodG1sX2EzZTIxMGFhM2JlZjQ4ZGE5MzRiMGRmNWYyNGM5NmE5IiBzdHlsZT0id2lkdGg6IDEwMC4wJTsgaGVpZ2h0OiAxMDAuMCU7Ij5Xb2J1cm48L2Rpdj5gKVswXTsKICAgICAgICAgICAgcG9wdXBfY2MxMGU1Y2U2ZDQ5NGZkYjkxNzhhZjdjNDg0YWM1OTkuc2V0Q29udGVudChodG1sX2EzZTIxMGFhM2JlZjQ4ZGE5MzRiMGRmNWYyNGM5NmE5KTsKICAgICAgICAKCiAgICAgICAgbWFya2VyX2Q5ODNiNzUwNWJkMzQ3ODRiZTU5NDUyYTE2Y2Y1M2IyLmJpbmRQb3B1cChwb3B1cF9jYzEwZTVjZTZkNDk0ZmRiOTE3OGFmN2M0ODRhYzU5OSkKICAgICAgICA7CgogICAgICAgIAogICAgCiAgICAKICAgICAgICAgICAgdmFyIG1hcmtlcl9iNDA3ZjUwMDQ5MDU0YzZkYTNiOTU0OWQ5MTM3NmQ3ZCA9IEwubWFya2VyKAogICAgICAgICAgICAgICAgWzQzLjcwOTQ5NTAwMDAwMDA2LCAtNzkuMzYzOTg4OTcwOTk5OTddLAogICAgICAgICAgICAgICAgeyJyYWRpdXMiOiA1fQogICAgICAgICAgICApLmFkZFRvKG1hcF80YWI4MTljY2FjMjk0ZmJiOGE4MjA3NzNkZmQwNDJiOSk7CiAgICAgICAgCiAgICAKICAgICAgICB2YXIgcG9wdXBfOTViNWVkZWE2YTYyNDM3YmIxNGIyZTlhN2U0ZmQxZmEgPSBMLnBvcHVwKHsibWF4V2lkdGgiOiAiMTAwJSJ9KTsKCiAgICAgICAgCiAgICAgICAgICAgIHZhciBodG1sXzI2OTNmYjMwNzA5MTQzNTNiMDZjZmMzYTZmNTk1NzBlID0gJChgPGRpdiBpZD0iaHRtbF8yNjkzZmIzMDcwOTE0MzUzYjA2Y2ZjM2E2ZjU5NTcwZSIgc3R5bGU9IndpZHRoOiAxMDAuMCU7IGhlaWdodDogMTAwLjAlOyI+TGVhc2lkZTwvZGl2PmApWzBdOwogICAgICAgICAgICBwb3B1cF85NWI1ZWRlYTZhNjI0MzdiYjE0YjJlOWE3ZTRmZDFmYS5zZXRDb250ZW50KGh0bWxfMjY5M2ZiMzA3MDkxNDM1M2IwNmNmYzNhNmY1OTU3MGUpOwogICAgICAgIAoKICAgICAgICBtYXJrZXJfYjQwN2Y1MDA0OTA1NGM2ZGEzYjk1NDlkOTEzNzZkN2QuYmluZFBvcHVwKHBvcHVwXzk1YjVlZGVhNmE2MjQzN2JiMTRiMmU5YTdlNGZkMWZhKQogICAgICAgIDsKCiAgICAgICAgCiAgICAKICAgIAogICAgICAgICAgICB2YXIgbWFya2VyXzY5N2U4NmZmNmY1YjRjNjBhNjcxYjc1NjgzZWI1YTgzID0gTC5tYXJrZXIoCiAgICAgICAgICAgICAgICBbNDMuNjU2MDkwODEzMDAwMDUsIC03OS4zODQ5Mjk5OTk5OTk5NF0sCiAgICAgICAgICAgICAgICB7InJhZGl1cyI6IDV9CiAgICAgICAgICAgICkuYWRkVG8obWFwXzRhYjgxOWNjYWMyOTRmYmI4YTgyMDc3M2RmZDA0MmI5KTsKICAgICAgICAKICAgIAogICAgICAgIHZhciBwb3B1cF85MjFlMGJmMWE0N2Y0N2M5YmE1YjQ4Njg1NTk4MDI4YyA9IEwucG9wdXAoeyJtYXhXaWR0aCI6ICIxMDAlIn0pOwoKICAgICAgICAKICAgICAgICAgICAgdmFyIGh0bWxfOTliNGVkY2I0ZTMzNGIzODlkMTM2NTc3YjQ3Zjg3OWIgPSAkKGA8ZGl2IGlkPSJodG1sXzk5YjRlZGNiNGUzMzRiMzg5ZDEzNjU3N2I0N2Y4NzliIiBzdHlsZT0id2lkdGg6IDEwMC4wJTsgaGVpZ2h0OiAxMDAuMCU7Ij5DZW50cmFsIEJheSBTdHJlZXQ8L2Rpdj5gKVswXTsKICAgICAgICAgICAgcG9wdXBfOTIxZTBiZjFhNDdmNDdjOWJhNWI0ODY4NTU5ODAyOGMuc2V0Q29udGVudChodG1sXzk5YjRlZGNiNGUzMzRiMzg5ZDEzNjU3N2I0N2Y4NzliKTsKICAgICAgICAKCiAgICAgICAgbWFya2VyXzY5N2U4NmZmNmY1YjRjNjBhNjcxYjc1NjgzZWI1YTgzLmJpbmRQb3B1cChwb3B1cF85MjFlMGJmMWE0N2Y0N2M5YmE1YjQ4Njg1NTk4MDI4YykKICAgICAgICA7CgogICAgICAgIAogICAgCiAgICAKICAgICAgICAgICAgdmFyIG1hcmtlcl85Y2FkYmExMmY3Zjc0OTE4ODhkY2U5N2ZhNzY0ZmE0ZCA9IEwubWFya2VyKAogICAgICAgICAgICAgICAgWzQzLjY2ODc4MTMyODAwMDA4LCAtNzkuNDIwNzA5OTk5OTk5OTldLAogICAgICAgICAgICAgICAgeyJyYWRpdXMiOiA1fQogICAgICAgICAgICApLmFkZFRvKG1hcF80YWI4MTljY2FjMjk0ZmJiOGE4MjA3NzNkZmQwNDJiOSk7CiAgICAgICAgCiAgICAKICAgICAgICB2YXIgcG9wdXBfNzAwZDYzYjYzODYwNDI5ZGFkODNiNmUwMTBiYWE1YjEgPSBMLnBvcHVwKHsibWF4V2lkdGgiOiAiMTAwJSJ9KTsKCiAgICAgICAgCiAgICAgICAgICAgIHZhciBodG1sXzE0N2EzM2QzNDE2NDQwNTFiMDcxYTY1NTUyNmE5MTk3ID0gJChgPGRpdiBpZD0iaHRtbF8xNDdhMzNkMzQxNjQ0MDUxYjA3MWE2NTU1MjZhOTE5NyIgc3R5bGU9IndpZHRoOiAxMDAuMCU7IGhlaWdodDogMTAwLjAlOyI+Q2hyaXN0aWU8L2Rpdj5gKVswXTsKICAgICAgICAgICAgcG9wdXBfNzAwZDYzYjYzODYwNDI5ZGFkODNiNmUwMTBiYWE1YjEuc2V0Q29udGVudChodG1sXzE0N2EzM2QzNDE2NDQwNTFiMDcxYTY1NTUyNmE5MTk3KTsKICAgICAgICAKCiAgICAgICAgbWFya2VyXzljYWRiYTEyZjdmNzQ5MTg4OGRjZTk3ZmE3NjRmYTRkLmJpbmRQb3B1cChwb3B1cF83MDBkNjNiNjM4NjA0MjlkYWQ4M2I2ZTAxMGJhYTViMSkKICAgICAgICA7CgogICAgICAgIAogICAgCiAgICAKICAgICAgICAgICAgdmFyIG1hcmtlcl9jZTM3ODIyZTgzZWQ0ODljYTA2MmYzNTQwODdmNjQ1YyA9IEwubWFya2VyKAogICAgICAgICAgICAgICAgWzQzLjc2OTY4Nzk5OTAwMDA0LCAtNzkuMjM5NDM5OTk5OTk5OTVdLAogICAgICAgICAgICAgICAgeyJyYWRpdXMiOiA1fQogICAgICAgICAgICApLmFkZFRvKG1hcF80YWI4MTljY2FjMjk0ZmJiOGE4MjA3NzNkZmQwNDJiOSk7CiAgICAgICAgCiAgICAKICAgICAgICB2YXIgcG9wdXBfM2MxOGFhMGVjYzk2NGM0NmIwN2EzOTZhNzhmMzg1OTIgPSBMLnBvcHVwKHsibWF4V2lkdGgiOiAiMTAwJSJ9KTsKCiAgICAgICAgCiAgICAgICAgICAgIHZhciBodG1sX2QyNDhmN2EzYzRmMjRhNDRiMzYwZGVhZTc1ZjNkMTdkID0gJChgPGRpdiBpZD0iaHRtbF9kMjQ4ZjdhM2M0ZjI0YTQ0YjM2MGRlYWU3NWYzZDE3ZCIgc3R5bGU9IndpZHRoOiAxMDAuMCU7IGhlaWdodDogMTAwLjAlOyI+Q2VkYXJicmFlPC9kaXY+YClbMF07CiAgICAgICAgICAgIHBvcHVwXzNjMThhYTBlY2M5NjRjNDZiMDdhMzk2YTc4ZjM4NTkyLnNldENvbnRlbnQoaHRtbF9kMjQ4ZjdhM2M0ZjI0YTQ0YjM2MGRlYWU3NWYzZDE3ZCk7CiAgICAgICAgCgogICAgICAgIG1hcmtlcl9jZTM3ODIyZTgzZWQ0ODljYTA2MmYzNTQwODdmNjQ1Yy5iaW5kUG9wdXAocG9wdXBfM2MxOGFhMGVjYzk2NGM0NmIwN2EzOTZhNzhmMzg1OTIpCiAgICAgICAgOwoKICAgICAgICAKICAgIAogICAgCiAgICAgICAgICAgIHZhciBtYXJrZXJfODRkZjdkZjE4MWVlNGU3YWE2MWZlYzM4NGYyMWUxMGQgPSBMLm1hcmtlcigKICAgICAgICAgICAgICAgIFs0My44MDI4NDUwMDAwMDAwNSwgLTc5LjM1NjIwNzQ0OTk5OTk0XSwKICAgICAgICAgICAgICAgIHsicmFkaXVzIjogNX0KICAgICAgICAgICAgKS5hZGRUbyhtYXBfNGFiODE5Y2NhYzI5NGZiYjhhODIwNzczZGZkMDQyYjkpOwogICAgICAgIAogICAgCiAgICAgICAgdmFyIHBvcHVwX2M4NzYzZTg2YmVkZDRhNzU4ZjNlNzU5ZDkwYTU0ZDI2ID0gTC5wb3B1cCh7Im1heFdpZHRoIjogIjEwMCUifSk7CgogICAgICAgIAogICAgICAgICAgICB2YXIgaHRtbF85M2RmZjQ4ODE5YmI0YTFkOWU4NjM1OGI3ZDA2ZGMxNyA9ICQoYDxkaXYgaWQ9Imh0bWxfOTNkZmY0ODgxOWJiNGExZDllODYzNThiN2QwNmRjMTciIHN0eWxlPSJ3aWR0aDogMTAwLjAlOyBoZWlnaHQ6IDEwMC4wJTsiPkhpbGxjcmVzdCBWaWxsYWdlPC9kaXY+YClbMF07CiAgICAgICAgICAgIHBvcHVwX2M4NzYzZTg2YmVkZDRhNzU4ZjNlNzU5ZDkwYTU0ZDI2LnNldENvbnRlbnQoaHRtbF85M2RmZjQ4ODE5YmI0YTFkOWU4NjM1OGI3ZDA2ZGMxNyk7CiAgICAgICAgCgogICAgICAgIG1hcmtlcl84NGRmN2RmMTgxZWU0ZTdhYTYxZmVjMzg0ZjIxZTEwZC5iaW5kUG9wdXAocG9wdXBfYzg3NjNlODZiZWRkNGE3NThmM2U3NTlkOTBhNTRkMjYpCiAgICAgICAgOwoKICAgICAgICAKICAgIAogICAgCiAgICAgICAgICAgIHZhciBtYXJrZXJfMGIxYjllYjY0N2JmNGY0Njg1Njk3OTYxOTUzZmEyYzYgPSBMLm1hcmtlcigKICAgICAgICAgICAgICAgIFs0My43NTc4NzUwMDAwMDAwNywgLTc5LjQ0ODY4NzY0Nzk5OTk4XSwKICAgICAgICAgICAgICAgIHsicmFkaXVzIjogNX0KICAgICAgICAgICAgKS5hZGRUbyhtYXBfNGFiODE5Y2NhYzI5NGZiYjhhODIwNzczZGZkMDQyYjkpOwogICAgICAgIAogICAgCiAgICAgICAgdmFyIHBvcHVwXzQxYzQwYjFlZWFmMDQyN2I5NjdkZjk2YjJhMTg3N2U0ID0gTC5wb3B1cCh7Im1heFdpZHRoIjogIjEwMCUifSk7CgogICAgICAgIAogICAgICAgICAgICB2YXIgaHRtbF83NGQ1MjI0OGQyMTA0NmQzODk3NTFkNDlhM2YzMjQ2MiA9ICQoYDxkaXYgaWQ9Imh0bWxfNzRkNTIyNDhkMjEwNDZkMzg5NzUxZDQ5YTNmMzI0NjIiIHN0eWxlPSJ3aWR0aDogMTAwLjAlOyBoZWlnaHQ6IDEwMC4wJTsiPkJhdGh1cnN0IE1hbm9yLCBEb3duc3ZpZXcgTm9ydGgsIFdpbHNvbiBIZWlnaHRzPC9kaXY+YClbMF07CiAgICAgICAgICAgIHBvcHVwXzQxYzQwYjFlZWFmMDQyN2I5NjdkZjk2YjJhMTg3N2U0LnNldENvbnRlbnQoaHRtbF83NGQ1MjI0OGQyMTA0NmQzODk3NTFkNDlhM2YzMjQ2Mik7CiAgICAgICAgCgogICAgICAgIG1hcmtlcl8wYjFiOWViNjQ3YmY0ZjQ2ODU2OTc5NjE5NTNmYTJjNi5iaW5kUG9wdXAocG9wdXBfNDFjNDBiMWVlYWYwNDI3Yjk2N2RmOTZiMmExODc3ZTQpCiAgICAgICAgOwoKICAgICAgICAKICAgIAogICAgCiAgICAgICAgICAgIHZhciBtYXJrZXJfZjY5OTkwMzdkNDZkNDRjMmJjZDNjZjdhODE1MWQxYTYgPSBMLm1hcmtlcigKICAgICAgICAgICAgICAgIFs0My43MDEyNDAwMDAwMDAwNCwgLTc5LjM0OTgyNDgyNTk5OTk3XSwKICAgICAgICAgICAgICAgIHsicmFkaXVzIjogNX0KICAgICAgICAgICAgKS5hZGRUbyhtYXBfNGFiODE5Y2NhYzI5NGZiYjhhODIwNzczZGZkMDQyYjkpOwogICAgICAgIAogICAgCiAgICAgICAgdmFyIHBvcHVwX2Q5NWM3Nzc2NzFkYjRiZTBhMGM2NTE5NTJjMDY0YWVhID0gTC5wb3B1cCh7Im1heFdpZHRoIjogIjEwMCUifSk7CgogICAgICAgIAogICAgICAgICAgICB2YXIgaHRtbF82ZDc3MTY2YjE5NmQ0ZTAxYmJmYjZmNzQ1YzdlODU1ZCA9ICQoYDxkaXYgaWQ9Imh0bWxfNmQ3NzE2NmIxOTZkNGUwMWJiZmI2Zjc0NWM3ZTg1NWQiIHN0eWxlPSJ3aWR0aDogMTAwLjAlOyBoZWlnaHQ6IDEwMC4wJTsiPlRob3JuY2xpZmZlIFBhcms8L2Rpdj5gKVswXTsKICAgICAgICAgICAgcG9wdXBfZDk1Yzc3NzY3MWRiNGJlMGEwYzY1MTk1MmMwNjRhZWEuc2V0Q29udGVudChodG1sXzZkNzcxNjZiMTk2ZDRlMDFiYmZiNmY3NDVjN2U4NTVkKTsKICAgICAgICAKCiAgICAgICAgbWFya2VyX2Y2OTk5MDM3ZDQ2ZDQ0YzJiY2QzY2Y3YTgxNTFkMWE2LmJpbmRQb3B1cChwb3B1cF9kOTVjNzc3NjcxZGI0YmUwYTBjNjUxOTUyYzA2NGFlYSkKICAgICAgICA7CgogICAgICAgIAogICAgCiAgICAKICAgICAgICAgICAgdmFyIG1hcmtlcl9hNjEwYjRlMzdhOWU0MmVhOTYyMTJkN2FjZTEwNjZiMyA9IEwubWFya2VyKAogICAgICAgICAgICAgICAgWzQzLjY0OTcwMDAwMDAwMDA1LCAtNzkuMzgyNTgxNTczOTk5OTddLAogICAgICAgICAgICAgICAgeyJyYWRpdXMiOiA1fQogICAgICAgICAgICApLmFkZFRvKG1hcF80YWI4MTljY2FjMjk0ZmJiOGE4MjA3NzNkZmQwNDJiOSk7CiAgICAgICAgCiAgICAKICAgICAgICB2YXIgcG9wdXBfMGRjNjJlMWE1YjA5NDlmYWE2NzMxZjlmZjE0NzI0MWYgPSBMLnBvcHVwKHsibWF4V2lkdGgiOiAiMTAwJSJ9KTsKCiAgICAgICAgCiAgICAgICAgICAgIHZhciBodG1sXzQzMDlkNWIxNjNlYTRiYmM5ZmYwNjNmMjgzNjM4NmNlID0gJChgPGRpdiBpZD0iaHRtbF80MzA5ZDViMTYzZWE0YmJjOWZmMDYzZjI4MzYzODZjZSIgc3R5bGU9IndpZHRoOiAxMDAuMCU7IGhlaWdodDogMTAwLjAlOyI+QWRlbGFpZGUsIEtpbmcsIFJpY2htb25kPC9kaXY+YClbMF07CiAgICAgICAgICAgIHBvcHVwXzBkYzYyZTFhNWIwOTQ5ZmFhNjczMWY5ZmYxNDcyNDFmLnNldENvbnRlbnQoaHRtbF80MzA5ZDViMTYzZWE0YmJjOWZmMDYzZjI4MzYzODZjZSk7CiAgICAgICAgCgogICAgICAgIG1hcmtlcl9hNjEwYjRlMzdhOWU0MmVhOTYyMTJkN2FjZTEwNjZiMy5iaW5kUG9wdXAocG9wdXBfMGRjNjJlMWE1YjA5NDlmYWE2NzMxZjlmZjE0NzI0MWYpCiAgICAgICAgOwoKICAgICAgICAKICAgIAogICAgCiAgICAgICAgICAgIHZhciBtYXJrZXJfYzk3MmI1ODNkMzFiNDgwMzhhOGZkZjlhNDhlMGU4ZjEgPSBMLm1hcmtlcigKICAgICAgICAgICAgICAgIFs0My42NjUwODY5NDMwMDAwNiwgLTc5LjQzODcwNDk5OTk5OTk3XSwKICAgICAgICAgICAgICAgIHsicmFkaXVzIjogNX0KICAgICAgICAgICAgKS5hZGRUbyhtYXBfNGFiODE5Y2NhYzI5NGZiYjhhODIwNzczZGZkMDQyYjkpOwogICAgICAgIAogICAgCiAgICAgICAgdmFyIHBvcHVwXzlkMDMzYWRmN2I0NjQ2MjE4Y2ZjYTMwYzgwZWYxNTUxID0gTC5wb3B1cCh7Im1heFdpZHRoIjogIjEwMCUifSk7CgogICAgICAgIAogICAgICAgICAgICB2YXIgaHRtbF9lOWRkZjAzMDRlZWY0NjZlYjA5NzhhNzc5MzVkNTIyMyA9ICQoYDxkaXYgaWQ9Imh0bWxfZTlkZGYwMzA0ZWVmNDY2ZWIwOTc4YTc3OTM1ZDUyMjMiIHN0eWxlPSJ3aWR0aDogMTAwLjAlOyBoZWlnaHQ6IDEwMC4wJTsiPkRvdmVyY291cnQgVmlsbGFnZSwgRHVmZmVyaW48L2Rpdj5gKVswXTsKICAgICAgICAgICAgcG9wdXBfOWQwMzNhZGY3YjQ2NDYyMThjZmNhMzBjODBlZjE1NTEuc2V0Q29udGVudChodG1sX2U5ZGRmMDMwNGVlZjQ2NmViMDk3OGE3NzkzNWQ1MjIzKTsKICAgICAgICAKCiAgICAgICAgbWFya2VyX2M5NzJiNTgzZDMxYjQ4MDM4YThmZGY5YTQ4ZTBlOGYxLmJpbmRQb3B1cChwb3B1cF85ZDAzM2FkZjdiNDY0NjIxOGNmY2EzMGM4MGVmMTU1MSkKICAgICAgICA7CgogICAgICAgIAogICAgCiAgICAKICAgICAgICAgICAgdmFyIG1hcmtlcl9kN2RkOWVlYjIzZjI0NjQ1YWFhMjBmNzUyOTNjYmZjYSA9IEwubWFya2VyKAogICAgICAgICAgICAgICAgWzQzLjc0MzEyNTAwMDAwMDA4LCAtNzkuMjMxNzQ5NzM1OTk5OThdLAogICAgICAgICAgICAgICAgeyJyYWRpdXMiOiA1fQogICAgICAgICAgICApLmFkZFRvKG1hcF80YWI4MTljY2FjMjk0ZmJiOGE4MjA3NzNkZmQwNDJiOSk7CiAgICAgICAgCiAgICAKICAgICAgICB2YXIgcG9wdXBfNWRmMzJlZmFjMTcxNGRiM2I0OTRmODVkZmFmMWRjNWIgPSBMLnBvcHVwKHsibWF4V2lkdGgiOiAiMTAwJSJ9KTsKCiAgICAgICAgCiAgICAgICAgICAgIHZhciBodG1sXzQyODdmMTgwOTJhOTRiMzNiYTk2MTY0ODRlODZhNmE3ID0gJChgPGRpdiBpZD0iaHRtbF80Mjg3ZjE4MDkyYTk0YjMzYmE5NjE2NDg0ZTg2YTZhNyIgc3R5bGU9IndpZHRoOiAxMDAuMCU7IGhlaWdodDogMTAwLjAlOyI+U2NhcmJvcm91Z2ggVmlsbGFnZTwvZGl2PmApWzBdOwogICAgICAgICAgICBwb3B1cF81ZGYzMmVmYWMxNzE0ZGIzYjQ5NGY4NWRmYWYxZGM1Yi5zZXRDb250ZW50KGh0bWxfNDI4N2YxODA5MmE5NGIzM2JhOTYxNjQ4NGU4NmE2YTcpOwogICAgICAgIAoKICAgICAgICBtYXJrZXJfZDdkZDllZWIyM2YyNDY0NWFhYTIwZjc1MjkzY2JmY2EuYmluZFBvcHVwKHBvcHVwXzVkZjMyZWZhYzE3MTRkYjNiNDk0Zjg1ZGZhZjFkYzViKQogICAgICAgIDsKCiAgICAgICAgCiAgICAKICAgIAogICAgICAgICAgICB2YXIgbWFya2VyXzkzZGQyN2M0MDA5MzQ3MTQ4NjAzNjcxYmVmOGYyYTdiID0gTC5tYXJrZXIoCiAgICAgICAgICAgICAgICBbNDMuNzgwOTcwMDAwMDAwMDI1LCAtNzkuMzQ3ODEzMjgwOTk5OTZdLAogICAgICAgICAgICAgICAgeyJyYWRpdXMiOiA1fQogICAgICAgICAgICApLmFkZFRvKG1hcF80YWI4MTljY2FjMjk0ZmJiOGE4MjA3NzNkZmQwNDJiOSk7CiAgICAgICAgCiAgICAKICAgICAgICB2YXIgcG9wdXBfMjliM2M5MTYwMzcxNDk5OWE1MmEzMTkyYWE1YzNmYTQgPSBMLnBvcHVwKHsibWF4V2lkdGgiOiAiMTAwJSJ9KTsKCiAgICAgICAgCiAgICAgICAgICAgIHZhciBodG1sXzM2NmY1ZTljMWY1MjQ0MDc5ZTM5ODdhNTg5ZTBhNzllID0gJChgPGRpdiBpZD0iaHRtbF8zNjZmNWU5YzFmNTI0NDA3OWUzOTg3YTU4OWUwYTc5ZSIgc3R5bGU9IndpZHRoOiAxMDAuMCU7IGhlaWdodDogMTAwLjAlOyI+RmFpcnZpZXcsIEhlbnJ5IEZhcm0sIE9yaW9sZTwvZGl2PmApWzBdOwogICAgICAgICAgICBwb3B1cF8yOWIzYzkxNjAzNzE0OTk5YTUyYTMxOTJhYTVjM2ZhNC5zZXRDb250ZW50KGh0bWxfMzY2ZjVlOWMxZjUyNDQwNzllMzk4N2E1ODllMGE3OWUpOwogICAgICAgIAoKICAgICAgICBtYXJrZXJfOTNkZDI3YzQwMDkzNDcxNDg2MDM2NzFiZWY4ZjJhN2IuYmluZFBvcHVwKHBvcHVwXzI5YjNjOTE2MDM3MTQ5OTlhNTJhMzE5MmFhNWMzZmE0KQogICAgICAgIDsKCiAgICAgICAgCiAgICAKICAgIAogICAgICAgICAgICB2YXIgbWFya2VyXzM4ZDQwNGQwZTc5NTRhMGQ5ODUzNDY3ZjhiM2Q2MGFhID0gTC5tYXJrZXIoCiAgICAgICAgICAgICAgICBbNDMuNzY0NzY1MDAwMDAwMDcsIC03OS40ODgwOTQ0MDY5OTk5NV0sCiAgICAgICAgICAgICAgICB7InJhZGl1cyI6IDV9CiAgICAgICAgICAgICkuYWRkVG8obWFwXzRhYjgxOWNjYWMyOTRmYmI4YTgyMDc3M2RmZDA0MmI5KTsKICAgICAgICAKICAgIAogICAgICAgIHZhciBwb3B1cF9lNDVmODI5ODUxNmU0OWI4OTk3NTIxNDU5OGUxMDViNyA9IEwucG9wdXAoeyJtYXhXaWR0aCI6ICIxMDAlIn0pOwoKICAgICAgICAKICAgICAgICAgICAgdmFyIGh0bWxfY2YxYzcwMTU5ZDhmNGM5OGI2NzA2NzE1NmZjN2M5N2YgPSAkKGA8ZGl2IGlkPSJodG1sX2NmMWM3MDE1OWQ4ZjRjOThiNjcwNjcxNTZmYzdjOTdmIiBzdHlsZT0id2lkdGg6IDEwMC4wJTsgaGVpZ2h0OiAxMDAuMCU7Ij5Ob3J0aHdvb2QgUGFyaywgWW9yayBVbml2ZXJzaXR5PC9kaXY+YClbMF07CiAgICAgICAgICAgIHBvcHVwX2U0NWY4Mjk4NTE2ZTQ5Yjg5OTc1MjE0NTk4ZTEwNWI3LnNldENvbnRlbnQoaHRtbF9jZjFjNzAxNTlkOGY0Yzk4YjY3MDY3MTU2ZmM3Yzk3Zik7CiAgICAgICAgCgogICAgICAgIG1hcmtlcl8zOGQ0MDRkMGU3OTU0YTBkOTg1MzQ2N2Y4YjNkNjBhYS5iaW5kUG9wdXAocG9wdXBfZTQ1ZjgyOTg1MTZlNDliODk5NzUyMTQ1OThlMTA1YjcpCiAgICAgICAgOwoKICAgICAgICAKICAgIAogICAgCiAgICAgICAgICAgIHZhciBtYXJrZXJfN2MwNTBhOGFiNjUzNDE2YjkxNzdkNDJhZTRhM2Y5ZWYgPSBMLm1hcmtlcigKICAgICAgICAgICAgICAgIFs0My42ODg3NjUzNDQwMDAwNDYsIC03OS4zMzQxNzQ5OTk5OTk5Nl0sCiAgICAgICAgICAgICAgICB7InJhZGl1cyI6IDV9CiAgICAgICAgICAgICkuYWRkVG8obWFwXzRhYjgxOWNjYWMyOTRmYmI4YTgyMDc3M2RmZDA0MmI5KTsKICAgICAgICAKICAgIAogICAgICAgIHZhciBwb3B1cF8xOWJhNzY5YjUyNTU0MDQ0YmFhOTcxYjExNmE4MWZjOCA9IEwucG9wdXAoeyJtYXhXaWR0aCI6ICIxMDAlIn0pOwoKICAgICAgICAKICAgICAgICAgICAgdmFyIGh0bWxfYTJlZDA1ZWJmMWZjNDE3ZDhjMTM0MTA2Y2JmMDMwNmQgPSAkKGA8ZGl2IGlkPSJodG1sX2EyZWQwNWViZjFmYzQxN2Q4YzEzNDEwNmNiZjAzMDZkIiBzdHlsZT0id2lkdGg6IDEwMC4wJTsgaGVpZ2h0OiAxMDAuMCU7Ij5FYXN0IFRvcm9udG88L2Rpdj5gKVswXTsKICAgICAgICAgICAgcG9wdXBfMTliYTc2OWI1MjU1NDA0NGJhYTk3MWIxMTZhODFmYzguc2V0Q29udGVudChodG1sX2EyZWQwNWViZjFmYzQxN2Q4YzEzNDEwNmNiZjAzMDZkKTsKICAgICAgICAKCiAgICAgICAgbWFya2VyXzdjMDUwYThhYjY1MzQxNmI5MTc3ZDQyYWU0YTNmOWVmLmJpbmRQb3B1cChwb3B1cF8xOWJhNzY5YjUyNTU0MDQ0YmFhOTcxYjExNmE4MWZjOCkKICAgICAgICA7CgogICAgICAgIAogICAgCiAgICAKICAgICAgICAgICAgdmFyIG1hcmtlcl9lMzI1ZDE2MzhlYTA0ZjY4YjZiNzI5MmNkOTA4YjIzMCA9IEwubWFya2VyKAogICAgICAgICAgICAgICAgWzQzLjYzMDIxMDAwMDAwMDAzNCwgLTc5LjM2MjQzMzIwODk5OTk2XSwKICAgICAgICAgICAgICAgIHsicmFkaXVzIjogNX0KICAgICAgICAgICAgKS5hZGRUbyhtYXBfNGFiODE5Y2NhYzI5NGZiYjhhODIwNzczZGZkMDQyYjkpOwogICAgICAgIAogICAgCiAgICAgICAgdmFyIHBvcHVwX2QzMzM1MjMxODNkNjQ4ZDRhOGNmNWQ2NDQ2YmVmZWVlID0gTC5wb3B1cCh7Im1heFdpZHRoIjogIjEwMCUifSk7CgogICAgICAgIAogICAgICAgICAgICB2YXIgaHRtbF8yMzY4ZWZkYjJmMDc0NWIwYmZkYTMzODc0YzEwMTIwMCA9ICQoYDxkaXYgaWQ9Imh0bWxfMjM2OGVmZGIyZjA3NDViMGJmZGEzMzg3NGMxMDEyMDAiIHN0eWxlPSJ3aWR0aDogMTAwLjAlOyBoZWlnaHQ6IDEwMC4wJTsiPkhhcmJvdXJmcm9udCBFYXN0LCBUb3JvbnRvIElzbGFuZHMsIFVuaW9uIFN0YXRpb248L2Rpdj5gKVswXTsKICAgICAgICAgICAgcG9wdXBfZDMzMzUyMzE4M2Q2NDhkNGE4Y2Y1ZDY0NDZiZWZlZWUuc2V0Q29udGVudChodG1sXzIzNjhlZmRiMmYwNzQ1YjBiZmRhMzM4NzRjMTAxMjAwKTsKICAgICAgICAKCiAgICAgICAgbWFya2VyX2UzMjVkMTYzOGVhMDRmNjhiNmI3MjkyY2Q5MDhiMjMwLmJpbmRQb3B1cChwb3B1cF9kMzMzNTIzMTgzZDY0OGQ0YThjZjVkNjQ0NmJlZmVlZSkKICAgICAgICA7CgogICAgICAgIAogICAgCiAgICAKICAgICAgICAgICAgdmFyIG1hcmtlcl9mYmY0N2IwNzI1OWQ0ODE4OWM3YWFlYmMzMTlhMTkwMCA9IEwubWFya2VyKAogICAgICAgICAgICAgICAgWzQzLjY0ODUyNTAwMDAwMDA2LCAtNzkuNDE3NzU3MTMzOTk5OTRdLAogICAgICAgICAgICAgICAgeyJyYWRpdXMiOiA1fQogICAgICAgICAgICApLmFkZFRvKG1hcF80YWI4MTljY2FjMjk0ZmJiOGE4MjA3NzNkZmQwNDJiOSk7CiAgICAgICAgCiAgICAKICAgICAgICB2YXIgcG9wdXBfNTc1NmQ4N2U5MzM4NDM3NDljMDZiODg3M2UxMWU4NWQgPSBMLnBvcHVwKHsibWF4V2lkdGgiOiAiMTAwJSJ9KTsKCiAgICAgICAgCiAgICAgICAgICAgIHZhciBodG1sXzg2Y2NmM2YzNDE0NjQwYTQ5MjYyZGJkOTEzOGJhZWRjID0gJChgPGRpdiBpZD0iaHRtbF84NmNjZjNmMzQxNDY0MGE0OTI2MmRiZDkxMzhiYWVkYyIgc3R5bGU9IndpZHRoOiAxMDAuMCU7IGhlaWdodDogMTAwLjAlOyI+TGl0dGxlIFBvcnR1Z2FsLCBUcmluaXR5PC9kaXY+YClbMF07CiAgICAgICAgICAgIHBvcHVwXzU3NTZkODdlOTMzODQzNzQ5YzA2Yjg4NzNlMTFlODVkLnNldENvbnRlbnQoaHRtbF84NmNjZjNmMzQxNDY0MGE0OTI2MmRiZDkxMzhiYWVkYyk7CiAgICAgICAgCgogICAgICAgIG1hcmtlcl9mYmY0N2IwNzI1OWQ0ODE4OWM3YWFlYmMzMTlhMTkwMC5iaW5kUG9wdXAocG9wdXBfNTc1NmQ4N2U5MzM4NDM3NDljMDZiODg3M2UxMWU4NWQpCiAgICAgICAgOwoKICAgICAgICAKICAgIAogICAgCiAgICAgICAgICAgIHZhciBtYXJrZXJfNzU2MTFjYTNmZjcwNGM3NTkwYTRhZjAyMTRkOGZjNTUgPSBMLm1hcmtlcigKICAgICAgICAgICAgICAgIFs0My43MjYyNzU2ODQwMDAwMywgLTc5LjI2MzYyNDk5OTk5OTkzXSwKICAgICAgICAgICAgICAgIHsicmFkaXVzIjogNX0KICAgICAgICAgICAgKS5hZGRUbyhtYXBfNGFiODE5Y2NhYzI5NGZiYjhhODIwNzczZGZkMDQyYjkpOwogICAgICAgIAogICAgCiAgICAgICAgdmFyIHBvcHVwX2Y5MTAxNDU5ZDAwNzRjYTE4NmMyNjI0MmUwNDM0NzJhID0gTC5wb3B1cCh7Im1heFdpZHRoIjogIjEwMCUifSk7CgogICAgICAgIAogICAgICAgICAgICB2YXIgaHRtbF9mNTU4YjU3MzFhOWU0YzI4ODYzNDYzNTA1OGU2ZjY4YiA9ICQoYDxkaXYgaWQ9Imh0bWxfZjU1OGI1NzMxYTllNGMyODg2MzQ2MzUwNThlNmY2OGIiIHN0eWxlPSJ3aWR0aDogMTAwLjAlOyBoZWlnaHQ6IDEwMC4wJTsiPkVhc3QgQmlyY2htb3VudCBQYXJrLCBJb252aWV3LCBLZW5uZWR5IFBhcms8L2Rpdj5gKVswXTsKICAgICAgICAgICAgcG9wdXBfZjkxMDE0NTlkMDA3NGNhMTg2YzI2MjQyZTA0MzQ3MmEuc2V0Q29udGVudChodG1sX2Y1NThiNTczMWE5ZTRjMjg4NjM0NjM1MDU4ZTZmNjhiKTsKICAgICAgICAKCiAgICAgICAgbWFya2VyXzc1NjExY2EzZmY3MDRjNzU5MGE0YWYwMjE0ZDhmYzU1LmJpbmRQb3B1cChwb3B1cF9mOTEwMTQ1OWQwMDc0Y2ExODZjMjYyNDJlMDQzNDcyYSkKICAgICAgICA7CgogICAgICAgIAogICAgCiAgICAKICAgICAgICAgICAgdmFyIG1hcmtlcl9kYjM4OTcxOGZkNTc0Y2NiYjczNjRhZGM3N2ZjNWEwOSA9IEwubWFya2VyKAogICAgICAgICAgICAgICAgWzQzLjc4MTAxNTAwMDAwMDAyNSwgLTc5LjM4MDUyODY3MTk5OTk3XSwKICAgICAgICAgICAgICAgIHsicmFkaXVzIjogNX0KICAgICAgICAgICAgKS5hZGRUbyhtYXBfNGFiODE5Y2NhYzI5NGZiYjhhODIwNzczZGZkMDQyYjkpOwogICAgICAgIAogICAgCiAgICAgICAgdmFyIHBvcHVwXzBlOTE4NDEzZDg3MjRkODE5YjFjNGVkMzUzMjVmYTEyID0gTC5wb3B1cCh7Im1heFdpZHRoIjogIjEwMCUifSk7CgogICAgICAgIAogICAgICAgICAgICB2YXIgaHRtbF85NWM3MGYzY2FhMTc0OTFhYWQzNmNiMGIyOWI5YTFkZiA9ICQoYDxkaXYgaWQ9Imh0bWxfOTVjNzBmM2NhYTE3NDkxYWFkMzZjYjBiMjliOWExZGYiIHN0eWxlPSJ3aWR0aDogMTAwLjAlOyBoZWlnaHQ6IDEwMC4wJTsiPkJheXZpZXcgVmlsbGFnZTwvZGl2PmApWzBdOwogICAgICAgICAgICBwb3B1cF8wZTkxODQxM2Q4NzI0ZDgxOWIxYzRlZDM1MzI1ZmExMi5zZXRDb250ZW50KGh0bWxfOTVjNzBmM2NhYTE3NDkxYWFkMzZjYjBiMjliOWExZGYpOwogICAgICAgIAoKICAgICAgICBtYXJrZXJfZGIzODk3MThmZDU3NGNjYmI3MzY0YWRjNzdmYzVhMDkuYmluZFBvcHVwKHBvcHVwXzBlOTE4NDEzZDg3MjRkODE5YjFjNGVkMzUzMjVmYTEyKQogICAgICAgIDsKCiAgICAgICAgCiAgICAKICAgIAogICAgICAgICAgICB2YXIgbWFya2VyX2JjYTc0YzBjNjJkMTQ2ZDliYWZiZTc1NmFlMTYxMDM2ID0gTC5tYXJrZXIoCiAgICAgICAgICAgICAgICBbNDMuNzM4Njg1MDAwMDAwMDMsIC03OS40NjczMTk5OTk5OTk5N10sCiAgICAgICAgICAgICAgICB7InJhZGl1cyI6IDV9CiAgICAgICAgICAgICkuYWRkVG8obWFwXzRhYjgxOWNjYWMyOTRmYmI4YTgyMDc3M2RmZDA0MmI5KTsKICAgICAgICAKICAgIAogICAgICAgIHZhciBwb3B1cF84YzhlZTZlMGIxZWU0MmYyYmQwZmY2NWYwM2Q4ZWU0ZiA9IEwucG9wdXAoeyJtYXhXaWR0aCI6ICIxMDAlIn0pOwoKICAgICAgICAKICAgICAgICAgICAgdmFyIGh0bWxfYTFiYmMwNTcwMmE1NGQ2Y2JjODQ4NTA0Mzg1NjYyMzYgPSAkKGA8ZGl2IGlkPSJodG1sX2ExYmJjMDU3MDJhNTRkNmNiYzg0ODUwNDM4NTY2MjM2IiBzdHlsZT0id2lkdGg6IDEwMC4wJTsgaGVpZ2h0OiAxMDAuMCU7Ij5DRkIgVG9yb250bywgRG93bnN2aWV3IEVhc3Q8L2Rpdj5gKVswXTsKICAgICAgICAgICAgcG9wdXBfOGM4ZWU2ZTBiMWVlNDJmMmJkMGZmNjVmMDNkOGVlNGYuc2V0Q29udGVudChodG1sX2ExYmJjMDU3MDJhNTRkNmNiYzg0ODUwNDM4NTY2MjM2KTsKICAgICAgICAKCiAgICAgICAgbWFya2VyX2JjYTc0YzBjNjJkMTQ2ZDliYWZiZTc1NmFlMTYxMDM2LmJpbmRQb3B1cChwb3B1cF84YzhlZTZlMGIxZWU0MmYyYmQwZmY2NWYwM2Q4ZWU0ZikKICAgICAgICA7CgogICAgICAgIAogICAgCiAgICAKICAgICAgICAgICAgdmFyIG1hcmtlcl9mNDI0YTQ1MDMyYWY0MDkyODAzMjkyYmUyZTllMzg5MiA9IEwubWFya2VyKAogICAgICAgICAgICAgICAgWzQzLjY4MzE3Nzg3NTAwMDA3LCAtNzkuMzU1MTA0OTk5OTk5OThdLAogICAgICAgICAgICAgICAgeyJyYWRpdXMiOiA1fQogICAgICAgICAgICApLmFkZFRvKG1hcF80YWI4MTljY2FjMjk0ZmJiOGE4MjA3NzNkZmQwNDJiOSk7CiAgICAgICAgCiAgICAKICAgICAgICB2YXIgcG9wdXBfZTcyMGVhZjVjZDZmNGYwYmI1MjlkZWQwOTBlYjFjZGUgPSBMLnBvcHVwKHsibWF4V2lkdGgiOiAiMTAwJSJ9KTsKCiAgICAgICAgCiAgICAgICAgICAgIHZhciBodG1sX2M3MTI2NzUyMTQ1NjRjMzM5ZThiMWM2ODhiZjBkMmIwID0gJChgPGRpdiBpZD0iaHRtbF9jNzEyNjc1MjE0NTY0YzMzOWU4YjFjNjg4YmYwZDJiMCIgc3R5bGU9IndpZHRoOiAxMDAuMCU7IGhlaWdodDogMTAwLjAlOyI+VGhlIERhbmZvcnRoIFdlc3QsIFJpdmVyZGFsZTwvZGl2PmApWzBdOwogICAgICAgICAgICBwb3B1cF9lNzIwZWFmNWNkNmY0ZjBiYjUyOWRlZDA5MGViMWNkZS5zZXRDb250ZW50KGh0bWxfYzcxMjY3NTIxNDU2NGMzMzllOGIxYzY4OGJmMGQyYjApOwogICAgICAgIAoKICAgICAgICBtYXJrZXJfZjQyNGE0NTAzMmFmNDA5MjgwMzI5MmJlMmU5ZTM4OTIuYmluZFBvcHVwKHBvcHVwX2U3MjBlYWY1Y2Q2ZjRmMGJiNTI5ZGVkMDkwZWIxY2RlKQogICAgICAgIDsKCiAgICAgICAgCiAgICAKICAgIAogICAgICAgICAgICB2YXIgbWFya2VyXzM1MDhkNTNjOTI3ZTRiYzdiOTlmMjhmZjkxMDBjNDMwID0gTC5tYXJrZXIoCiAgICAgICAgICAgICAgICBbNDMuNjQ3MTAwMDAwMDAwMDgsIC03OS4zODE1MzEwOTg5OTk5N10sCiAgICAgICAgICAgICAgICB7InJhZGl1cyI6IDV9CiAgICAgICAgICAgICkuYWRkVG8obWFwXzRhYjgxOWNjYWMyOTRmYmI4YTgyMDc3M2RmZDA0MmI5KTsKICAgICAgICAKICAgIAogICAgICAgIHZhciBwb3B1cF84ZjI4ZjZkNjMyNTk0ZDA5OTFiMmU5ZGI2ZWY4NjAzMSA9IEwucG9wdXAoeyJtYXhXaWR0aCI6ICIxMDAlIn0pOwoKICAgICAgICAKICAgICAgICAgICAgdmFyIGh0bWxfMjlmMmI4YWZkOGE3NDJiNjlmNDZhOTdhYWMzOTMzZDcgPSAkKGA8ZGl2IGlkPSJodG1sXzI5ZjJiOGFmZDhhNzQyYjY5ZjQ2YTk3YWFjMzkzM2Q3IiBzdHlsZT0id2lkdGg6IDEwMC4wJTsgaGVpZ2h0OiAxMDAuMCU7Ij5EZXNpZ24gRXhjaGFuZ2UsIFRvcm9udG8gRG9taW5pb24gQ2VudHJlPC9kaXY+YClbMF07CiAgICAgICAgICAgIHBvcHVwXzhmMjhmNmQ2MzI1OTRkMDk5MWIyZTlkYjZlZjg2MDMxLnNldENvbnRlbnQoaHRtbF8yOWYyYjhhZmQ4YTc0MmI2OWY0NmE5N2FhYzM5MzNkNyk7CiAgICAgICAgCgogICAgICAgIG1hcmtlcl8zNTA4ZDUzYzkyN2U0YmM3Yjk5ZjI4ZmY5MTAwYzQzMC5iaW5kUG9wdXAocG9wdXBfOGYyOGY2ZDYzMjU5NGQwOTkxYjJlOWRiNmVmODYwMzEpCiAgICAgICAgOwoKICAgICAgICAKICAgIAogICAgCiAgICAgICAgICAgIHZhciBtYXJrZXJfNjJkMmRhOWExOGUxNGUxYWE5ODJmMGY1NGVhNzliZDIgPSBMLm1hcmtlcigKICAgICAgICAgICAgICAgIFs0My42Mzk0MTAwMDAwMDAwNTUsIC03OS40MjQzNjIwMTk5OTk5OV0sCiAgICAgICAgICAgICAgICB7InJhZGl1cyI6IDV9CiAgICAgICAgICAgICkuYWRkVG8obWFwXzRhYjgxOWNjYWMyOTRmYmI4YTgyMDc3M2RmZDA0MmI5KTsKICAgICAgICAKICAgIAogICAgICAgIHZhciBwb3B1cF9hYWIxYWExZTE1YmY0ZDViYmJmZjVhYzhlYTc2Yjk1MSA9IEwucG9wdXAoeyJtYXhXaWR0aCI6ICIxMDAlIn0pOwoKICAgICAgICAKICAgICAgICAgICAgdmFyIGh0bWxfMDRlMzJkNjU3NGEyNDRlYmI5NzNiMDhjZWZhMTc3MmMgPSAkKGA8ZGl2IGlkPSJodG1sXzA0ZTMyZDY1NzRhMjQ0ZWJiOTczYjA4Y2VmYTE3NzJjIiBzdHlsZT0id2lkdGg6IDEwMC4wJTsgaGVpZ2h0OiAxMDAuMCU7Ij5Ccm9ja3RvbiwgRXhoaWJpdGlvbiBQbGFjZSwgUGFya2RhbGUgVmlsbGFnZTwvZGl2PmApWzBdOwogICAgICAgICAgICBwb3B1cF9hYWIxYWExZTE1YmY0ZDViYmJmZjVhYzhlYTc2Yjk1MS5zZXRDb250ZW50KGh0bWxfMDRlMzJkNjU3NGEyNDRlYmI5NzNiMDhjZWZhMTc3MmMpOwogICAgICAgIAoKICAgICAgICBtYXJrZXJfNjJkMmRhOWExOGUxNGUxYWE5ODJmMGY1NGVhNzliZDIuYmluZFBvcHVwKHBvcHVwX2FhYjFhYTFlMTViZjRkNWJiYmZmNWFjOGVhNzZiOTUxKQogICAgICAgIDsKCiAgICAgICAgCiAgICAKICAgIAogICAgICAgICAgICB2YXIgbWFya2VyXzdhZjI5YWJlZjU2YzQxZDNhNTgwMGQwOTM2YjUwZmNkID0gTC5tYXJrZXIoCiAgICAgICAgICAgICAgICBbNDMuNzEzMDUzNTAwMDAwMDYsIC03OS4yODUwNTQ5OTk5OTk5NF0sCiAgICAgICAgICAgICAgICB7InJhZGl1cyI6IDV9CiAgICAgICAgICAgICkuYWRkVG8obWFwXzRhYjgxOWNjYWMyOTRmYmI4YTgyMDc3M2RmZDA0MmI5KTsKICAgICAgICAKICAgIAogICAgICAgIHZhciBwb3B1cF9iNjQ4NTcyNjMyYjU0NWU5YWJmNjZlYWEyM2RiZTIwYSA9IEwucG9wdXAoeyJtYXhXaWR0aCI6ICIxMDAlIn0pOwoKICAgICAgICAKICAgICAgICAgICAgdmFyIGh0bWxfNTM2OTVhZGE5M2JlNGI5Nzg1YWZhNGFiZTQ0ODI2MmUgPSAkKGA8ZGl2IGlkPSJodG1sXzUzNjk1YWRhOTNiZTRiOTc4NWFmYTRhYmU0NDgyNjJlIiBzdHlsZT0id2lkdGg6IDEwMC4wJTsgaGVpZ2h0OiAxMDAuMCU7Ij5DbGFpcmxlYSwgR29sZGVuIE1pbGUsIE9ha3JpZGdlPC9kaXY+YClbMF07CiAgICAgICAgICAgIHBvcHVwX2I2NDg1NzI2MzJiNTQ1ZTlhYmY2NmVhYTIzZGJlMjBhLnNldENvbnRlbnQoaHRtbF81MzY5NWFkYTkzYmU0Yjk3ODVhZmE0YWJlNDQ4MjYyZSk7CiAgICAgICAgCgogICAgICAgIG1hcmtlcl83YWYyOWFiZWY1NmM0MWQzYTU4MDBkMDkzNmI1MGZjZC5iaW5kUG9wdXAocG9wdXBfYjY0ODU3MjYzMmI1NDVlOWFiZjY2ZWFhMjNkYmUyMGEpCiAgICAgICAgOwoKICAgICAgICAKICAgIAogICAgCiAgICAgICAgICAgIHZhciBtYXJrZXJfNzQ0NjA2ZGU1YmI1NDAxMTlhZWM3ODI2MjA1NGM5NTEgPSBMLm1hcmtlcigKICAgICAgICAgICAgICAgIFs0My43NTcwOTUxMTkwMDAwNCwgLTc5LjM4MDMxOTk5OTk5OTk4XSwKICAgICAgICAgICAgICAgIHsicmFkaXVzIjogNX0KICAgICAgICAgICAgKS5hZGRUbyhtYXBfNGFiODE5Y2NhYzI5NGZiYjhhODIwNzczZGZkMDQyYjkpOwogICAgICAgIAogICAgCiAgICAgICAgdmFyIHBvcHVwX2U4M2QwNzY4ZTFhMzQ0ZTliNWEwNzA2MzY4MDJlM2QyID0gTC5wb3B1cCh7Im1heFdpZHRoIjogIjEwMCUifSk7CgogICAgICAgIAogICAgICAgICAgICB2YXIgaHRtbF9mODVmYzc1YjA3NGE0MTE3OWYyNzIzZTEyYTBiOTI1YiA9ICQoYDxkaXYgaWQ9Imh0bWxfZjg1ZmM3NWIwNzRhNDExNzlmMjcyM2UxMmEwYjkyNWIiIHN0eWxlPSJ3aWR0aDogMTAwLjAlOyBoZWlnaHQ6IDEwMC4wJTsiPlNpbHZlciBIaWxscywgWW9yayBNaWxsczwvZGl2PmApWzBdOwogICAgICAgICAgICBwb3B1cF9lODNkMDc2OGUxYTM0NGU5YjVhMDcwNjM2ODAyZTNkMi5zZXRDb250ZW50KGh0bWxfZjg1ZmM3NWIwNzRhNDExNzlmMjcyM2UxMmEwYjkyNWIpOwogICAgICAgIAoKICAgICAgICBtYXJrZXJfNzQ0NjA2ZGU1YmI1NDAxMTlhZWM3ODI2MjA1NGM5NTEuYmluZFBvcHVwKHBvcHVwX2U4M2QwNzY4ZTFhMzQ0ZTliNWEwNzA2MzY4MDJlM2QyKQogICAgICAgIDsKCiAgICAgICAgCiAgICAKICAgIAogICAgICAgICAgICB2YXIgbWFya2VyX2Y4ZTRmZWI5NDBlNjQ0ZmViMzY2ODkyMWFjNmFmMmYyID0gTC5tYXJrZXIoCiAgICAgICAgICAgICAgICBbNDMuNzIwMTQwMTExMDAwMDM1LCAtNzkuNTE2OTc5OTk5OTk5OTldLAogICAgICAgICAgICAgICAgeyJyYWRpdXMiOiA1fQogICAgICAgICAgICApLmFkZFRvKG1hcF80YWI4MTljY2FjMjk0ZmJiOGE4MjA3NzNkZmQwNDJiOSk7CiAgICAgICAgCiAgICAKICAgICAgICB2YXIgcG9wdXBfOWVkZGJjZGEwYjAxNDVkNTg1MTIyYThmY2Y0ZWQ5ZTEgPSBMLnBvcHVwKHsibWF4V2lkdGgiOiAiMTAwJSJ9KTsKCiAgICAgICAgCiAgICAgICAgICAgIHZhciBodG1sXzJmNjcxNzEyZGI1YzRhZjliZmQwZmRjNjQ4ODhmMTgyID0gJChgPGRpdiBpZD0iaHRtbF8yZjY3MTcxMmRiNWM0YWY5YmZkMGZkYzY0ODg4ZjE4MiIgc3R5bGU9IndpZHRoOiAxMDAuMCU7IGhlaWdodDogMTAwLjAlOyI+RG93bnN2aWV3IFdlc3Q8L2Rpdj5gKVswXTsKICAgICAgICAgICAgcG9wdXBfOWVkZGJjZGEwYjAxNDVkNTg1MTIyYThmY2Y0ZWQ5ZTEuc2V0Q29udGVudChodG1sXzJmNjcxNzEyZGI1YzRhZjliZmQwZmRjNjQ4ODhmMTgyKTsKICAgICAgICAKCiAgICAgICAgbWFya2VyX2Y4ZTRmZWI5NDBlNjQ0ZmViMzY2ODkyMWFjNmFmMmYyLmJpbmRQb3B1cChwb3B1cF85ZWRkYmNkYTBiMDE0NWQ1ODUxMjJhOGZjZjRlZDllMSkKICAgICAgICA7CgogICAgICAgIAogICAgCiAgICAKICAgICAgICAgICAgdmFyIG1hcmtlcl83Y2ZhN2QzZDA1N2E0ZmE0YTc4OTQyOTA5NDQxMmQzYSA9IEwubWFya2VyKAogICAgICAgICAgICAgICAgWzQzLjY2Nzk2NTAwMDAwMDA0LCAtNzkuMzE0NjY3MTcyOTk5OThdLAogICAgICAgICAgICAgICAgeyJyYWRpdXMiOiA1fQogICAgICAgICAgICApLmFkZFRvKG1hcF80YWI4MTljY2FjMjk0ZmJiOGE4MjA3NzNkZmQwNDJiOSk7CiAgICAgICAgCiAgICAKICAgICAgICB2YXIgcG9wdXBfN2E0YmM2OTVhMGJmNGRhNDg3NDhjZTIzODI1NzQ5MzcgPSBMLnBvcHVwKHsibWF4V2lkdGgiOiAiMTAwJSJ9KTsKCiAgICAgICAgCiAgICAgICAgICAgIHZhciBodG1sXzJhYzUwYzM2MjczODQ1MWFhMjFjMjYwNjVkMDU4ODdiID0gJChgPGRpdiBpZD0iaHRtbF8yYWM1MGMzNjI3Mzg0NTFhYTIxYzI2MDY1ZDA1ODg3YiIgc3R5bGU9IndpZHRoOiAxMDAuMCU7IGhlaWdodDogMTAwLjAlOyI+VGhlIEJlYWNoZXMgV2VzdCwgSW5kaWEgQmF6YWFyPC9kaXY+YClbMF07CiAgICAgICAgICAgIHBvcHVwXzdhNGJjNjk1YTBiZjRkYTQ4NzQ4Y2UyMzgyNTc0OTM3LnNldENvbnRlbnQoaHRtbF8yYWM1MGMzNjI3Mzg0NTFhYTIxYzI2MDY1ZDA1ODg3Yik7CiAgICAgICAgCgogICAgICAgIG1hcmtlcl83Y2ZhN2QzZDA1N2E0ZmE0YTc4OTQyOTA5NDQxMmQzYS5iaW5kUG9wdXAocG9wdXBfN2E0YmM2OTVhMGJmNGRhNDg3NDhjZTIzODI1NzQ5MzcpCiAgICAgICAgOwoKICAgICAgICAKICAgIAogICAgCiAgICAgICAgICAgIHZhciBtYXJrZXJfNThlMzFiZDNjMjBmNDk2ZGI3MmE1MWUyYTkyMTI2MzEgPSBMLm1hcmtlcigKICAgICAgICAgICAgICAgIFs0My42NDgzOTUwMDAwMDAwNSwgLTc5LjM3ODg2NDkxMDk5OTk0XSwKICAgICAgICAgICAgICAgIHsicmFkaXVzIjogNX0KICAgICAgICAgICAgKS5hZGRUbyhtYXBfNGFiODE5Y2NhYzI5NGZiYjhhODIwNzczZGZkMDQyYjkpOwogICAgICAgIAogICAgCiAgICAgICAgdmFyIHBvcHVwX2I5Mjk1NGNiYTA0MDRiOGI4YzQzNjVmNGQ4MTcwOGZjID0gTC5wb3B1cCh7Im1heFdpZHRoIjogIjEwMCUifSk7CgogICAgICAgIAogICAgICAgICAgICB2YXIgaHRtbF9jNGJkMmM4YWI0NzU0MjdhOWE4NDAyNmQwMzUxNWVlYSA9ICQoYDxkaXYgaWQ9Imh0bWxfYzRiZDJjOGFiNDc1NDI3YTlhODQwMjZkMDM1MTVlZWEiIHN0eWxlPSJ3aWR0aDogMTAwLjAlOyBoZWlnaHQ6IDEwMC4wJTsiPkNvbW1lcmNlIENvdXJ0LCBWaWN0b3JpYSBIb3RlbDwvZGl2PmApWzBdOwogICAgICAgICAgICBwb3B1cF9iOTI5NTRjYmEwNDA0YjhiOGM0MzY1ZjRkODE3MDhmYy5zZXRDb250ZW50KGh0bWxfYzRiZDJjOGFiNDc1NDI3YTlhODQwMjZkMDM1MTVlZWEpOwogICAgICAgIAoKICAgICAgICBtYXJrZXJfNThlMzFiZDNjMjBmNDk2ZGI3MmE1MWUyYTkyMTI2MzEuYmluZFBvcHVwKHBvcHVwX2I5Mjk1NGNiYTA0MDRiOGI4YzQzNjVmNGQ4MTcwOGZjKQogICAgICAgIDsKCiAgICAgICAgCiAgICAKICAgIAogICAgICAgICAgICB2YXIgbWFya2VyX2M3NWJmMDYzYTAzZjQ3NDc5NWFmOTE3MTEyODVjYTM3ID0gTC5tYXJrZXIoCiAgICAgICAgICAgICAgICBbNDMuNzEzODEwMDAwMDAwMDgsIC03OS40ODgzMDA3Njg5OTk5OF0sCiAgICAgICAgICAgICAgICB7InJhZGl1cyI6IDV9CiAgICAgICAgICAgICkuYWRkVG8obWFwXzRhYjgxOWNjYWMyOTRmYmI4YTgyMDc3M2RmZDA0MmI5KTsKICAgICAgICAKICAgIAogICAgICAgIHZhciBwb3B1cF81YTMyZmFlNWNkMGI0NWE3OGJiYTJkMzgyNzkyYTczMiA9IEwucG9wdXAoeyJtYXhXaWR0aCI6ICIxMDAlIn0pOwoKICAgICAgICAKICAgICAgICAgICAgdmFyIGh0bWxfOTE3MzdjODcyMzVhNDllNDk4MzVkM2I0OGRjMjMwMWYgPSAkKGA8ZGl2IGlkPSJodG1sXzkxNzM3Yzg3MjM1YTQ5ZTQ5ODM1ZDNiNDhkYzIzMDFmIiBzdHlsZT0id2lkdGg6IDEwMC4wJTsgaGVpZ2h0OiAxMDAuMCU7Ij5Eb3duc3ZpZXcsIE5vcnRoIFBhcmssIFVwd29vZCBQYXJrPC9kaXY+YClbMF07CiAgICAgICAgICAgIHBvcHVwXzVhMzJmYWU1Y2QwYjQ1YTc4YmJhMmQzODI3OTJhNzMyLnNldENvbnRlbnQoaHRtbF85MTczN2M4NzIzNWE0OWU0OTgzNWQzYjQ4ZGMyMzAxZik7CiAgICAgICAgCgogICAgICAgIG1hcmtlcl9jNzViZjA2M2EwM2Y0NzQ3OTVhZjkxNzExMjg1Y2EzNy5iaW5kUG9wdXAocG9wdXBfNWEzMmZhZTVjZDBiNDVhNzhiYmEyZDM4Mjc5MmE3MzIpCiAgICAgICAgOwoKICAgICAgICAKICAgIAogICAgCiAgICAgICAgICAgIHZhciBtYXJrZXJfYmQ5ODc2ZjBkNzNkNGUxNTg1ZGRmYzE5ZGMwNmQ2YWMgPSBMLm1hcmtlcigKICAgICAgICAgICAgICAgIFs0My43NTk1MDAwMDAwMDAwNiwgLTc5LjU1NzAyNzg1Njk5OTk4XSwKICAgICAgICAgICAgICAgIHsicmFkaXVzIjogNX0KICAgICAgICAgICAgKS5hZGRUbyhtYXBfNGFiODE5Y2NhYzI5NGZiYjhhODIwNzczZGZkMDQyYjkpOwogICAgICAgIAogICAgCiAgICAgICAgdmFyIHBvcHVwXzM4NWMxNGNhZjcwMDRkYjdiYmEyMTRmOTdiNzJkMzJkID0gTC5wb3B1cCh7Im1heFdpZHRoIjogIjEwMCUifSk7CgogICAgICAgIAogICAgICAgICAgICB2YXIgaHRtbF9jMTVhMGU0ZTkwMTg0MGExYjNjNDY4ZTFmN2E3MjgzYiA9ICQoYDxkaXYgaWQ9Imh0bWxfYzE1YTBlNGU5MDE4NDBhMWIzYzQ2OGUxZjdhNzI4M2IiIHN0eWxlPSJ3aWR0aDogMTAwLjAlOyBoZWlnaHQ6IDEwMC4wJTsiPkh1bWJlciBTdW1taXQ8L2Rpdj5gKVswXTsKICAgICAgICAgICAgcG9wdXBfMzg1YzE0Y2FmNzAwNGRiN2JiYTIxNGY5N2I3MmQzMmQuc2V0Q29udGVudChodG1sX2MxNWEwZTRlOTAxODQwYTFiM2M0NjhlMWY3YTcyODNiKTsKICAgICAgICAKCiAgICAgICAgbWFya2VyX2JkOTg3NmYwZDczZDRlMTU4NWRkZmMxOWRjMDZkNmFjLmJpbmRQb3B1cChwb3B1cF8zODVjMTRjYWY3MDA0ZGI3YmJhMjE0Zjk3YjcyZDMyZCkKICAgICAgICA7CgogICAgICAgIAogICAgCiAgICAKICAgICAgICAgICAgdmFyIG1hcmtlcl9kNmUwYWFiYTg0OGY0OWI4OGEyNDk4OTMzN2M5ODRmNCA9IEwubWFya2VyKAogICAgICAgICAgICAgICAgWzQzLjcyNDIzNDU3NTAwMDAyNSwgLTc5LjIyNzkyNDk5OTk5OTk3XSwKICAgICAgICAgICAgICAgIHsicmFkaXVzIjogNX0KICAgICAgICAgICAgKS5hZGRUbyhtYXBfNGFiODE5Y2NhYzI5NGZiYjhhODIwNzczZGZkMDQyYjkpOwogICAgICAgIAogICAgCiAgICAgICAgdmFyIHBvcHVwX2RjYzVhNWI1NTg1ZTQ0NDY5NDY2ZTE1ZTVhNThjODE5ID0gTC5wb3B1cCh7Im1heFdpZHRoIjogIjEwMCUifSk7CgogICAgICAgIAogICAgICAgICAgICB2YXIgaHRtbF9kNGE0YjhjZjVlNzY0ZDI3YmRkZDUyMzM3MzBjYjFlNiA9ICQoYDxkaXYgaWQ9Imh0bWxfZDRhNGI4Y2Y1ZTc2NGQyN2JkZGQ1MjMzNzMwY2IxZTYiIHN0eWxlPSJ3aWR0aDogMTAwLjAlOyBoZWlnaHQ6IDEwMC4wJTsiPkNsaWZmY3Jlc3QsIENsaWZmc2lkZSwgU2NhcmJvcm91Z2ggVmlsbGFnZSBXZXN0PC9kaXY+YClbMF07CiAgICAgICAgICAgIHBvcHVwX2RjYzVhNWI1NTg1ZTQ0NDY5NDY2ZTE1ZTVhNThjODE5LnNldENvbnRlbnQoaHRtbF9kNGE0YjhjZjVlNzY0ZDI3YmRkZDUyMzM3MzBjYjFlNik7CiAgICAgICAgCgogICAgICAgIG1hcmtlcl9kNmUwYWFiYTg0OGY0OWI4OGEyNDk4OTMzN2M5ODRmNC5iaW5kUG9wdXAocG9wdXBfZGNjNWE1YjU1ODVlNDQ0Njk0NjZlMTVlNWE1OGM4MTkpCiAgICAgICAgOwoKICAgICAgICAKICAgIAogICAgCiAgICAgICAgICAgIHZhciBtYXJrZXJfMWFiOTM5ZjRiMTgxNGFhY2I3NjlmYzgzMjNjZmNiNDggPSBMLm1hcmtlcigKICAgICAgICAgICAgICAgIFs0My43OTE0NzUwMDAwMDAwNSwgLTc5LjQxMzYwNDg3Mjk5OTk0XSwKICAgICAgICAgICAgICAgIHsicmFkaXVzIjogNX0KICAgICAgICAgICAgKS5hZGRUbyhtYXBfNGFiODE5Y2NhYzI5NGZiYjhhODIwNzczZGZkMDQyYjkpOwogICAgICAgIAogICAgCiAgICAgICAgdmFyIHBvcHVwXzg1NjVhNjZkYmNjYzQ2NGNhMDUzYWY2ZGUxZjEzOTQyID0gTC5wb3B1cCh7Im1heFdpZHRoIjogIjEwMCUifSk7CgogICAgICAgIAogICAgICAgICAgICB2YXIgaHRtbF8yODBmMDFlMzIyYzA0NDgzYjNkMjRlYmMxYzgzYTlmYiA9ICQoYDxkaXYgaWQ9Imh0bWxfMjgwZjAxZTMyMmMwNDQ4M2IzZDI0ZWJjMWM4M2E5ZmIiIHN0eWxlPSJ3aWR0aDogMTAwLjAlOyBoZWlnaHQ6IDEwMC4wJTsiPk5ld3RvbmJyb29rLCBXaWxsb3dkYWxlPC9kaXY+YClbMF07CiAgICAgICAgICAgIHBvcHVwXzg1NjVhNjZkYmNjYzQ2NGNhMDUzYWY2ZGUxZjEzOTQyLnNldENvbnRlbnQoaHRtbF8yODBmMDFlMzIyYzA0NDgzYjNkMjRlYmMxYzgzYTlmYik7CiAgICAgICAgCgogICAgICAgIG1hcmtlcl8xYWI5MzlmNGIxODE0YWFjYjc2OWZjODMyM2NmY2I0OC5iaW5kUG9wdXAocG9wdXBfODU2NWE2NmRiY2NjNDY0Y2EwNTNhZjZkZTFmMTM5NDIpCiAgICAgICAgOwoKICAgICAgICAKICAgIAogICAgCiAgICAgICAgICAgIHZhciBtYXJrZXJfMDM4YTZhYjZjZTY4NDU3Mjk4NmQ3MjdkNWZmMDRmYTUgPSBMLm1hcmtlcigKICAgICAgICAgICAgICAgIFs0My43MzM2OTAwMDAwMDAwOCwgLTc5LjQ5Njc0MDI0MTk5OTk5XSwKICAgICAgICAgICAgICAgIHsicmFkaXVzIjogNX0KICAgICAgICAgICAgKS5hZGRUbyhtYXBfNGFiODE5Y2NhYzI5NGZiYjhhODIwNzczZGZkMDQyYjkpOwogICAgICAgIAogICAgCiAgICAgICAgdmFyIHBvcHVwX2FiMWVkYWQ3OTdlNjRlMDBhYWY1NmFjNDg5Nzg4MmJhID0gTC5wb3B1cCh7Im1heFdpZHRoIjogIjEwMCUifSk7CgogICAgICAgIAogICAgICAgICAgICB2YXIgaHRtbF8yYTNkOWNhNjUwZWQ0ZDRlODBkNDIxMDg0NGExOWI1YyA9ICQoYDxkaXYgaWQ9Imh0bWxfMmEzZDljYTY1MGVkNGQ0ZTgwZDQyMTA4NDRhMTliNWMiIHN0eWxlPSJ3aWR0aDogMTAwLjAlOyBoZWlnaHQ6IDEwMC4wJTsiPkRvd25zdmlldyBDZW50cmFsPC9kaXY+YClbMF07CiAgICAgICAgICAgIHBvcHVwX2FiMWVkYWQ3OTdlNjRlMDBhYWY1NmFjNDg5Nzg4MmJhLnNldENvbnRlbnQoaHRtbF8yYTNkOWNhNjUwZWQ0ZDRlODBkNDIxMDg0NGExOWI1Yyk7CiAgICAgICAgCgogICAgICAgIG1hcmtlcl8wMzhhNmFiNmNlNjg0NTcyOTg2ZDcyN2Q1ZmYwNGZhNS5iaW5kUG9wdXAocG9wdXBfYWIxZWRhZDc5N2U2NGUwMGFhZjU2YWM0ODk3ODgyYmEpCiAgICAgICAgOwoKICAgICAgICAKICAgIAogICAgCiAgICAgICAgICAgIHZhciBtYXJrZXJfZDI5MDAzNDRmYjMwNGQzYmI4N2YwZmJmMGQ3ZTRhN2IgPSBMLm1hcmtlcigKICAgICAgICAgICAgICAgIFs0My42NjA2Mjg5OTMwMDAwNDYsIC03OS4zMzQ4NTQ5OTk5OTk5NV0sCiAgICAgICAgICAgICAgICB7InJhZGl1cyI6IDV9CiAgICAgICAgICAgICkuYWRkVG8obWFwXzRhYjgxOWNjYWMyOTRmYmI4YTgyMDc3M2RmZDA0MmI5KTsKICAgICAgICAKICAgIAogICAgICAgIHZhciBwb3B1cF81MzMwYzAyZGQ3YTM0NmI1YjQ5N2RiZDU4ODRkOWRkMiA9IEwucG9wdXAoeyJtYXhXaWR0aCI6ICIxMDAlIn0pOwoKICAgICAgICAKICAgICAgICAgICAgdmFyIGh0bWxfZmI5ZGQyNTk4ODA1NDJjOWIyNWMwMGYzY2FiNTA5ODUgPSAkKGA8ZGl2IGlkPSJodG1sX2ZiOWRkMjU5ODgwNTQyYzliMjVjMDBmM2NhYjUwOTg1IiBzdHlsZT0id2lkdGg6IDEwMC4wJTsgaGVpZ2h0OiAxMDAuMCU7Ij5TdHVkaW8gRGlzdHJpY3Q8L2Rpdj5gKVswXTsKICAgICAgICAgICAgcG9wdXBfNTMzMGMwMmRkN2EzNDZiNWI0OTdkYmQ1ODg0ZDlkZDIuc2V0Q29udGVudChodG1sX2ZiOWRkMjU5ODgwNTQyYzliMjVjMDBmM2NhYjUwOTg1KTsKICAgICAgICAKCiAgICAgICAgbWFya2VyX2QyOTAwMzQ0ZmIzMDRkM2JiODdmMGZiZjBkN2U0YTdiLmJpbmRQb3B1cChwb3B1cF81MzMwYzAyZGQ3YTM0NmI1YjQ5N2RiZDU4ODRkOWRkMikKICAgICAgICA7CgogICAgICAgIAogICAgCiAgICAKICAgICAgICAgICAgdmFyIG1hcmtlcl80YjlhYjViMjViNmE0MzcwOTM3ZTFlZTIyNzRmZmE2OSA9IEwubWFya2VyKAogICAgICAgICAgICAgICAgWzQzLjczNTQ2MDAwMDAwMDA0NiwgLTc5LjQxOTE0Nzg3NTk5OTk1XSwKICAgICAgICAgICAgICAgIHsicmFkaXVzIjogNX0KICAgICAgICAgICAgKS5hZGRUbyhtYXBfNGFiODE5Y2NhYzI5NGZiYjhhODIwNzczZGZkMDQyYjkpOwogICAgICAgIAogICAgCiAgICAgICAgdmFyIHBvcHVwXzQwOGM1YzFjMjM0NTQ3ZTFiNTY0YTU0M2Q5M2EzMGNlID0gTC5wb3B1cCh7Im1heFdpZHRoIjogIjEwMCUifSk7CgogICAgICAgIAogICAgICAgICAgICB2YXIgaHRtbF8yMjEyN2NmNmQzMTQ0YjRhOWIzOTJiYTRkMDA0OTI4MiA9ICQoYDxkaXYgaWQ9Imh0bWxfMjIxMjdjZjZkMzE0NGI0YTliMzkyYmE0ZDAwNDkyODIiIHN0eWxlPSJ3aWR0aDogMTAwLjAlOyBoZWlnaHQ6IDEwMC4wJTsiPkJlZGZvcmQgUGFyaywgTGF3cmVuY2UgTWFub3IgRWFzdDwvZGl2PmApWzBdOwogICAgICAgICAgICBwb3B1cF80MDhjNWMxYzIzNDU0N2UxYjU2NGE1NDNkOTNhMzBjZS5zZXRDb250ZW50KGh0bWxfMjIxMjdjZjZkMzE0NGI0YTliMzkyYmE0ZDAwNDkyODIpOwogICAgICAgIAoKICAgICAgICBtYXJrZXJfNGI5YWI1YjI1YjZhNDM3MDkzN2UxZWUyMjc0ZmZhNjkuYmluZFBvcHVwKHBvcHVwXzQwOGM1YzFjMjM0NTQ3ZTFiNTY0YTU0M2Q5M2EzMGNlKQogICAgICAgIDsKCiAgICAgICAgCiAgICAKICAgIAogICAgICAgICAgICB2YXIgbWFya2VyXzZjMzlkYjI4Nzc4MTQ2ZmY5YzY5NzdmNWZlOTM0ZGI5ID0gTC5tYXJrZXIoCiAgICAgICAgICAgICAgICBbNDMuNjk0NTMwMDAwMDAwMDQsIC03OS40ODQ0ODk0MzA5OTk5OV0sCiAgICAgICAgICAgICAgICB7InJhZGl1cyI6IDV9CiAgICAgICAgICAgICkuYWRkVG8obWFwXzRhYjgxOWNjYWMyOTRmYmI4YTgyMDc3M2RmZDA0MmI5KTsKICAgICAgICAKICAgIAogICAgICAgIHZhciBwb3B1cF81MGNhNzQ2MmI2YjQ0ZDRiOGQ5MWZkYTZhNzM2NTZhNyA9IEwucG9wdXAoeyJtYXhXaWR0aCI6ICIxMDAlIn0pOwoKICAgICAgICAKICAgICAgICAgICAgdmFyIGh0bWxfYzE0NDQyMjUxYzQ3NGRlMWE4ZjFmMTQ2YjdhM2U5ODIgPSAkKGA8ZGl2IGlkPSJodG1sX2MxNDQ0MjI1MWM0NzRkZTFhOGYxZjE0NmI3YTNlOTgyIiBzdHlsZT0id2lkdGg6IDEwMC4wJTsgaGVpZ2h0OiAxMDAuMCU7Ij5EZWwgUmF5LCBLZWVsZXNkYWxlLCBNb3VudCBEZW5uaXMsIFNpbHZlcnRob3JuPC9kaXY+YClbMF07CiAgICAgICAgICAgIHBvcHVwXzUwY2E3NDYyYjZiNDRkNGI4ZDkxZmRhNmE3MzY1NmE3LnNldENvbnRlbnQoaHRtbF9jMTQ0NDIyNTFjNDc0ZGUxYThmMWYxNDZiN2EzZTk4Mik7CiAgICAgICAgCgogICAgICAgIG1hcmtlcl82YzM5ZGIyODc3ODE0NmZmOWM2OTc3ZjVmZTkzNGRiOS5iaW5kUG9wdXAocG9wdXBfNTBjYTc0NjJiNmI0NGQ0YjhkOTFmZGE2YTczNjU2YTcpCiAgICAgICAgOwoKICAgICAgICAKICAgIAogICAgCiAgICAgICAgICAgIHZhciBtYXJrZXJfNDQyNjQ1YjZmMmRiNGU1ZjkzN2VlNGJmODExOWE4NTggPSBMLm1hcmtlcigKICAgICAgICAgICAgICAgIFs0My43MzM3MDUwMDAwMDAwNCwgLTc5LjUzNzUwNzY4NTk5OTk3XSwKICAgICAgICAgICAgICAgIHsicmFkaXVzIjogNX0KICAgICAgICAgICAgKS5hZGRUbyhtYXBfNGFiODE5Y2NhYzI5NGZiYjhhODIwNzczZGZkMDQyYjkpOwogICAgICAgIAogICAgCiAgICAgICAgdmFyIHBvcHVwX2JjMjJhZWIwMjA1ZjQzMzI4OTc4NmRkMDEzZDg5N2MzID0gTC5wb3B1cCh7Im1heFdpZHRoIjogIjEwMCUifSk7CgogICAgICAgIAogICAgICAgICAgICB2YXIgaHRtbF81NzY5MTdiMDQyNTc0NDQzOTI5OGUzODkxZWRjZjY3NSA9ICQoYDxkaXYgaWQ9Imh0bWxfNTc2OTE3YjA0MjU3NDQ0MzkyOThlMzg5MWVkY2Y2NzUiIHN0eWxlPSJ3aWR0aDogMTAwLjAlOyBoZWlnaHQ6IDEwMC4wJTsiPkVtZXJ5LCBIdW1iZXJsZWE8L2Rpdj5gKVswXTsKICAgICAgICAgICAgcG9wdXBfYmMyMmFlYjAyMDVmNDMzMjg5Nzg2ZGQwMTNkODk3YzMuc2V0Q29udGVudChodG1sXzU3NjkxN2IwNDI1NzQ0NDM5Mjk4ZTM4OTFlZGNmNjc1KTsKICAgICAgICAKCiAgICAgICAgbWFya2VyXzQ0MjY0NWI2ZjJkYjRlNWY5MzdlZTRiZjgxMTlhODU4LmJpbmRQb3B1cChwb3B1cF9iYzIyYWViMDIwNWY0MzMyODk3ODZkZDAxM2Q4OTdjMykKICAgICAgICA7CgogICAgICAgIAogICAgCiAgICAKICAgICAgICAgICAgdmFyIG1hcmtlcl83M2MyYTExNjM0MTU0ZjY5YjIzZjdiMjlmM2NmYTllMiA9IEwubWFya2VyKAogICAgICAgICAgICAgICAgWzQzLjY5Njc3MDAwMDAwMDA3LCAtNzkuMjU5OTY3MzUyOTk5OThdLAogICAgICAgICAgICAgICAgeyJyYWRpdXMiOiA1fQogICAgICAgICAgICApLmFkZFRvKG1hcF80YWI4MTljY2FjMjk0ZmJiOGE4MjA3NzNkZmQwNDJiOSk7CiAgICAgICAgCiAgICAKICAgICAgICB2YXIgcG9wdXBfYmM1MTQ1MmQ3Mzc1NGRkYTg2YmYwNzJiY2VmYjEwZjcgPSBMLnBvcHVwKHsibWF4V2lkdGgiOiAiMTAwJSJ9KTsKCiAgICAgICAgCiAgICAgICAgICAgIHZhciBodG1sXzhkYmNhNDhiMjliOTQyMzBhNGYyNDU0ZGUwYmI2MmMzID0gJChgPGRpdiBpZD0iaHRtbF84ZGJjYTQ4YjI5Yjk0MjMwYTRmMjQ1NGRlMGJiNjJjMyIgc3R5bGU9IndpZHRoOiAxMDAuMCU7IGhlaWdodDogMTAwLjAlOyI+QmlyY2ggQ2xpZmYsIENsaWZmc2lkZSBXZXN0PC9kaXY+YClbMF07CiAgICAgICAgICAgIHBvcHVwX2JjNTE0NTJkNzM3NTRkZGE4NmJmMDcyYmNlZmIxMGY3LnNldENvbnRlbnQoaHRtbF84ZGJjYTQ4YjI5Yjk0MjMwYTRmMjQ1NGRlMGJiNjJjMyk7CiAgICAgICAgCgogICAgICAgIG1hcmtlcl83M2MyYTExNjM0MTU0ZjY5YjIzZjdiMjlmM2NmYTllMi5iaW5kUG9wdXAocG9wdXBfYmM1MTQ1MmQ3Mzc1NGRkYTg2YmYwNzJiY2VmYjEwZjcpCiAgICAgICAgOwoKICAgICAgICAKICAgIAogICAgCiAgICAgICAgICAgIHZhciBtYXJrZXJfYTU5NWRlYTdiYTlkNDE3MGEyZmQ4MjU4MDJiY2M0MzIgPSBMLm1hcmtlcigKICAgICAgICAgICAgICAgIFs0My43NjgxNjUwMDAwMDAwNywgLTc5LjQwNzQxOTg0NTk5OTk4XSwKICAgICAgICAgICAgICAgIHsicmFkaXVzIjogNX0KICAgICAgICAgICAgKS5hZGRUbyhtYXBfNGFiODE5Y2NhYzI5NGZiYjhhODIwNzczZGZkMDQyYjkpOwogICAgICAgIAogICAgCiAgICAgICAgdmFyIHBvcHVwXzIyYzE2OTFhYWQ3NjQyMWZiMWQyMWE0NWVhZGE0M2QzID0gTC5wb3B1cCh7Im1heFdpZHRoIjogIjEwMCUifSk7CgogICAgICAgIAogICAgICAgICAgICB2YXIgaHRtbF9iZDNhMTdlZGZhYzE0ZDUxOTg4MDViN2YwYzhlMmEwMSA9ICQoYDxkaXYgaWQ9Imh0bWxfYmQzYTE3ZWRmYWMxNGQ1MTk4ODA1YjdmMGM4ZTJhMDEiIHN0eWxlPSJ3aWR0aDogMTAwLjAlOyBoZWlnaHQ6IDEwMC4wJTsiPldpbGxvd2RhbGUgU291dGg8L2Rpdj5gKVswXTsKICAgICAgICAgICAgcG9wdXBfMjJjMTY5MWFhZDc2NDIxZmIxZDIxYTQ1ZWFkYTQzZDMuc2V0Q29udGVudChodG1sX2JkM2ExN2VkZmFjMTRkNTE5ODgwNWI3ZjBjOGUyYTAxKTsKICAgICAgICAKCiAgICAgICAgbWFya2VyX2E1OTVkZWE3YmE5ZDQxNzBhMmZkODI1ODAyYmNjNDMyLmJpbmRQb3B1cChwb3B1cF8yMmMxNjkxYWFkNzY0MjFmYjFkMjFhNDVlYWRhNDNkMykKICAgICAgICA7CgogICAgICAgIAogICAgCiAgICAKICAgICAgICAgICAgdmFyIG1hcmtlcl81NWI1ZDA2YzIzZmM0MTFhODIwMDhhMDI2OTNlNmVjYSA9IEwubWFya2VyKAogICAgICAgICAgICAgICAgWzQzLjc1NTM3MDY1MjAwMDA3LCAtNzkuNTE5NTg5OTk5OTk5OTRdLAogICAgICAgICAgICAgICAgeyJyYWRpdXMiOiA1fQogICAgICAgICAgICApLmFkZFRvKG1hcF80YWI4MTljY2FjMjk0ZmJiOGE4MjA3NzNkZmQwNDJiOSk7CiAgICAgICAgCiAgICAKICAgICAgICB2YXIgcG9wdXBfMzAyMWYxMjgyMzNhNGNjM2JlNzM5OTE3MWEzMmEzYzMgPSBMLnBvcHVwKHsibWF4V2lkdGgiOiAiMTAwJSJ9KTsKCiAgICAgICAgCiAgICAgICAgICAgIHZhciBodG1sXzk1Yzc0MjZlMmZjMTRmZjhhYzkxYTAxYzdlM2E5OWVmID0gJChgPGRpdiBpZD0iaHRtbF85NWM3NDI2ZTJmYzE0ZmY4YWM5MWEwMWM3ZTNhOTllZiIgc3R5bGU9IndpZHRoOiAxMDAuMCU7IGhlaWdodDogMTAwLjAlOyI+RG93bnN2aWV3IE5vcnRod2VzdDwvZGl2PmApWzBdOwogICAgICAgICAgICBwb3B1cF8zMDIxZjEyODIzM2E0Y2MzYmU3Mzk5MTcxYTMyYTNjMy5zZXRDb250ZW50KGh0bWxfOTVjNzQyNmUyZmMxNGZmOGFjOTFhMDFjN2UzYTk5ZWYpOwogICAgICAgIAoKICAgICAgICBtYXJrZXJfNTViNWQwNmMyM2ZjNDExYTgyMDA4YTAyNjkzZTZlY2EuYmluZFBvcHVwKHBvcHVwXzMwMjFmMTI4MjMzYTRjYzNiZTczOTkxNzFhMzJhM2MzKQogICAgICAgIDsKCiAgICAgICAgCiAgICAKICAgIAogICAgICAgICAgICB2YXIgbWFya2VyX2UxNWQzYTdiZTdiMTRjNTQ5ZTNkMDA2ZjlkNTg5ZDg2ID0gTC5tYXJrZXIoCiAgICAgICAgICAgICAgICBbNDMuNzI4NDIwMDAwMDAwMDMsIC03OS4zODcxMzI2OTE5OTk5N10sCiAgICAgICAgICAgICAgICB7InJhZGl1cyI6IDV9CiAgICAgICAgICAgICkuYWRkVG8obWFwXzRhYjgxOWNjYWMyOTRmYmI4YTgyMDc3M2RmZDA0MmI5KTsKICAgICAgICAKICAgIAogICAgICAgIHZhciBwb3B1cF85ZGM5NGY1YTJjNDg0MWEzYjI0OGE1MTRhZmRlYTBkNCA9IEwucG9wdXAoeyJtYXhXaWR0aCI6ICIxMDAlIn0pOwoKICAgICAgICAKICAgICAgICAgICAgdmFyIGh0bWxfYzNkMzNmYmM4YmYyNGYwNThlMWNhMmJhNDA1MTRiMjcgPSAkKGA8ZGl2IGlkPSJodG1sX2MzZDMzZmJjOGJmMjRmMDU4ZTFjYTJiYTQwNTE0YjI3IiBzdHlsZT0id2lkdGg6IDEwMC4wJTsgaGVpZ2h0OiAxMDAuMCU7Ij5MYXdyZW5jZSBQYXJrPC9kaXY+YClbMF07CiAgICAgICAgICAgIHBvcHVwXzlkYzk0ZjVhMmM0ODQxYTNiMjQ4YTUxNGFmZGVhMGQ0LnNldENvbnRlbnQoaHRtbF9jM2QzM2ZiYzhiZjI0ZjA1OGUxY2EyYmE0MDUxNGIyNyk7CiAgICAgICAgCgogICAgICAgIG1hcmtlcl9lMTVkM2E3YmU3YjE0YzU0OWUzZDAwNmY5ZDU4OWQ4Ni5iaW5kUG9wdXAocG9wdXBfOWRjOTRmNWEyYzQ4NDFhM2IyNDhhNTE0YWZkZWEwZDQpCiAgICAgICAgOwoKICAgICAgICAKICAgIAogICAgCiAgICAgICAgICAgIHZhciBtYXJrZXJfM2IwNTZhMzc2ODAwNDkwYWJmZjIyZDJlYjgyNGYyNjYgPSBMLm1hcmtlcigKICAgICAgICAgICAgICAgIFs0My43MTE5NDExNTQwMDAwNDQsIC03OS40MTkxMTk5OTk5OTk5Nl0sCiAgICAgICAgICAgICAgICB7InJhZGl1cyI6IDV9CiAgICAgICAgICAgICkuYWRkVG8obWFwXzRhYjgxOWNjYWMyOTRmYmI4YTgyMDc3M2RmZDA0MmI5KTsKICAgICAgICAKICAgIAogICAgICAgIHZhciBwb3B1cF8wMWY0NWQ3OTMwMWU0NzdlODNkYjQxYzhiZjA5Y2FlZiA9IEwucG9wdXAoeyJtYXhXaWR0aCI6ICIxMDAlIn0pOwoKICAgICAgICAKICAgICAgICAgICAgdmFyIGh0bWxfOTBhOGNkZDVlMTMzNGIxNDk1ODJmYzRhNmE5NzlhMDQgPSAkKGA8ZGl2IGlkPSJodG1sXzkwYThjZGQ1ZTEzMzRiMTQ5NTgyZmM0YTZhOTc5YTA0IiBzdHlsZT0id2lkdGg6IDEwMC4wJTsgaGVpZ2h0OiAxMDAuMCU7Ij5Sb3NlbGF3bjwvZGl2PmApWzBdOwogICAgICAgICAgICBwb3B1cF8wMWY0NWQ3OTMwMWU0NzdlODNkYjQxYzhiZjA5Y2FlZi5zZXRDb250ZW50KGh0bWxfOTBhOGNkZDVlMTMzNGIxNDk1ODJmYzRhNmE5NzlhMDQpOwogICAgICAgIAoKICAgICAgICBtYXJrZXJfM2IwNTZhMzc2ODAwNDkwYWJmZjIyZDJlYjgyNGYyNjYuYmluZFBvcHVwKHBvcHVwXzAxZjQ1ZDc5MzAxZTQ3N2U4M2RiNDFjOGJmMDljYWVmKQogICAgICAgIDsKCiAgICAgICAgCiAgICAKICAgIAogICAgICAgICAgICB2YXIgbWFya2VyX2IwZDVjZjY5ZGFhNTQ1YmNhNjkxNjlmZjRiZjQxMWI4ID0gTC5tYXJrZXIoCiAgICAgICAgICAgICAgICBbNDMuNjc2MTI1MDAwMDAwMDcsIC03OS40ODE5MzIzNDA5OTk5NV0sCiAgICAgICAgICAgICAgICB7InJhZGl1cyI6IDV9CiAgICAgICAgICAgICkuYWRkVG8obWFwXzRhYjgxOWNjYWMyOTRmYmI4YTgyMDc3M2RmZDA0MmI5KTsKICAgICAgICAKICAgIAogICAgICAgIHZhciBwb3B1cF9mM2M2ZDNiODRkNzc0MWE2OTBlNGY0MTc3OGNlNzg5YSA9IEwucG9wdXAoeyJtYXhXaWR0aCI6ICIxMDAlIn0pOwoKICAgICAgICAKICAgICAgICAgICAgdmFyIGh0bWxfOTEwMzVhOTdmYzUyNGVlYWE2Mzk5YjRhY2UzNTgzZmUgPSAkKGA8ZGl2IGlkPSJodG1sXzkxMDM1YTk3ZmM1MjRlZWFhNjM5OWI0YWNlMzU4M2ZlIiBzdHlsZT0id2lkdGg6IDEwMC4wJTsgaGVpZ2h0OiAxMDAuMCU7Ij5UaGUgSnVuY3Rpb24gTm9ydGgsIFJ1bm55bWVkZTwvZGl2PmApWzBdOwogICAgICAgICAgICBwb3B1cF9mM2M2ZDNiODRkNzc0MWE2OTBlNGY0MTc3OGNlNzg5YS5zZXRDb250ZW50KGh0bWxfOTEwMzVhOTdmYzUyNGVlYWE2Mzk5YjRhY2UzNTgzZmUpOwogICAgICAgIAoKICAgICAgICBtYXJrZXJfYjBkNWNmNjlkYWE1NDViY2E2OTE2OWZmNGJmNDExYjguYmluZFBvcHVwKHBvcHVwX2YzYzZkM2I4NGQ3NzQxYTY5MGU0ZjQxNzc4Y2U3ODlhKQogICAgICAgIDsKCiAgICAgICAgCiAgICAKICAgIAogICAgICAgICAgICB2YXIgbWFya2VyXzBkNjI2NGM2ZDRiZDRiNmQ5MTEyZTg3MThhMGZjZjAwID0gTC5tYXJrZXIoCiAgICAgICAgICAgICAgICBbNDMuNzA0ODQ1MDAwMDAwMDM0LCAtNzkuNTE3NTQ2MDE1OTk5OThdLAogICAgICAgICAgICAgICAgeyJyYWRpdXMiOiA1fQogICAgICAgICAgICApLmFkZFRvKG1hcF80YWI4MTljY2FjMjk0ZmJiOGE4MjA3NzNkZmQwNDJiOSk7CiAgICAgICAgCiAgICAKICAgICAgICB2YXIgcG9wdXBfOWU0YmY0ZDBhZjJhNDY4MGIxYWU2ZDA4OTczZjc1NjQgPSBMLnBvcHVwKHsibWF4V2lkdGgiOiAiMTAwJSJ9KTsKCiAgICAgICAgCiAgICAgICAgICAgIHZhciBodG1sXzJmOWNiMDAwMjY3MDRlMzFhYzQ4YmEyZDk4YmNhM2RhID0gJChgPGRpdiBpZD0iaHRtbF8yZjljYjAwMDI2NzA0ZTMxYWM0OGJhMmQ5OGJjYTNkYSIgc3R5bGU9IndpZHRoOiAxMDAuMCU7IGhlaWdodDogMTAwLjAlOyI+V2VzdG9uPC9kaXY+YClbMF07CiAgICAgICAgICAgIHBvcHVwXzllNGJmNGQwYWYyYTQ2ODBiMWFlNmQwODk3M2Y3NTY0LnNldENvbnRlbnQoaHRtbF8yZjljYjAwMDI2NzA0ZTMxYWM0OGJhMmQ5OGJjYTNkYSk7CiAgICAgICAgCgogICAgICAgIG1hcmtlcl8wZDYyNjRjNmQ0YmQ0YjZkOTExMmU4NzE4YTBmY2YwMC5iaW5kUG9wdXAocG9wdXBfOWU0YmY0ZDBhZjJhNDY4MGIxYWU2ZDA4OTczZjc1NjQpCiAgICAgICAgOwoKICAgICAgICAKICAgIAogICAgCiAgICAgICAgICAgIHZhciBtYXJrZXJfNTEyODY4ZWVhMDJkNGI0NWE3MjFkMjZlNTk5NzQ3YjcgPSBMLm1hcmtlcigKICAgICAgICAgICAgICAgIFs0My43NTk5NzUwMDAwMDAwNTQsIC03OS4yNjg5NzQxODI5OTk5NV0sCiAgICAgICAgICAgICAgICB7InJhZGl1cyI6IDV9CiAgICAgICAgICAgICkuYWRkVG8obWFwXzRhYjgxOWNjYWMyOTRmYmI4YTgyMDc3M2RmZDA0MmI5KTsKICAgICAgICAKICAgIAogICAgICAgIHZhciBwb3B1cF9iODliMjNkNDU1ODE0ZjVkYjA4MDAyYTBkYzJlNzgzNyA9IEwucG9wdXAoeyJtYXhXaWR0aCI6ICIxMDAlIn0pOwoKICAgICAgICAKICAgICAgICAgICAgdmFyIGh0bWxfMTZmMzc0ZDYyNzczNDI2NWEyNGMwN2E2OTcxODljODIgPSAkKGA8ZGl2IGlkPSJodG1sXzE2ZjM3NGQ2Mjc3MzQyNjVhMjRjMDdhNjk3MTg5YzgyIiBzdHlsZT0id2lkdGg6IDEwMC4wJTsgaGVpZ2h0OiAxMDAuMCU7Ij5Eb3JzZXQgUGFyaywgU2NhcmJvcm91Z2ggVG93biBDZW50cmUsIFdleGZvcmQgSGVpZ2h0czwvZGl2PmApWzBdOwogICAgICAgICAgICBwb3B1cF9iODliMjNkNDU1ODE0ZjVkYjA4MDAyYTBkYzJlNzgzNy5zZXRDb250ZW50KGh0bWxfMTZmMzc0ZDYyNzczNDI2NWEyNGMwN2E2OTcxODljODIpOwogICAgICAgIAoKICAgICAgICBtYXJrZXJfNTEyODY4ZWVhMDJkNGI0NWE3MjFkMjZlNTk5NzQ3YjcuYmluZFBvcHVwKHBvcHVwX2I4OWIyM2Q0NTU4MTRmNWRiMDgwMDJhMGRjMmU3ODM3KQogICAgICAgIDsKCiAgICAgICAgCiAgICAKICAgIAogICAgICAgICAgICB2YXIgbWFya2VyX2Y4OTQwZjVmOWNmNzQ1N2Y4ZjU5YmU0YTM4Y2IzZjA0ID0gTC5tYXJrZXIoCiAgICAgICAgICAgICAgICBbNDMuNzQ3ODk1MDAwMDAwMDMsIC03OS4zOTk5MTg5Mzg5OTk5N10sCiAgICAgICAgICAgICAgICB7InJhZGl1cyI6IDV9CiAgICAgICAgICAgICkuYWRkVG8obWFwXzRhYjgxOWNjYWMyOTRmYmI4YTgyMDc3M2RmZDA0MmI5KTsKICAgICAgICAKICAgIAogICAgICAgIHZhciBwb3B1cF8xMWVlYmFiZmZjZWU0YjMyYWQ0Y2VhOTQwNjA0MzdjZSA9IEwucG9wdXAoeyJtYXhXaWR0aCI6ICIxMDAlIn0pOwoKICAgICAgICAKICAgICAgICAgICAgdmFyIGh0bWxfZDE0OGFhNmE5YmJiNDVhYTg4ZTc1MDEwMTJlMzg3ZDAgPSAkKGA8ZGl2IGlkPSJodG1sX2QxNDhhYTZhOWJiYjQ1YWE4OGU3NTAxMDEyZTM4N2QwIiBzdHlsZT0id2lkdGg6IDEwMC4wJTsgaGVpZ2h0OiAxMDAuMCU7Ij5Zb3JrIE1pbGxzIFdlc3Q8L2Rpdj5gKVswXTsKICAgICAgICAgICAgcG9wdXBfMTFlZWJhYmZmY2VlNGIzMmFkNGNlYTk0MDYwNDM3Y2Uuc2V0Q29udGVudChodG1sX2QxNDhhYTZhOWJiYjQ1YWE4OGU3NTAxMDEyZTM4N2QwKTsKICAgICAgICAKCiAgICAgICAgbWFya2VyX2Y4OTQwZjVmOWNmNzQ1N2Y4ZjU5YmU0YTM4Y2IzZjA0LmJpbmRQb3B1cChwb3B1cF8xMWVlYmFiZmZjZWU0YjMyYWQ0Y2VhOTQwNjA0MzdjZSkKICAgICAgICA7CgogICAgICAgIAogICAgCiAgICAKICAgICAgICAgICAgdmFyIG1hcmtlcl85NGQ4MGFlNWFhYTE0ZTQ0OTNjMWE5YTIyY2JiMzdmMSA9IEwubWFya2VyKAogICAgICAgICAgICAgICAgWzQzLjcxMjc1NTAwMDAwMDA3LCAtNzkuMzg4NTE0NDk2OTk5OTZdLAogICAgICAgICAgICAgICAgeyJyYWRpdXMiOiA1fQogICAgICAgICAgICApLmFkZFRvKG1hcF80YWI4MTljY2FjMjk0ZmJiOGE4MjA3NzNkZmQwNDJiOSk7CiAgICAgICAgCiAgICAKICAgICAgICB2YXIgcG9wdXBfZTEzNzJjNDQ1NjRiNDQ2MDljYjNmMWJiMTNjZDVkNzUgPSBMLnBvcHVwKHsibWF4V2lkdGgiOiAiMTAwJSJ9KTsKCiAgICAgICAgCiAgICAgICAgICAgIHZhciBodG1sXzRlMjRiMDkzMzg0ZjQyMGY4ODU1ZGY2ZTViNTJhZTQ2ID0gJChgPGRpdiBpZD0iaHRtbF80ZTI0YjA5MzM4NGY0MjBmODg1NWRmNmU1YjUyYWU0NiIgc3R5bGU9IndpZHRoOiAxMDAuMCU7IGhlaWdodDogMTAwLjAlOyI+RGF2aXN2aWxsZSBOb3J0aDwvZGl2PmApWzBdOwogICAgICAgICAgICBwb3B1cF9lMTM3MmM0NDU2NGI0NDYwOWNiM2YxYmIxM2NkNWQ3NS5zZXRDb250ZW50KGh0bWxfNGUyNGIwOTMzODRmNDIwZjg4NTVkZjZlNWI1MmFlNDYpOwogICAgICAgIAoKICAgICAgICBtYXJrZXJfOTRkODBhZTVhYWExNGU0NDkzYzFhOWEyMmNiYjM3ZjEuYmluZFBvcHVwKHBvcHVwX2UxMzcyYzQ0NTY0YjQ0NjA5Y2IzZjFiYjEzY2Q1ZDc1KQogICAgICAgIDsKCiAgICAgICAgCiAgICAKICAgIAogICAgICAgICAgICB2YXIgbWFya2VyX2U0MDIyYWI1ZDM4NDQ0OGY5YTJlODIyM2I5NjY4ZGY3ID0gTC5tYXJrZXIoCiAgICAgICAgICAgICAgICBbNDMuNjk0Nzg1MDAwMDAwMDgsIC03OS40MTQ0MDQ4MzI5OTk5NF0sCiAgICAgICAgICAgICAgICB7InJhZGl1cyI6IDV9CiAgICAgICAgICAgICkuYWRkVG8obWFwXzRhYjgxOWNjYWMyOTRmYmI4YTgyMDc3M2RmZDA0MmI5KTsKICAgICAgICAKICAgIAogICAgICAgIHZhciBwb3B1cF9iMzUyMjE4NTczYTE0ZDA1YTI1NDVhMjQ1YjdlN2JkMSA9IEwucG9wdXAoeyJtYXhXaWR0aCI6ICIxMDAlIn0pOwoKICAgICAgICAKICAgICAgICAgICAgdmFyIGh0bWxfYWQ5OTg4OWZmOTEyNDYzNGJmMjcyZjBlNjBhOTQyODAgPSAkKGA8ZGl2IGlkPSJodG1sX2FkOTk4ODlmZjkxMjQ2MzRiZjI3MmYwZTYwYTk0MjgwIiBzdHlsZT0id2lkdGg6IDEwMC4wJTsgaGVpZ2h0OiAxMDAuMCU7Ij5Gb3Jlc3QgSGlsbCBOb3J0aCwgRm9yZXN0IEhpbGwgV2VzdDwvZGl2PmApWzBdOwogICAgICAgICAgICBwb3B1cF9iMzUyMjE4NTczYTE0ZDA1YTI1NDVhMjQ1YjdlN2JkMS5zZXRDb250ZW50KGh0bWxfYWQ5OTg4OWZmOTEyNDYzNGJmMjcyZjBlNjBhOTQyODApOwogICAgICAgIAoKICAgICAgICBtYXJrZXJfZTQwMjJhYjVkMzg0NDQ4ZjlhMmU4MjIzYjk2NjhkZjcuYmluZFBvcHVwKHBvcHVwX2IzNTIyMTg1NzNhMTRkMDVhMjU0NWEyNDViN2U3YmQxKQogICAgICAgIDsKCiAgICAgICAgCiAgICAKICAgIAogICAgICAgICAgICB2YXIgbWFya2VyX2I3MzNmZWQ3ZDM5NTQ0YzM4NTk3NTJjNGQyYjQ1OWM1ID0gTC5tYXJrZXIoCiAgICAgICAgICAgICAgICBbNDMuNjU5OTM1MDAwMDAwMDc1LCAtNzkuNDYzMDE5MjYyOTk5OThdLAogICAgICAgICAgICAgICAgeyJyYWRpdXMiOiA1fQogICAgICAgICAgICApLmFkZFRvKG1hcF80YWI4MTljY2FjMjk0ZmJiOGE4MjA3NzNkZmQwNDJiOSk7CiAgICAgICAgCiAgICAKICAgICAgICB2YXIgcG9wdXBfODk0YjM5ZDVkNTZiNGZkZDg1ZGQwZTNlZjk4YmEyMjkgPSBMLnBvcHVwKHsibWF4V2lkdGgiOiAiMTAwJSJ9KTsKCiAgICAgICAgCiAgICAgICAgICAgIHZhciBodG1sXzdiNmQzYTVjZmRkMTQ2YjQ5NDEwMjljYmRjOWQ1NTEwID0gJChgPGRpdiBpZD0iaHRtbF83YjZkM2E1Y2ZkZDE0NmI0OTQxMDI5Y2JkYzlkNTUxMCIgc3R5bGU9IndpZHRoOiAxMDAuMCU7IGhlaWdodDogMTAwLjAlOyI+SGlnaCBQYXJrLCBUaGUgSnVuY3Rpb24gU291dGg8L2Rpdj5gKVswXTsKICAgICAgICAgICAgcG9wdXBfODk0YjM5ZDVkNTZiNGZkZDg1ZGQwZTNlZjk4YmEyMjkuc2V0Q29udGVudChodG1sXzdiNmQzYTVjZmRkMTQ2YjQ5NDEwMjljYmRjOWQ1NTEwKTsKICAgICAgICAKCiAgICAgICAgbWFya2VyX2I3MzNmZWQ3ZDM5NTQ0YzM4NTk3NTJjNGQyYjQ1OWM1LmJpbmRQb3B1cChwb3B1cF84OTRiMzlkNWQ1NmI0ZmRkODVkZDBlM2VmOThiYTIyOSkKICAgICAgICA7CgogICAgICAgIAogICAgCiAgICAKICAgICAgICAgICAgdmFyIG1hcmtlcl9kOTY1N2JjYjUzNTc0NjJkODRjMTVmNGJhYWNmZmRkMCA9IEwubWFya2VyKAogICAgICAgICAgICAgICAgWzQzLjY5NjUwNTAwMDAwMDA2LCAtNzkuNTMwMjUyMzM3OTk5OTddLAogICAgICAgICAgICAgICAgeyJyYWRpdXMiOiA1fQogICAgICAgICAgICApLmFkZFRvKG1hcF80YWI4MTljY2FjMjk0ZmJiOGE4MjA3NzNkZmQwNDJiOSk7CiAgICAgICAgCiAgICAKICAgICAgICB2YXIgcG9wdXBfZDA1MjUyNGRiNDFmNDM5NmIxN2JmZWMwZDdhZjgzNzEgPSBMLnBvcHVwKHsibWF4V2lkdGgiOiAiMTAwJSJ9KTsKCiAgICAgICAgCiAgICAgICAgICAgIHZhciBodG1sXzJkYjZjNTg0NzUyODQyNjM5NjJkZDljZDVkMzUzOWMwID0gJChgPGRpdiBpZD0iaHRtbF8yZGI2YzU4NDc1Mjg0MjYzOTYyZGQ5Y2Q1ZDM1MzljMCIgc3R5bGU9IndpZHRoOiAxMDAuMCU7IGhlaWdodDogMTAwLjAlOyI+V2VzdG1vdW50PC9kaXY+YClbMF07CiAgICAgICAgICAgIHBvcHVwX2QwNTI1MjRkYjQxZjQzOTZiMTdiZmVjMGQ3YWY4MzcxLnNldENvbnRlbnQoaHRtbF8yZGI2YzU4NDc1Mjg0MjYzOTYyZGQ5Y2Q1ZDM1MzljMCk7CiAgICAgICAgCgogICAgICAgIG1hcmtlcl9kOTY1N2JjYjUzNTc0NjJkODRjMTVmNGJhYWNmZmRkMC5iaW5kUG9wdXAocG9wdXBfZDA1MjUyNGRiNDFmNDM5NmIxN2JmZWMwZDdhZjgzNzEpCiAgICAgICAgOwoKICAgICAgICAKICAgIAogICAgCiAgICAgICAgICAgIHZhciBtYXJrZXJfNDQ5MzY4YTY0ZWNjNDQ1MzkyMDYxNjJiMzA2NjRlNjkgPSBMLm1hcmtlcigKICAgICAgICAgICAgICAgIFs0My43NTA3MTA0NjQwMDAwNjUsIC03OS4zMDA1NTk5OTk5OTk5Nl0sCiAgICAgICAgICAgICAgICB7InJhZGl1cyI6IDV9CiAgICAgICAgICAgICkuYWRkVG8obWFwXzRhYjgxOWNjYWMyOTRmYmI4YTgyMDc3M2RmZDA0MmI5KTsKICAgICAgICAKICAgIAogICAgICAgIHZhciBwb3B1cF82YTgzMjU2MDVlMzY0NTQ5Yjc3MTI5MzViNTMwMjUzMCA9IEwucG9wdXAoeyJtYXhXaWR0aCI6ICIxMDAlIn0pOwoKICAgICAgICAKICAgICAgICAgICAgdmFyIGh0bWxfNGVmMTcyYzg5MDE2NGFhMmJkY2I4M2E3N2JiMDc3YmEgPSAkKGA8ZGl2IGlkPSJodG1sXzRlZjE3MmM4OTAxNjRhYTJiZGNiODNhNzdiYjA3N2JhIiBzdHlsZT0id2lkdGg6IDEwMC4wJTsgaGVpZ2h0OiAxMDAuMCU7Ij5NYXJ5dmFsZSwgV2V4Zm9yZDwvZGl2PmApWzBdOwogICAgICAgICAgICBwb3B1cF82YTgzMjU2MDVlMzY0NTQ5Yjc3MTI5MzViNTMwMjUzMC5zZXRDb250ZW50KGh0bWxfNGVmMTcyYzg5MDE2NGFhMmJkY2I4M2E3N2JiMDc3YmEpOwogICAgICAgIAoKICAgICAgICBtYXJrZXJfNDQ5MzY4YTY0ZWNjNDQ1MzkyMDYxNjJiMzA2NjRlNjkuYmluZFBvcHVwKHBvcHVwXzZhODMyNTYwNWUzNjQ1NDliNzcxMjkzNWI1MzAyNTMwKQogICAgICAgIDsKCiAgICAgICAgCiAgICAKICAgIAogICAgICAgICAgICB2YXIgbWFya2VyXzZhN2NjOWMyMjlhNDRhNzQ5MGY2ZTAzOTg5NGIwMWJmID0gTC5tYXJrZXIoCiAgICAgICAgICAgICAgICBbNDMuNzc3Njk1MDAwMDAwMDUsIC03OS40NDU3OTY1NzI5OTk5NF0sCiAgICAgICAgICAgICAgICB7InJhZGl1cyI6IDV9CiAgICAgICAgICAgICkuYWRkVG8obWFwXzRhYjgxOWNjYWMyOTRmYmI4YTgyMDc3M2RmZDA0MmI5KTsKICAgICAgICAKICAgIAogICAgICAgIHZhciBwb3B1cF8xYWVkMmYxZjgwYmM0ZjZlYTBmZjIzN2M1YjI3Yzg5OSA9IEwucG9wdXAoeyJtYXhXaWR0aCI6ICIxMDAlIn0pOwoKICAgICAgICAKICAgICAgICAgICAgdmFyIGh0bWxfNDUzN2I0NTVkZTQyNGNkMmFiNjM0YmE1MTJhMDU0ZjYgPSAkKGA8ZGl2IGlkPSJodG1sXzQ1MzdiNDU1ZGU0MjRjZDJhYjYzNGJhNTEyYTA1NGY2IiBzdHlsZT0id2lkdGg6IDEwMC4wJTsgaGVpZ2h0OiAxMDAuMCU7Ij5XaWxsb3dkYWxlIFdlc3Q8L2Rpdj5gKVswXTsKICAgICAgICAgICAgcG9wdXBfMWFlZDJmMWY4MGJjNGY2ZWEwZmYyMzdjNWIyN2M4OTkuc2V0Q29udGVudChodG1sXzQ1MzdiNDU1ZGU0MjRjZDJhYjYzNGJhNTEyYTA1NGY2KTsKICAgICAgICAKCiAgICAgICAgbWFya2VyXzZhN2NjOWMyMjlhNDRhNzQ5MGY2ZTAzOTg5NGIwMWJmLmJpbmRQb3B1cChwb3B1cF8xYWVkMmYxZjgwYmM0ZjZlYTBmZjIzN2M1YjI3Yzg5OSkKICAgICAgICA7CgogICAgICAgIAogICAgCiAgICAKICAgICAgICAgICAgdmFyIG1hcmtlcl83M2U2NjIyNGQ5Mjk0NmQ5ODVmNTUyODlmYWZjZTA4OSA9IEwubWFya2VyKAogICAgICAgICAgICAgICAgWzQzLjcxNDUyMjc4NDAwMDA1LCAtNzkuNDA2OTU5OTk5OTk5OTddLAogICAgICAgICAgICAgICAgeyJyYWRpdXMiOiA1fQogICAgICAgICAgICApLmFkZFRvKG1hcF80YWI4MTljY2FjMjk0ZmJiOGE4MjA3NzNkZmQwNDJiOSk7CiAgICAgICAgCiAgICAKICAgICAgICB2YXIgcG9wdXBfYTA4NDk3MmZlYjFjNDcwMjk0ODU1ODAwMDQyYzRkMzAgPSBMLnBvcHVwKHsibWF4V2lkdGgiOiAiMTAwJSJ9KTsKCiAgICAgICAgCiAgICAgICAgICAgIHZhciBodG1sX2RkZDEyZmE4MTU3ZjRlMWNhMDE2YzllMTA1ZTJjNDg3ID0gJChgPGRpdiBpZD0iaHRtbF9kZGQxMmZhODE1N2Y0ZTFjYTAxNmM5ZTEwNWUyYzQ4NyIgc3R5bGU9IndpZHRoOiAxMDAuMCU7IGhlaWdodDogMTAwLjAlOyI+Tm9ydGggVG9yb250byBXZXN0PC9kaXY+YClbMF07CiAgICAgICAgICAgIHBvcHVwX2EwODQ5NzJmZWIxYzQ3MDI5NDg1NTgwMDA0MmM0ZDMwLnNldENvbnRlbnQoaHRtbF9kZGQxMmZhODE1N2Y0ZTFjYTAxNmM5ZTEwNWUyYzQ4Nyk7CiAgICAgICAgCgogICAgICAgIG1hcmtlcl83M2U2NjIyNGQ5Mjk0NmQ5ODVmNTUyODlmYWZjZTA4OS5iaW5kUG9wdXAocG9wdXBfYTA4NDk3MmZlYjFjNDcwMjk0ODU1ODAwMDQyYzRkMzApCiAgICAgICAgOwoKICAgICAgICAKICAgIAogICAgCiAgICAgICAgICAgIHZhciBtYXJrZXJfMDIyMThkZjQyMGYwNGQyYWE5Y2U3MzZkNzQzMTRjOTkgPSBMLm1hcmtlcigKICAgICAgICAgICAgICAgIFs0My42NzQ4NDAwMDAwMDAwNzQsIC03OS40MDM3NjgyMzk5OTk5OF0sCiAgICAgICAgICAgICAgICB7InJhZGl1cyI6IDV9CiAgICAgICAgICAgICkuYWRkVG8obWFwXzRhYjgxOWNjYWMyOTRmYmI4YTgyMDc3M2RmZDA0MmI5KTsKICAgICAgICAKICAgIAogICAgICAgIHZhciBwb3B1cF9mYjVmNjdmM2E2NDk0Yjg1YTUzZDgyODcxYjRmMjVjNiA9IEwucG9wdXAoeyJtYXhXaWR0aCI6ICIxMDAlIn0pOwoKICAgICAgICAKICAgICAgICAgICAgdmFyIGh0bWxfNDc2ZDkwNThiZTEwNDYxZTg1NjRkNDg5MzA0N2Y0MTcgPSAkKGA8ZGl2IGlkPSJodG1sXzQ3NmQ5MDU4YmUxMDQ2MWU4NTY0ZDQ4OTMwNDdmNDE3IiBzdHlsZT0id2lkdGg6IDEwMC4wJTsgaGVpZ2h0OiAxMDAuMCU7Ij5UaGUgQW5uZXgsIE5vcnRoIE1pZHRvd24sIFlvcmt2aWxsZTwvZGl2PmApWzBdOwogICAgICAgICAgICBwb3B1cF9mYjVmNjdmM2E2NDk0Yjg1YTUzZDgyODcxYjRmMjVjNi5zZXRDb250ZW50KGh0bWxfNDc2ZDkwNThiZTEwNDYxZTg1NjRkNDg5MzA0N2Y0MTcpOwogICAgICAgIAoKICAgICAgICBtYXJrZXJfMDIyMThkZjQyMGYwNGQyYWE5Y2U3MzZkNzQzMTRjOTkuYmluZFBvcHVwKHBvcHVwX2ZiNWY2N2YzYTY0OTRiODVhNTNkODI4NzFiNGYyNWM2KQogICAgICAgIDsKCiAgICAgICAgCiAgICAKICAgIAogICAgICAgICAgICB2YXIgbWFya2VyXzFhMDEwYTU0YzRlYzQ0ZjdhZGI5MjU2ZWQyMWZmNDMxID0gTC5tYXJrZXIoCiAgICAgICAgICAgICAgICBbNDMuNjQ3ODcwMDAwMDAwMDcsIC03OS40NDk3NzYxOTA5OTk5Nl0sCiAgICAgICAgICAgICAgICB7InJhZGl1cyI6IDV9CiAgICAgICAgICAgICkuYWRkVG8obWFwXzRhYjgxOWNjYWMyOTRmYmI4YTgyMDc3M2RmZDA0MmI5KTsKICAgICAgICAKICAgIAogICAgICAgIHZhciBwb3B1cF9iYmUwMWRjODU0NTU0NzM0ODc2NTFiNTU0M2MwMzhhYyA9IEwucG9wdXAoeyJtYXhXaWR0aCI6ICIxMDAlIn0pOwoKICAgICAgICAKICAgICAgICAgICAgdmFyIGh0bWxfYmNjZWQ2OTliYjhiNDUzMjkyZjM2ZTZlZmY3MjM1Y2MgPSAkKGA8ZGl2IGlkPSJodG1sX2JjY2VkNjk5YmI4YjQ1MzI5MmYzNmU2ZWZmNzIzNWNjIiBzdHlsZT0id2lkdGg6IDEwMC4wJTsgaGVpZ2h0OiAxMDAuMCU7Ij5QYXJrZGFsZSwgUm9uY2VzdmFsbGVzPC9kaXY+YClbMF07CiAgICAgICAgICAgIHBvcHVwX2JiZTAxZGM4NTQ1NTQ3MzQ4NzY1MWI1NTQzYzAzOGFjLnNldENvbnRlbnQoaHRtbF9iY2NlZDY5OWJiOGI0NTMyOTJmMzZlNmVmZjcyMzVjYyk7CiAgICAgICAgCgogICAgICAgIG1hcmtlcl8xYTAxMGE1NGM0ZWM0NGY3YWRiOTI1NmVkMjFmZjQzMS5iaW5kUG9wdXAocG9wdXBfYmJlMDFkYzg1NDU1NDczNDg3NjUxYjU1NDNjMDM4YWMpCiAgICAgICAgOwoKICAgICAgICAKICAgIAogICAgCiAgICAgICAgICAgIHZhciBtYXJrZXJfMzFjMmNjYTk1Y2MzNGVjNTlhMzdhNGI5ZjBhYmU5YjQgPSBMLm1hcmtlcigKICAgICAgICAgICAgICAgIFs0My42NDg2OTAwMDAwMDAwNDUsIC03OS4zODU0Mzk5OTk5OTk5Nl0sCiAgICAgICAgICAgICAgICB7InJhZGl1cyI6IDV9CiAgICAgICAgICAgICkuYWRkVG8obWFwXzRhYjgxOWNjYWMyOTRmYmI4YTgyMDc3M2RmZDA0MmI5KTsKICAgICAgICAKICAgIAogICAgICAgIHZhciBwb3B1cF9lMjJhZTkxZDg3Mjc0MGRmOTQ0ODQ1NGU1MmRjMjFjYiA9IEwucG9wdXAoeyJtYXhXaWR0aCI6ICIxMDAlIn0pOwoKICAgICAgICAKICAgICAgICAgICAgdmFyIGh0bWxfOWFjYmQ3ZjkyZTZmNDA5MzgxNDdmNzgzMTZiZTliYzUgPSAkKGA8ZGl2IGlkPSJodG1sXzlhY2JkN2Y5MmU2ZjQwOTM4MTQ3Zjc4MzE2YmU5YmM1IiBzdHlsZT0id2lkdGg6IDEwMC4wJTsgaGVpZ2h0OiAxMDAuMCU7Ij5DYW5hZGEgUG9zdCBHYXRld2F5IFByb2Nlc3NpbmcgQ2VudHJlPC9kaXY+YClbMF07CiAgICAgICAgICAgIHBvcHVwX2UyMmFlOTFkODcyNzQwZGY5NDQ4NDU0ZTUyZGMyMWNiLnNldENvbnRlbnQoaHRtbF85YWNiZDdmOTJlNmY0MDkzODE0N2Y3ODMxNmJlOWJjNSk7CiAgICAgICAgCgogICAgICAgIG1hcmtlcl8zMWMyY2NhOTVjYzM0ZWM1OWEzN2E0YjlmMGFiZTliNC5iaW5kUG9wdXAocG9wdXBfZTIyYWU5MWQ4NzI3NDBkZjk0NDg0NTRlNTJkYzIxY2IpCiAgICAgICAgOwoKICAgICAgICAKICAgIAogICAgCiAgICAgICAgICAgIHZhciBtYXJrZXJfOGEwMGVhYWIyN2RhNDdkNzk0NTJmM2FiOTk5YTAyZmUgPSBMLm1hcmtlcigKICAgICAgICAgICAgICAgIFs0My42ODY4MTAwMDAwMDAwNCwgLTc5LjU1NzI4MzU0MDk5OTk1XSwKICAgICAgICAgICAgICAgIHsicmFkaXVzIjogNX0KICAgICAgICAgICAgKS5hZGRUbyhtYXBfNGFiODE5Y2NhYzI5NGZiYjhhODIwNzczZGZkMDQyYjkpOwogICAgICAgIAogICAgCiAgICAgICAgdmFyIHBvcHVwXzAzYmI1NjdkZWQ5MDRiOTNiZDUzY2MyY2M0ZTBjMDBlID0gTC5wb3B1cCh7Im1heFdpZHRoIjogIjEwMCUifSk7CgogICAgICAgIAogICAgICAgICAgICB2YXIgaHRtbF85MDU2OTZjOGVlNTA0Yjc4OGM1ZGYyMzdjYjg4ZjFlNiA9ICQoYDxkaXYgaWQ9Imh0bWxfOTA1Njk2YzhlZTUwNGI3ODhjNWRmMjM3Y2I4OGYxZTYiIHN0eWxlPSJ3aWR0aDogMTAwLjAlOyBoZWlnaHQ6IDEwMC4wJTsiPktpbmdzdmlldyBWaWxsYWdlLCBNYXJ0aW4gR3JvdmUgR2FyZGVucywgUmljaHZpZXcgR2FyZGVucywgU3QuIFBoaWxsaXBzPC9kaXY+YClbMF07CiAgICAgICAgICAgIHBvcHVwXzAzYmI1NjdkZWQ5MDRiOTNiZDUzY2MyY2M0ZTBjMDBlLnNldENvbnRlbnQoaHRtbF85MDU2OTZjOGVlNTA0Yjc4OGM1ZGYyMzdjYjg4ZjFlNik7CiAgICAgICAgCgogICAgICAgIG1hcmtlcl84YTAwZWFhYjI3ZGE0N2Q3OTQ1MmYzYWI5OTlhMDJmZS5iaW5kUG9wdXAocG9wdXBfMDNiYjU2N2RlZDkwNGI5M2JkNTNjYzJjYzRlMGMwMGUpCiAgICAgICAgOwoKICAgICAgICAKICAgIAogICAgCiAgICAgICAgICAgIHZhciBtYXJrZXJfNzAzNDk5ODFmZDQzNDVhYzk3NDYxMTE2ZGYxYTFkZDAgPSBMLm1hcmtlcigKICAgICAgICAgICAgICAgIFs0My43OTM5NDAwMDAwMDAwOCwgLTc5LjI2Nzk3NjEzOTk5OTk3XSwKICAgICAgICAgICAgICAgIHsicmFkaXVzIjogNX0KICAgICAgICAgICAgKS5hZGRUbyhtYXBfNGFiODE5Y2NhYzI5NGZiYjhhODIwNzczZGZkMDQyYjkpOwogICAgICAgIAogICAgCiAgICAgICAgdmFyIHBvcHVwX2QyMzc1OTA4MzhhNDQ2MTE4YjY1ZWNiYjIxOTRiYjcxID0gTC5wb3B1cCh7Im1heFdpZHRoIjogIjEwMCUifSk7CgogICAgICAgIAogICAgICAgICAgICB2YXIgaHRtbF82YzVkMzYwZWI2MTI0YWMwYTVmNzAwMzA0MGNkM2NjZCA9ICQoYDxkaXYgaWQ9Imh0bWxfNmM1ZDM2MGViNjEyNGFjMGE1ZjcwMDMwNDBjZDNjY2QiIHN0eWxlPSJ3aWR0aDogMTAwLjAlOyBoZWlnaHQ6IDEwMC4wJTsiPkFnaW5jb3VydDwvZGl2PmApWzBdOwogICAgICAgICAgICBwb3B1cF9kMjM3NTkwODM4YTQ0NjExOGI2NWVjYmIyMTk0YmI3MS5zZXRDb250ZW50KGh0bWxfNmM1ZDM2MGViNjEyNGFjMGE1ZjcwMDMwNDBjZDNjY2QpOwogICAgICAgIAoKICAgICAgICBtYXJrZXJfNzAzNDk5ODFmZDQzNDVhYzk3NDYxMTE2ZGYxYTFkZDAuYmluZFBvcHVwKHBvcHVwX2QyMzc1OTA4MzhhNDQ2MTE4YjY1ZWNiYjIxOTRiYjcxKQogICAgICAgIDsKCiAgICAgICAgCiAgICAKICAgIAogICAgICAgICAgICB2YXIgbWFya2VyX2I0NzkwMTU5ODVlNjRjNDQ4MTcxOTE5NWUwYmIwNjc1ID0gTC5tYXJrZXIoCiAgICAgICAgICAgICAgICBbNDMuNzAzMzk1MDAwMDAwMDYsIC03OS4zODU5NjM2MDQ5OTk5N10sCiAgICAgICAgICAgICAgICB7InJhZGl1cyI6IDV9CiAgICAgICAgICAgICkuYWRkVG8obWFwXzRhYjgxOWNjYWMyOTRmYmI4YTgyMDc3M2RmZDA0MmI5KTsKICAgICAgICAKICAgIAogICAgICAgIHZhciBwb3B1cF80NWE0OTk2OWNhYzU0ZGEzYmVmZmNhOTY5MzlkZDJmZiA9IEwucG9wdXAoeyJtYXhXaWR0aCI6ICIxMDAlIn0pOwoKICAgICAgICAKICAgICAgICAgICAgdmFyIGh0bWxfNjAyMTFiMmUyYjMxNGZjZGFjY2U5MWJlMDUxNTQ5YTAgPSAkKGA8ZGl2IGlkPSJodG1sXzYwMjExYjJlMmIzMTRmY2RhY2NlOTFiZTA1MTU0OWEwIiBzdHlsZT0id2lkdGg6IDEwMC4wJTsgaGVpZ2h0OiAxMDAuMCU7Ij5EYXZpc3ZpbGxlPC9kaXY+YClbMF07CiAgICAgICAgICAgIHBvcHVwXzQ1YTQ5OTY5Y2FjNTRkYTNiZWZmY2E5NjkzOWRkMmZmLnNldENvbnRlbnQoaHRtbF82MDIxMWIyZTJiMzE0ZmNkYWNjZTkxYmUwNTE1NDlhMCk7CiAgICAgICAgCgogICAgICAgIG1hcmtlcl9iNDc5MDE1OTg1ZTY0YzQ0ODE3MTkxOTVlMGJiMDY3NS5iaW5kUG9wdXAocG9wdXBfNDVhNDk5NjljYWM1NGRhM2JlZmZjYTk2OTM5ZGQyZmYpCiAgICAgICAgOwoKICAgICAgICAKICAgIAogICAgCiAgICAgICAgICAgIHZhciBtYXJrZXJfZWQxMTVlZDlmNThkNDhlM2E3NzI1NGNkN2E0MzY2MWIgPSBMLm1hcmtlcigKICAgICAgICAgICAgICAgIFs0My42NjMxMTAwMDAwMDAwNzQsIC03OS40MDE4MDA1NjY5OTk5NV0sCiAgICAgICAgICAgICAgICB7InJhZGl1cyI6IDV9CiAgICAgICAgICAgICkuYWRkVG8obWFwXzRhYjgxOWNjYWMyOTRmYmI4YTgyMDc3M2RmZDA0MmI5KTsKICAgICAgICAKICAgIAogICAgICAgIHZhciBwb3B1cF84Y2M4M2ExZTlhNTU0MzI5OWJhZWVjOTJmOTQwMWEwNiA9IEwucG9wdXAoeyJtYXhXaWR0aCI6ICIxMDAlIn0pOwoKICAgICAgICAKICAgICAgICAgICAgdmFyIGh0bWxfNWYxNjFkYjkzMTNjNGIzMWIyYzViMTJkOGNhNmY0MWMgPSAkKGA8ZGl2IGlkPSJodG1sXzVmMTYxZGI5MzEzYzRiMzFiMmM1YjEyZDhjYTZmNDFjIiBzdHlsZT0id2lkdGg6IDEwMC4wJTsgaGVpZ2h0OiAxMDAuMCU7Ij5IYXJib3JkLCBVbml2ZXJzaXR5IG9mIFRvcm9udG88L2Rpdj5gKVswXTsKICAgICAgICAgICAgcG9wdXBfOGNjODNhMWU5YTU1NDMyOTliYWVlYzkyZjk0MDFhMDYuc2V0Q29udGVudChodG1sXzVmMTYxZGI5MzEzYzRiMzFiMmM1YjEyZDhjYTZmNDFjKTsKICAgICAgICAKCiAgICAgICAgbWFya2VyX2VkMTE1ZWQ5ZjU4ZDQ4ZTNhNzcyNTRjZDdhNDM2NjFiLmJpbmRQb3B1cChwb3B1cF84Y2M4M2ExZTlhNTU0MzI5OWJhZWVjOTJmOTQwMWEwNikKICAgICAgICA7CgogICAgICAgIAogICAgCiAgICAKICAgICAgICAgICAgdmFyIG1hcmtlcl9kMDYxZTQxMDRhZWU0MTg2OWQzYzhlNjE5OTIwY2ZmNyA9IEwubWFya2VyKAogICAgICAgICAgICAgICAgWzQzLjY0OTYyMDAwMDAwMDAzLCAtNzkuNDc2MTQwODU4OTk5OTRdLAogICAgICAgICAgICAgICAgeyJyYWRpdXMiOiA1fQogICAgICAgICAgICApLmFkZFRvKG1hcF80YWI4MTljY2FjMjk0ZmJiOGE4MjA3NzNkZmQwNDJiOSk7CiAgICAgICAgCiAgICAKICAgICAgICB2YXIgcG9wdXBfOThhMjg3ZjFhZjhhNDM5MmFlYTJjMjAwNjhjODUxZWEgPSBMLnBvcHVwKHsibWF4V2lkdGgiOiAiMTAwJSJ9KTsKCiAgICAgICAgCiAgICAgICAgICAgIHZhciBodG1sX2I2YzBlYTFiMzA2MzRkMWI4ZDcxMTliYjAxNzVlNGIxID0gJChgPGRpdiBpZD0iaHRtbF9iNmMwZWExYjMwNjM0ZDFiOGQ3MTE5YmIwMTc1ZTRiMSIgc3R5bGU9IndpZHRoOiAxMDAuMCU7IGhlaWdodDogMTAwLjAlOyI+UnVubnltZWRlLCBTd2Fuc2VhPC9kaXY+YClbMF07CiAgICAgICAgICAgIHBvcHVwXzk4YTI4N2YxYWY4YTQzOTJhZWEyYzIwMDY4Yzg1MWVhLnNldENvbnRlbnQoaHRtbF9iNmMwZWExYjMwNjM0ZDFiOGQ3MTE5YmIwMTc1ZTRiMSk7CiAgICAgICAgCgogICAgICAgIG1hcmtlcl9kMDYxZTQxMDRhZWU0MTg2OWQzYzhlNjE5OTIwY2ZmNy5iaW5kUG9wdXAocG9wdXBfOThhMjg3ZjFhZjhhNDM5MmFlYTJjMjAwNjhjODUxZWEpCiAgICAgICAgOwoKICAgICAgICAKICAgIAogICAgCiAgICAgICAgICAgIHZhciBtYXJrZXJfM2Q4ODUyMDI1NmQ0NGFjZDk2NmYxNTI2NTdjOTM1NWUgPSBMLm1hcmtlcigKICAgICAgICAgICAgICAgIFs0My43ODQ3MjUwMDAwMDAwNCwgLTc5LjI5OTA2NjAzMjk5OTk3XSwKICAgICAgICAgICAgICAgIHsicmFkaXVzIjogNX0KICAgICAgICAgICAgKS5hZGRUbyhtYXBfNGFiODE5Y2NhYzI5NGZiYjhhODIwNzczZGZkMDQyYjkpOwogICAgICAgIAogICAgCiAgICAgICAgdmFyIHBvcHVwX2RkNDEwYmM1NDVhNzRiNjhiM2FhYWY0N2M4OGZjNGZjID0gTC5wb3B1cCh7Im1heFdpZHRoIjogIjEwMCUifSk7CgogICAgICAgIAogICAgICAgICAgICB2YXIgaHRtbF9hMTRlMzNjMjAyZDQ0Y2FjOTE0OWVjYmY5YWQwOGNhNSA9ICQoYDxkaXYgaWQ9Imh0bWxfYTE0ZTMzYzIwMmQ0NGNhYzkxNDllY2JmOWFkMDhjYTUiIHN0eWxlPSJ3aWR0aDogMTAwLjAlOyBoZWlnaHQ6IDEwMC4wJTsiPkNsYXJrcyBDb3JuZXJzLCBTdWxsaXZhbiwgVGFtIE8nU2hhbnRlcjwvZGl2PmApWzBdOwogICAgICAgICAgICBwb3B1cF9kZDQxMGJjNTQ1YTc0YjY4YjNhYWFmNDdjODhmYzRmYy5zZXRDb250ZW50KGh0bWxfYTE0ZTMzYzIwMmQ0NGNhYzkxNDllY2JmOWFkMDhjYTUpOwogICAgICAgIAoKICAgICAgICBtYXJrZXJfM2Q4ODUyMDI1NmQ0NGFjZDk2NmYxNTI2NTdjOTM1NWUuYmluZFBvcHVwKHBvcHVwX2RkNDEwYmM1NDVhNzRiNjhiM2FhYWY0N2M4OGZjNGZjKQogICAgICAgIDsKCiAgICAgICAgCiAgICAKICAgIAogICAgICAgICAgICB2YXIgbWFya2VyX2FlMTVmMDk4MDQwZDQ0ODZhYTE5OGZmODFjMjlmNTEzID0gTC5tYXJrZXIoCiAgICAgICAgICAgICAgICBbNDMuNjkwNjg1MDAwMDAwMDMsIC03OS4zODI5NDU3NDI5OTk5NF0sCiAgICAgICAgICAgICAgICB7InJhZGl1cyI6IDV9CiAgICAgICAgICAgICkuYWRkVG8obWFwXzRhYjgxOWNjYWMyOTRmYmI4YTgyMDc3M2RmZDA0MmI5KTsKICAgICAgICAKICAgIAogICAgICAgIHZhciBwb3B1cF84MDFiN2Q1N2JhN2U0Nzk4OTQzYmI0Y2NjMzdhYTdlNyA9IEwucG9wdXAoeyJtYXhXaWR0aCI6ICIxMDAlIn0pOwoKICAgICAgICAKICAgICAgICAgICAgdmFyIGh0bWxfOGExNjk0NTNiNTdkNDI1MjgyNDcyOGUyNTcyNmYxZWYgPSAkKGA8ZGl2IGlkPSJodG1sXzhhMTY5NDUzYjU3ZDQyNTI4MjQ3MjhlMjU3MjZmMWVmIiBzdHlsZT0id2lkdGg6IDEwMC4wJTsgaGVpZ2h0OiAxMDAuMCU7Ij5Nb29yZSBQYXJrLCBTdW1tZXJoaWxsIEVhc3Q8L2Rpdj5gKVswXTsKICAgICAgICAgICAgcG9wdXBfODAxYjdkNTdiYTdlNDc5ODk0M2JiNGNjYzM3YWE3ZTcuc2V0Q29udGVudChodG1sXzhhMTY5NDUzYjU3ZDQyNTI4MjQ3MjhlMjU3MjZmMWVmKTsKICAgICAgICAKCiAgICAgICAgbWFya2VyX2FlMTVmMDk4MDQwZDQ0ODZhYTE5OGZmODFjMjlmNTEzLmJpbmRQb3B1cChwb3B1cF84MDFiN2Q1N2JhN2U0Nzk4OTQzYmI0Y2NjMzdhYTdlNykKICAgICAgICA7CgogICAgICAgIAogICAgCiAgICAKICAgICAgICAgICAgdmFyIG1hcmtlcl9kNWJlOGZhMzJmZWE0MGQ1YjBkZDUxMjNlMzM0NzczMiA9IEwubWFya2VyKAogICAgICAgICAgICAgICAgWzQzLjY1MzUzMDAwMDAwMDA0NiwgLTc5LjM5NzIzMjY4Mjk5OTk3XSwKICAgICAgICAgICAgICAgIHsicmFkaXVzIjogNX0KICAgICAgICAgICAgKS5hZGRUbyhtYXBfNGFiODE5Y2NhYzI5NGZiYjhhODIwNzczZGZkMDQyYjkpOwogICAgICAgIAogICAgCiAgICAgICAgdmFyIHBvcHVwX2RhMzk2OGI0Nzk4MzRkY2I4YTIwMzE1OTQwYmIxZWZhID0gTC5wb3B1cCh7Im1heFdpZHRoIjogIjEwMCUifSk7CgogICAgICAgIAogICAgICAgICAgICB2YXIgaHRtbF9mNWRiMDg1MDBkYTM0NzAyODhiYWFlZGQ1MGY1NjlkNSA9ICQoYDxkaXYgaWQ9Imh0bWxfZjVkYjA4NTAwZGEzNDcwMjg4YmFhZWRkNTBmNTY5ZDUiIHN0eWxlPSJ3aWR0aDogMTAwLjAlOyBoZWlnaHQ6IDEwMC4wJTsiPkNoaW5hdG93biwgR3JhbmdlIFBhcmssIEtlbnNpbmd0b24gTWFya2V0PC9kaXY+YClbMF07CiAgICAgICAgICAgIHBvcHVwX2RhMzk2OGI0Nzk4MzRkY2I4YTIwMzE1OTQwYmIxZWZhLnNldENvbnRlbnQoaHRtbF9mNWRiMDg1MDBkYTM0NzAyODhiYWFlZGQ1MGY1NjlkNSk7CiAgICAgICAgCgogICAgICAgIG1hcmtlcl9kNWJlOGZhMzJmZWE0MGQ1YjBkZDUxMjNlMzM0NzczMi5iaW5kUG9wdXAocG9wdXBfZGEzOTY4YjQ3OTgzNGRjYjhhMjAzMTU5NDBiYjFlZmEpCiAgICAgICAgOwoKICAgICAgICAKICAgIAogICAgCiAgICAgICAgICAgIHZhciBtYXJrZXJfYzJkMzU4NzRiN2E0NDM4Y2EyZDRlOTZmODcwNDFmZDQgPSBMLm1hcmtlcigKICAgICAgICAgICAgICAgIFs0My44MTc2ODUwMDAwMDAwNCwgLTc5LjI4MDE4NzIxMzk5OTk3XSwKICAgICAgICAgICAgICAgIHsicmFkaXVzIjogNX0KICAgICAgICAgICAgKS5hZGRUbyhtYXBfNGFiODE5Y2NhYzI5NGZiYjhhODIwNzczZGZkMDQyYjkpOwogICAgICAgIAogICAgCiAgICAgICAgdmFyIHBvcHVwXzY2NjNkYWZmNjY1NzRiMTVhMzNhYzI0YTJkYzdjZWRjID0gTC5wb3B1cCh7Im1heFdpZHRoIjogIjEwMCUifSk7CgogICAgICAgIAogICAgICAgICAgICB2YXIgaHRtbF9kNjVhNmUxZDliZmI0YTI0YWY2Njc5NDgwZmYxZWE0MyA9ICQoYDxkaXYgaWQ9Imh0bWxfZDY1YTZlMWQ5YmZiNGEyNGFmNjY3OTQ4MGZmMWVhNDMiIHN0eWxlPSJ3aWR0aDogMTAwLjAlOyBoZWlnaHQ6IDEwMC4wJTsiPkFnaW5jb3VydCBOb3J0aCwgTCdBbW9yZWF1eCBFYXN0LCBNaWxsaWtlbiwgU3RlZWxlcyBFYXN0PC9kaXY+YClbMF07CiAgICAgICAgICAgIHBvcHVwXzY2NjNkYWZmNjY1NzRiMTVhMzNhYzI0YTJkYzdjZWRjLnNldENvbnRlbnQoaHRtbF9kNjVhNmUxZDliZmI0YTI0YWY2Njc5NDgwZmYxZWE0Myk7CiAgICAgICAgCgogICAgICAgIG1hcmtlcl9jMmQzNTg3NGI3YTQ0MzhjYTJkNGU5NmY4NzA0MWZkNC5iaW5kUG9wdXAocG9wdXBfNjY2M2RhZmY2NjU3NGIxNWEzM2FjMjRhMmRjN2NlZGMpCiAgICAgICAgOwoKICAgICAgICAKICAgIAogICAgCiAgICAgICAgICAgIHZhciBtYXJrZXJfYjhmODBkMWRkODBlNDc0MGFhZDVmMjliOGFiNjNkOTEgPSBMLm1hcmtlcigKICAgICAgICAgICAgICAgIFs0My42ODYwNzM3NzEwMDAwNSwgLTc5LjQwMjI2NDk5OTk5OTk0XSwKICAgICAgICAgICAgICAgIHsicmFkaXVzIjogNX0KICAgICAgICAgICAgKS5hZGRUbyhtYXBfNGFiODE5Y2NhYzI5NGZiYjhhODIwNzczZGZkMDQyYjkpOwogICAgICAgIAogICAgCiAgICAgICAgdmFyIHBvcHVwXzZlMzEwYTcyYzZhYjQ2ZTVhYzc5MDYxNjg2MmI3YzE4ID0gTC5wb3B1cCh7Im1heFdpZHRoIjogIjEwMCUifSk7CgogICAgICAgIAogICAgICAgICAgICB2YXIgaHRtbF83MjUwZDk5Mzk0MTg0MTI2YWZjMzQzZTU5MTNkNWFlMiA9ICQoYDxkaXYgaWQ9Imh0bWxfNzI1MGQ5OTM5NDE4NDEyNmFmYzM0M2U1OTEzZDVhZTIiIHN0eWxlPSJ3aWR0aDogMTAwLjAlOyBoZWlnaHQ6IDEwMC4wJTsiPkRlZXIgUGFyaywgRm9yZXN0IEhpbGwgU0UsIFJhdGhuZWxseSwgU291dGggSGlsbCwgU3VtbWVyaGlsbCBXZXN0PC9kaXY+YClbMF07CiAgICAgICAgICAgIHBvcHVwXzZlMzEwYTcyYzZhYjQ2ZTVhYzc5MDYxNjg2MmI3YzE4LnNldENvbnRlbnQoaHRtbF83MjUwZDk5Mzk0MTg0MTI2YWZjMzQzZTU5MTNkNWFlMik7CiAgICAgICAgCgogICAgICAgIG1hcmtlcl9iOGY4MGQxZGQ4MGU0NzQwYWFkNWYyOWI4YWI2M2Q5MS5iaW5kUG9wdXAocG9wdXBfNmUzMTBhNzJjNmFiNDZlNWFjNzkwNjE2ODYyYjdjMTgpCiAgICAgICAgOwoKICAgICAgICAKICAgIAogICAgCiAgICAgICAgICAgIHZhciBtYXJrZXJfZTQyOGQ0YjU1MmExNDY2ZDg4ZjY4ZmNiYWFiYTZkZWQgPSBMLm1hcmtlcigKICAgICAgICAgICAgICAgIFs0My42NDA4MTUwMDAwMDAwMywgLTc5LjM5OTUzNzgxODk5OTk5XSwKICAgICAgICAgICAgICAgIHsicmFkaXVzIjogNX0KICAgICAgICAgICAgKS5hZGRUbyhtYXBfNGFiODE5Y2NhYzI5NGZiYjhhODIwNzczZGZkMDQyYjkpOwogICAgICAgIAogICAgCiAgICAgICAgdmFyIHBvcHVwX2NkYzY3YjNlODk0NTQ2N2FhNTE2ZWZmZWU5Njk1Yzk2ID0gTC5wb3B1cCh7Im1heFdpZHRoIjogIjEwMCUifSk7CgogICAgICAgIAogICAgICAgICAgICB2YXIgaHRtbF83Yzk3M2VkNDI0Yjc0ZGU3YmUxOTAwMGE2ZDJmY2NlYyA9ICQoYDxkaXYgaWQ9Imh0bWxfN2M5NzNlZDQyNGI3NGRlN2JlMTkwMDBhNmQyZmNjZWMiIHN0eWxlPSJ3aWR0aDogMTAwLjAlOyBoZWlnaHQ6IDEwMC4wJTsiPkNOIFRvd2VyLCBCYXRodXJzdCBRdWF5LCBJc2xhbmQgYWlycG9ydCwgSGFyYm91cmZyb250IFdlc3QsIEtpbmcgYW5kIFNwYWRpbmEsIFJhaWx3YXkgTGFuZHMsIFNvdXRoIE5pYWdhcmE8L2Rpdj5gKVswXTsKICAgICAgICAgICAgcG9wdXBfY2RjNjdiM2U4OTQ1NDY3YWE1MTZlZmZlZTk2OTVjOTYuc2V0Q29udGVudChodG1sXzdjOTczZWQ0MjRiNzRkZTdiZTE5MDAwYTZkMmZjY2VjKTsKICAgICAgICAKCiAgICAgICAgbWFya2VyX2U0MjhkNGI1NTJhMTQ2NmQ4OGY2OGZjYmFhYmE2ZGVkLmJpbmRQb3B1cChwb3B1cF9jZGM2N2IzZTg5NDU0NjdhYTUxNmVmZmVlOTY5NWM5NikKICAgICAgICA7CgogICAgICAgIAogICAgCiAgICAKICAgICAgICAgICAgdmFyIG1hcmtlcl9mMDE1YzZiMDEyZTc0YWFjYTQyN2RjNGNmMzdlNDNhYSA9IEwubWFya2VyKAogICAgICAgICAgICAgICAgWzQzLjYxMjIwMDAwMDAwMDAzLCAtNzkuNDk1MTQ1NjkwOTk5OTVdLAogICAgICAgICAgICAgICAgeyJyYWRpdXMiOiA1fQogICAgICAgICAgICApLmFkZFRvKG1hcF80YWI4MTljY2FjMjk0ZmJiOGE4MjA3NzNkZmQwNDJiOSk7CiAgICAgICAgCiAgICAKICAgICAgICB2YXIgcG9wdXBfZTY3OGQxNjQ5MmJjNGUxNDgyMmVjNjFmMzI3NjRkNTcgPSBMLnBvcHVwKHsibWF4V2lkdGgiOiAiMTAwJSJ9KTsKCiAgICAgICAgCiAgICAgICAgICAgIHZhciBodG1sX2FmZjU4NDFmNTFlODQzOWFiMDZiNzNjNzFmNWEzMjA0ID0gJChgPGRpdiBpZD0iaHRtbF9hZmY1ODQxZjUxZTg0MzlhYjA2YjczYzcxZjVhMzIwNCIgc3R5bGU9IndpZHRoOiAxMDAuMCU7IGhlaWdodDogMTAwLjAlOyI+SHVtYmVyIEJheSBTaG9yZXMsIE1pbWljbyBTb3V0aCwgTmV3IFRvcm9udG88L2Rpdj5gKVswXTsKICAgICAgICAgICAgcG9wdXBfZTY3OGQxNjQ5MmJjNGUxNDgyMmVjNjFmMzI3NjRkNTcuc2V0Q29udGVudChodG1sX2FmZjU4NDFmNTFlODQzOWFiMDZiNzNjNzFmNWEzMjA0KTsKICAgICAgICAKCiAgICAgICAgbWFya2VyX2YwMTVjNmIwMTJlNzRhYWNhNDI3ZGM0Y2YzN2U0M2FhLmJpbmRQb3B1cChwb3B1cF9lNjc4ZDE2NDkyYmM0ZTE0ODIyZWM2MWYzMjc2NGQ1NykKICAgICAgICA7CgogICAgICAgIAogICAgCiAgICAKICAgICAgICAgICAgdmFyIG1hcmtlcl81ZjIzYjA2MTkwNmI0NjFiOGVhZTk1ODRkMzE5ZDBmZSA9IEwubWFya2VyKAogICAgICAgICAgICAgICAgWzQzLjc0MzE0NTAwMDAwMDAzLCAtNzkuNTg0NjYzODk2OTk5OThdLAogICAgICAgICAgICAgICAgeyJyYWRpdXMiOiA1fQogICAgICAgICAgICApLmFkZFRvKG1hcF80YWI4MTljY2FjMjk0ZmJiOGE4MjA3NzNkZmQwNDJiOSk7CiAgICAgICAgCiAgICAKICAgICAgICB2YXIgcG9wdXBfYjM4ZGMxMzE3Yzg5NDNjMzk1M2I4OWY3OGVjOTIwMDggPSBMLnBvcHVwKHsibWF4V2lkdGgiOiAiMTAwJSJ9KTsKCiAgICAgICAgCiAgICAgICAgICAgIHZhciBodG1sX2MyODJlMjRkN2QxYjQ0NjA4ZDUwYTVjYmU4MWViMTVmID0gJChgPGRpdiBpZD0iaHRtbF9jMjgyZTI0ZDdkMWI0NDYwOGQ1MGE1Y2JlODFlYjE1ZiIgc3R5bGU9IndpZHRoOiAxMDAuMCU7IGhlaWdodDogMTAwLjAlOyI+QWxiaW9uIEdhcmRlbnMsIEJlYXVtb25kIEhlaWdodHMsIEh1bWJlcmdhdGUsIEphbWVzdG93biwgTW91bnQgT2xpdmUsIFNpbHZlcnN0b25lLCBTb3V0aCBTdGVlbGVzLCBUaGlzdGxldG93bjwvZGl2PmApWzBdOwogICAgICAgICAgICBwb3B1cF9iMzhkYzEzMTdjODk0M2MzOTUzYjg5Zjc4ZWM5MjAwOC5zZXRDb250ZW50KGh0bWxfYzI4MmUyNGQ3ZDFiNDQ2MDhkNTBhNWNiZTgxZWIxNWYpOwogICAgICAgIAoKICAgICAgICBtYXJrZXJfNWYyM2IwNjE5MDZiNDYxYjhlYWU5NTg0ZDMxOWQwZmUuYmluZFBvcHVwKHBvcHVwX2IzOGRjMTMxN2M4OTQzYzM5NTNiODlmNzhlYzkyMDA4KQogICAgICAgIDsKCiAgICAgICAgCiAgICAKICAgIAogICAgICAgICAgICB2YXIgbWFya2VyXzdiZWRmODE3Y2ZmZjQ0ZWU4YWNhMjlhZmMzM2Y5YWFjID0gTC5tYXJrZXIoCiAgICAgICAgICAgICAgICBbNDMuODAwODgyOTI4MDAwMDgsIC03OS4zMjA3Mzk5OTk5OTk5NF0sCiAgICAgICAgICAgICAgICB7InJhZGl1cyI6IDV9CiAgICAgICAgICAgICkuYWRkVG8obWFwXzRhYjgxOWNjYWMyOTRmYmI4YTgyMDc3M2RmZDA0MmI5KTsKICAgICAgICAKICAgIAogICAgICAgIHZhciBwb3B1cF9lMjAyN2UyNTEzYjY0OWRkOGFlNjA4OGJhYzFmNzllOSA9IEwucG9wdXAoeyJtYXhXaWR0aCI6ICIxMDAlIn0pOwoKICAgICAgICAKICAgICAgICAgICAgdmFyIGh0bWxfMDZhZTkyNzc0NWQ0NDdmNTlmZjYxNjQ2YzE5YmQwNmIgPSAkKGA8ZGl2IGlkPSJodG1sXzA2YWU5Mjc3NDVkNDQ3ZjU5ZmY2MTY0NmMxOWJkMDZiIiBzdHlsZT0id2lkdGg6IDEwMC4wJTsgaGVpZ2h0OiAxMDAuMCU7Ij5MJ0Ftb3JlYXV4IFdlc3Q8L2Rpdj5gKVswXTsKICAgICAgICAgICAgcG9wdXBfZTIwMjdlMjUxM2I2NDlkZDhhZTYwODhiYWMxZjc5ZTkuc2V0Q29udGVudChodG1sXzA2YWU5Mjc3NDVkNDQ3ZjU5ZmY2MTY0NmMxOWJkMDZiKTsKICAgICAgICAKCiAgICAgICAgbWFya2VyXzdiZWRmODE3Y2ZmZjQ0ZWU4YWNhMjlhZmMzM2Y5YWFjLmJpbmRQb3B1cChwb3B1cF9lMjAyN2UyNTEzYjY0OWRkOGFlNjA4OGJhYzFmNzllOSkKICAgICAgICA7CgogICAgICAgIAogICAgCiAgICAKICAgICAgICAgICAgdmFyIG1hcmtlcl8xMmRlOWRmNTAxMzQ0NmZlYTNlMzQyNWM2MjhkY2EyYSA9IEwubWFya2VyKAogICAgICAgICAgICAgICAgWzQzLjY4MjIwNTAwMDAwMDA3LCAtNzkuMzc3OTQ1MTk2OTk5OTddLAogICAgICAgICAgICAgICAgeyJyYWRpdXMiOiA1fQogICAgICAgICAgICApLmFkZFRvKG1hcF80YWI4MTljY2FjMjk0ZmJiOGE4MjA3NzNkZmQwNDJiOSk7CiAgICAgICAgCiAgICAKICAgICAgICB2YXIgcG9wdXBfMTRiNWU3MmU1YjYwNDA2Mjg4MmNlZWZkOGY5OTc3NDQgPSBMLnBvcHVwKHsibWF4V2lkdGgiOiAiMTAwJSJ9KTsKCiAgICAgICAgCiAgICAgICAgICAgIHZhciBodG1sXzBjZmVlZWVkYWFhMTQxOTZiZDcyNWVlZTEyYzRmZmUwID0gJChgPGRpdiBpZD0iaHRtbF8wY2ZlZWVlZGFhYTE0MTk2YmQ3MjVlZWUxMmM0ZmZlMCIgc3R5bGU9IndpZHRoOiAxMDAuMCU7IGhlaWdodDogMTAwLjAlOyI+Um9zZWRhbGU8L2Rpdj5gKVswXTsKICAgICAgICAgICAgcG9wdXBfMTRiNWU3MmU1YjYwNDA2Mjg4MmNlZWZkOGY5OTc3NDQuc2V0Q29udGVudChodG1sXzBjZmVlZWVkYWFhMTQxOTZiZDcyNWVlZTEyYzRmZmUwKTsKICAgICAgICAKCiAgICAgICAgbWFya2VyXzEyZGU5ZGY1MDEzNDQ2ZmVhM2UzNDI1YzYyOGRjYTJhLmJpbmRQb3B1cChwb3B1cF8xNGI1ZTcyZTViNjA0MDYyODgyY2VlZmQ4Zjk5Nzc0NCkKICAgICAgICA7CgogICAgICAgIAogICAgCiAgICAKICAgICAgICAgICAgdmFyIG1hcmtlcl9jYmI4NzRkYjRjNGM0ZmZlODgyY2U0MThkZGIwYWNkMiA9IEwubWFya2VyKAogICAgICAgICAgICAgICAgWzQzLjY0ODY5MDAwMDAwMDA0NSwgLTc5LjM4NTQzOTk5OTk5OTk2XSwKICAgICAgICAgICAgICAgIHsicmFkaXVzIjogNX0KICAgICAgICAgICAgKS5hZGRUbyhtYXBfNGFiODE5Y2NhYzI5NGZiYjhhODIwNzczZGZkMDQyYjkpOwogICAgICAgIAogICAgCiAgICAgICAgdmFyIHBvcHVwXzRjNTVhZmNkNWE3NTRiOTRiZDA3YWQ2MzEwYWI2YWRkID0gTC5wb3B1cCh7Im1heFdpZHRoIjogIjEwMCUifSk7CgogICAgICAgIAogICAgICAgICAgICB2YXIgaHRtbF83YzZiNjIzODhkNjE0ZDliYWMxMTE2ODRmNWVkOTE1ZSA9ICQoYDxkaXYgaWQ9Imh0bWxfN2M2YjYyMzg4ZDYxNGQ5YmFjMTExNjg0ZjVlZDkxNWUiIHN0eWxlPSJ3aWR0aDogMTAwLjAlOyBoZWlnaHQ6IDEwMC4wJTsiPlN0biBBIFBPIEJveGVzIDI1IFRoZSBFc3BsYW5hZGU8L2Rpdj5gKVswXTsKICAgICAgICAgICAgcG9wdXBfNGM1NWFmY2Q1YTc1NGI5NGJkMDdhZDYzMTBhYjZhZGQuc2V0Q29udGVudChodG1sXzdjNmI2MjM4OGQ2MTRkOWJhYzExMTY4NGY1ZWQ5MTVlKTsKICAgICAgICAKCiAgICAgICAgbWFya2VyX2NiYjg3NGRiNGM0YzRmZmU4ODJjZTQxOGRkYjBhY2QyLmJpbmRQb3B1cChwb3B1cF80YzU1YWZjZDVhNzU0Yjk0YmQwN2FkNjMxMGFiNmFkZCkKICAgICAgICA7CgogICAgICAgIAogICAgCiAgICAKICAgICAgICAgICAgdmFyIG1hcmtlcl8wNWY4YjM4OGRjYjE0NGFmYTlkYmE5YTFiMGE2NjRlZiA9IEwubWFya2VyKAogICAgICAgICAgICAgICAgWzQzLjYwMTEzMDgyMTAwMDAzLCAtNzkuNTM4Nzg0OTk5OTk5OTZdLAogICAgICAgICAgICAgICAgeyJyYWRpdXMiOiA1fQogICAgICAgICAgICApLmFkZFRvKG1hcF80YWI4MTljY2FjMjk0ZmJiOGE4MjA3NzNkZmQwNDJiOSk7CiAgICAgICAgCiAgICAKICAgICAgICB2YXIgcG9wdXBfNTllNmY4M2M2NjYwNDljZWI3MTFmMzJjZTlhNTUzYTUgPSBMLnBvcHVwKHsibWF4V2lkdGgiOiAiMTAwJSJ9KTsKCiAgICAgICAgCiAgICAgICAgICAgIHZhciBodG1sX2ZmNGExODU3NjM0ZDQ0ZjdiOTBhOWQ5NWI3OTQ5ZTdhID0gJChgPGRpdiBpZD0iaHRtbF9mZjRhMTg1NzYzNGQ0NGY3YjkwYTlkOTViNzk0OWU3YSIgc3R5bGU9IndpZHRoOiAxMDAuMCU7IGhlaWdodDogMTAwLjAlOyI+QWxkZXJ3b29kLCBMb25nIEJyYW5jaDwvZGl2PmApWzBdOwogICAgICAgICAgICBwb3B1cF81OWU2ZjgzYzY2NjA0OWNlYjcxMWYzMmNlOWE1NTNhNS5zZXRDb250ZW50KGh0bWxfZmY0YTE4NTc2MzRkNDRmN2I5MGE5ZDk1Yjc5NDllN2EpOwogICAgICAgIAoKICAgICAgICBtYXJrZXJfMDVmOGIzODhkY2IxNDRhZmE5ZGJhOWExYjBhNjY0ZWYuYmluZFBvcHVwKHBvcHVwXzU5ZTZmODNjNjY2MDQ5Y2ViNzExZjMyY2U5YTU1M2E1KQogICAgICAgIDsKCiAgICAgICAgCiAgICAKICAgIAogICAgICAgICAgICB2YXIgbWFya2VyXzVjYTA3ZDFjMDUwNDQzNGViMDU5Yzg4ZjMyNWJkYjMzID0gTC5tYXJrZXIoCiAgICAgICAgICAgICAgICBbNDMuNzExNzQwMDAwMDAwMDgsIC03OS41NzkxODEzNDU5OTk5OF0sCiAgICAgICAgICAgICAgICB7InJhZGl1cyI6IDV9CiAgICAgICAgICAgICkuYWRkVG8obWFwXzRhYjgxOWNjYWMyOTRmYmI4YTgyMDc3M2RmZDA0MmI5KTsKICAgICAgICAKICAgIAogICAgICAgIHZhciBwb3B1cF9lOGQyNDNkYjA2OTE0NjNhYTBmM2JkN2FlMWZmNDBjMiA9IEwucG9wdXAoeyJtYXhXaWR0aCI6ICIxMDAlIn0pOwoKICAgICAgICAKICAgICAgICAgICAgdmFyIGh0bWxfZWYwNDlmNTI2MGM2NDM1ZmJhZTFkMjgyODAwNDY1N2IgPSAkKGA8ZGl2IGlkPSJodG1sX2VmMDQ5ZjUyNjBjNjQzNWZiYWUxZDI4MjgwMDQ2NTdiIiBzdHlsZT0id2lkdGg6IDEwMC4wJTsgaGVpZ2h0OiAxMDAuMCU7Ij5Ob3J0aHdlc3Q8L2Rpdj5gKVswXTsKICAgICAgICAgICAgcG9wdXBfZThkMjQzZGIwNjkxNDYzYWEwZjNiZDdhZTFmZjQwYzIuc2V0Q29udGVudChodG1sX2VmMDQ5ZjUyNjBjNjQzNWZiYWUxZDI4MjgwMDQ2NTdiKTsKICAgICAgICAKCiAgICAgICAgbWFya2VyXzVjYTA3ZDFjMDUwNDQzNGViMDU5Yzg4ZjMyNWJkYjMzLmJpbmRQb3B1cChwb3B1cF9lOGQyNDNkYjA2OTE0NjNhYTBmM2JkN2FlMWZmNDBjMikKICAgICAgICA7CgogICAgICAgIAogICAgCiAgICAKICAgICAgICAgICAgdmFyIG1hcmtlcl83ZTNlYzA3ODgzYzM0ZDdjYjI0NTYzNGQ1Zjg3Njk5NSA9IEwubWFya2VyKAogICAgICAgICAgICAgICAgWzQzLjgzNDIxNTAwMDAwMDAzLCAtNzkuMjE2NzAwODUwOTk5OThdLAogICAgICAgICAgICAgICAgeyJyYWRpdXMiOiA1fQogICAgICAgICAgICApLmFkZFRvKG1hcF80YWI4MTljY2FjMjk0ZmJiOGE4MjA3NzNkZmQwNDJiOSk7CiAgICAgICAgCiAgICAKICAgICAgICB2YXIgcG9wdXBfZTQ5NWI3MTU3Njk2NDZkNDg2NjhlNjg0YjE1MTgwZTAgPSBMLnBvcHVwKHsibWF4V2lkdGgiOiAiMTAwJSJ9KTsKCiAgICAgICAgCiAgICAgICAgICAgIHZhciBodG1sXzk3OTIzODZlMWJlNjQ4MmE5YzkzMTA1MTdlZTMyNjNkID0gJChgPGRpdiBpZD0iaHRtbF85NzkyMzg2ZTFiZTY0ODJhOWM5MzEwNTE3ZWUzMjYzZCIgc3R5bGU9IndpZHRoOiAxMDAuMCU7IGhlaWdodDogMTAwLjAlOyI+VXBwZXIgUm91Z2U8L2Rpdj5gKVswXTsKICAgICAgICAgICAgcG9wdXBfZTQ5NWI3MTU3Njk2NDZkNDg2NjhlNjg0YjE1MTgwZTAuc2V0Q29udGVudChodG1sXzk3OTIzODZlMWJlNjQ4MmE5YzkzMTA1MTdlZTMyNjNkKTsKICAgICAgICAKCiAgICAgICAgbWFya2VyXzdlM2VjMDc4ODNjMzRkN2NiMjQ1NjM0ZDVmODc2OTk1LmJpbmRQb3B1cChwb3B1cF9lNDk1YjcxNTc2OTY0NmQ0ODY2OGU2ODRiMTUxODBlMCkKICAgICAgICA7CgogICAgICAgIAogICAgCiAgICAKICAgICAgICAgICAgdmFyIG1hcmtlcl8wZWE0MmYxYmRiNDA0MzA1YTMxZDA1MDJmZjc3MTBiYSA9IEwubWFya2VyKAogICAgICAgICAgICAgICAgWzQzLjY2ODE2MDAwMDAwMDA2LCAtNzkuMzY2NjAyMzYxOTk5OThdLAogICAgICAgICAgICAgICAgeyJyYWRpdXMiOiA1fQogICAgICAgICAgICApLmFkZFRvKG1hcF80YWI4MTljY2FjMjk0ZmJiOGE4MjA3NzNkZmQwNDJiOSk7CiAgICAgICAgCiAgICAKICAgICAgICB2YXIgcG9wdXBfYTM0NTUwODNlNDBmNGIyNDllMjU3YWNkNmI0MmE2YzEgPSBMLnBvcHVwKHsibWF4V2lkdGgiOiAiMTAwJSJ9KTsKCiAgICAgICAgCiAgICAgICAgICAgIHZhciBodG1sXzEwZDdjNzhkMmZjMjRkOTBhZTAyMTg5MzVlMGM5NjczID0gJChgPGRpdiBpZD0iaHRtbF8xMGQ3Yzc4ZDJmYzI0ZDkwYWUwMjE4OTM1ZTBjOTY3MyIgc3R5bGU9IndpZHRoOiAxMDAuMCU7IGhlaWdodDogMTAwLjAlOyI+Q2FiYmFnZXRvd24sIFN0LiBKYW1lcyBUb3duPC9kaXY+YClbMF07CiAgICAgICAgICAgIHBvcHVwX2EzNDU1MDgzZTQwZjRiMjQ5ZTI1N2FjZDZiNDJhNmMxLnNldENvbnRlbnQoaHRtbF8xMGQ3Yzc4ZDJmYzI0ZDkwYWUwMjE4OTM1ZTBjOTY3Myk7CiAgICAgICAgCgogICAgICAgIG1hcmtlcl8wZWE0MmYxYmRiNDA0MzA1YTMxZDA1MDJmZjc3MTBiYS5iaW5kUG9wdXAocG9wdXBfYTM0NTUwODNlNDBmNGIyNDllMjU3YWNkNmI0MmE2YzEpCiAgICAgICAgOwoKICAgICAgICAKICAgIAogICAgCiAgICAgICAgICAgIHZhciBtYXJrZXJfNDEwZTI1NDYxNzYzNDkxN2IzNzlhNzEzMmQ0M2Y0ODkgPSBMLm1hcmtlcigKICAgICAgICAgICAgICAgIFs0My42NDgyODAwMDAwMDAwNiwgLTc5LjM4MTQ2MDgyNTk5OTk3XSwKICAgICAgICAgICAgICAgIHsicmFkaXVzIjogNX0KICAgICAgICAgICAgKS5hZGRUbyhtYXBfNGFiODE5Y2NhYzI5NGZiYjhhODIwNzczZGZkMDQyYjkpOwogICAgICAgIAogICAgCiAgICAgICAgdmFyIHBvcHVwX2Q0MDYxZWVlODM1MTRhOWNhNGNiZGY4NjAyODAwODZhID0gTC5wb3B1cCh7Im1heFdpZHRoIjogIjEwMCUifSk7CgogICAgICAgIAogICAgICAgICAgICB2YXIgaHRtbF85ZTVkNjhhNzJiNmI0Yzg0YWQzOWNiNWYwYTVhOTllYiA9ICQoYDxkaXYgaWQ9Imh0bWxfOWU1ZDY4YTcyYjZiNGM4NGFkMzljYjVmMGE1YTk5ZWIiIHN0eWxlPSJ3aWR0aDogMTAwLjAlOyBoZWlnaHQ6IDEwMC4wJTsiPkZpcnN0IENhbmFkaWFuIFBsYWNlLCBVbmRlcmdyb3VuZCBjaXR5PC9kaXY+YClbMF07CiAgICAgICAgICAgIHBvcHVwX2Q0MDYxZWVlODM1MTRhOWNhNGNiZGY4NjAyODAwODZhLnNldENvbnRlbnQoaHRtbF85ZTVkNjhhNzJiNmI0Yzg0YWQzOWNiNWYwYTVhOTllYik7CiAgICAgICAgCgogICAgICAgIG1hcmtlcl80MTBlMjU0NjE3NjM0OTE3YjM3OWE3MTMyZDQzZjQ4OS5iaW5kUG9wdXAocG9wdXBfZDQwNjFlZWU4MzUxNGE5Y2E0Y2JkZjg2MDI4MDA4NmEpCiAgICAgICAgOwoKICAgICAgICAKICAgIAogICAgCiAgICAgICAgICAgIHZhciBtYXJrZXJfNGRhMjIzZGRlZjU4NDVmYTljOTI5YjI0MDAwOTlmODIgPSBMLm1hcmtlcigKICAgICAgICAgICAgICAgIFs0My42NTM3NjAwMDAwMDAwMzQsIC03OS41MTA4OTAwNDE5OTk5N10sCiAgICAgICAgICAgICAgICB7InJhZGl1cyI6IDV9CiAgICAgICAgICAgICkuYWRkVG8obWFwXzRhYjgxOWNjYWMyOTRmYmI4YTgyMDc3M2RmZDA0MmI5KTsKICAgICAgICAKICAgIAogICAgICAgIHZhciBwb3B1cF82Mjg2YTEyY2FlNjA0ZjE4OGEyYzQ3YWM4NTBmNTcyNyA9IEwucG9wdXAoeyJtYXhXaWR0aCI6ICIxMDAlIn0pOwoKICAgICAgICAKICAgICAgICAgICAgdmFyIGh0bWxfNzcyZTcxOTc3OTQ3NGNmMzk0NDI1YWM2NTA1OWU3YmEgPSAkKGA8ZGl2IGlkPSJodG1sXzc3MmU3MTk3Nzk0NzRjZjM5NDQyNWFjNjUwNTllN2JhIiBzdHlsZT0id2lkdGg6IDEwMC4wJTsgaGVpZ2h0OiAxMDAuMCU7Ij5UaGUgS2luZ3N3YXksIE1vbnRnb21lcnkgUm9hZCwgT2xkIE1pbGwgTm9ydGg8L2Rpdj5gKVswXTsKICAgICAgICAgICAgcG9wdXBfNjI4NmExMmNhZTYwNGYxODhhMmM0N2FjODUwZjU3Mjcuc2V0Q29udGVudChodG1sXzc3MmU3MTk3Nzk0NzRjZjM5NDQyNWFjNjUwNTllN2JhKTsKICAgICAgICAKCiAgICAgICAgbWFya2VyXzRkYTIyM2RkZWY1ODQ1ZmE5YzkyOWIyNDAwMDk5ZjgyLmJpbmRQb3B1cChwb3B1cF82Mjg2YTEyY2FlNjA0ZjE4OGEyYzQ3YWM4NTBmNTcyNykKICAgICAgICA7CgogICAgICAgIAogICAgCiAgICAKICAgICAgICAgICAgdmFyIG1hcmtlcl80NWNiZDI0NGRmOGQ0NTE1YjFhNzIwYzY0YzY1Mzk2ZCA9IEwubWFya2VyKAogICAgICAgICAgICAgICAgWzQzLjY2NjU4NTAwMDAwMDA1NSwgLTc5LjM4MTMwMjAzNjk5OTk1XSwKICAgICAgICAgICAgICAgIHsicmFkaXVzIjogNX0KICAgICAgICAgICAgKS5hZGRUbyhtYXBfNGFiODE5Y2NhYzI5NGZiYjhhODIwNzczZGZkMDQyYjkpOwogICAgICAgIAogICAgCiAgICAgICAgdmFyIHBvcHVwXzZkYjgyMjEzMzFhMzQxMWRhOTFiZjVmMWE0NTM1MjZkID0gTC5wb3B1cCh7Im1heFdpZHRoIjogIjEwMCUifSk7CgogICAgICAgIAogICAgICAgICAgICB2YXIgaHRtbF80MDU5NmU1NzU4MTU0NjNjYTdiY2FlODJkOTMwZTYzMiA9ICQoYDxkaXYgaWQ9Imh0bWxfNDA1OTZlNTc1ODE1NDYzY2E3YmNhZTgyZDkzMGU2MzIiIHN0eWxlPSJ3aWR0aDogMTAwLjAlOyBoZWlnaHQ6IDEwMC4wJTsiPkNodXJjaCBhbmQgV2VsbGVzbGV5PC9kaXY+YClbMF07CiAgICAgICAgICAgIHBvcHVwXzZkYjgyMjEzMzFhMzQxMWRhOTFiZjVmMWE0NTM1MjZkLnNldENvbnRlbnQoaHRtbF80MDU5NmU1NzU4MTU0NjNjYTdiY2FlODJkOTMwZTYzMik7CiAgICAgICAgCgogICAgICAgIG1hcmtlcl80NWNiZDI0NGRmOGQ0NTE1YjFhNzIwYzY0YzY1Mzk2ZC5iaW5kUG9wdXAocG9wdXBfNmRiODIyMTMzMWEzNDExZGE5MWJmNWYxYTQ1MzUyNmQpCiAgICAgICAgOwoKICAgICAgICAKICAgIAogICAgCiAgICAgICAgICAgIHZhciBtYXJrZXJfOGExNDE1MjQ5ZGVjNGY2MjgzNjdjNmJkNTg0NjExYjkgPSBMLm1hcmtlcigKICAgICAgICAgICAgICAgIFs0My42NDg2OTAwMDAwMDAwNDUsIC03OS4zODU0Mzk5OTk5OTk5Nl0sCiAgICAgICAgICAgICAgICB7InJhZGl1cyI6IDV9CiAgICAgICAgICAgICkuYWRkVG8obWFwXzRhYjgxOWNjYWMyOTRmYmI4YTgyMDc3M2RmZDA0MmI5KTsKICAgICAgICAKICAgIAogICAgICAgIHZhciBwb3B1cF81OTE0Mjg2YzI3N2U0MDVhOGFhMTU5YjRmOTc2ZmIyMCA9IEwucG9wdXAoeyJtYXhXaWR0aCI6ICIxMDAlIn0pOwoKICAgICAgICAKICAgICAgICAgICAgdmFyIGh0bWxfM2FjZDJiZDNlMDEzNDhiZWI4YmY3OTZiNjI1MmQxYTMgPSAkKGA8ZGl2IGlkPSJodG1sXzNhY2QyYmQzZTAxMzQ4YmViOGJmNzk2YjYyNTJkMWEzIiBzdHlsZT0id2lkdGg6IDEwMC4wJTsgaGVpZ2h0OiAxMDAuMCU7Ij5CdXNpbmVzcyBSZXBseSBNYWlsIFByb2Nlc3NpbmcgQ2VudHJlIDk2OSBFYXN0ZXJuPC9kaXY+YClbMF07CiAgICAgICAgICAgIHBvcHVwXzU5MTQyODZjMjc3ZTQwNWE4YWExNTliNGY5NzZmYjIwLnNldENvbnRlbnQoaHRtbF8zYWNkMmJkM2UwMTM0OGJlYjhiZjc5NmI2MjUyZDFhMyk7CiAgICAgICAgCgogICAgICAgIG1hcmtlcl84YTE0MTUyNDlkZWM0ZjYyODM2N2M2YmQ1ODQ2MTFiOS5iaW5kUG9wdXAocG9wdXBfNTkxNDI4NmMyNzdlNDA1YThhYTE1OWI0Zjk3NmZiMjApCiAgICAgICAgOwoKICAgICAgICAKICAgIAogICAgCiAgICAgICAgICAgIHZhciBtYXJrZXJfMWMyMjM1OWY0OTQyNGVhY2JjMzllNjhjMjI5OWJhZTEgPSBMLm1hcmtlcigKICAgICAgICAgICAgICAgIFs0My42MzI4MzUwMDAwMDAwNiwgLTc5LjQ4OTU1MDQ0NTk5OTk1XSwKICAgICAgICAgICAgICAgIHsicmFkaXVzIjogNX0KICAgICAgICAgICAgKS5hZGRUbyhtYXBfNGFiODE5Y2NhYzI5NGZiYjhhODIwNzczZGZkMDQyYjkpOwogICAgICAgIAogICAgCiAgICAgICAgdmFyIHBvcHVwXzA5ZGQzNTg5ZGY1NjQxNjJhZjYzOTdjOTRjNjMzMjNiID0gTC5wb3B1cCh7Im1heFdpZHRoIjogIjEwMCUifSk7CgogICAgICAgIAogICAgICAgICAgICB2YXIgaHRtbF82NWYzMGQ1YTk2YjQ0ZTQ1OTM1ODY2MGQ4OTc4YWVkNCA9ICQoYDxkaXYgaWQ9Imh0bWxfNjVmMzBkNWE5NmI0NGU0NTkzNTg2NjBkODk3OGFlZDQiIHN0eWxlPSJ3aWR0aDogMTAwLjAlOyBoZWlnaHQ6IDEwMC4wJTsiPkh1bWJlciBCYXksIEtpbmcncyBNaWxsIFBhcmssIEtpbmdzd2F5IFBhcmsgU291dGggRWFzdCwgTWltaWNvIE5FLCBPbGQgTWlsbCBTb3V0aCwgVGhlIFF1ZWVuc3dheSBFYXN0LCBSb3lhbCBZb3JrIFNvdXRoIEVhc3QsIFN1bm55bGVhPC9kaXY+YClbMF07CiAgICAgICAgICAgIHBvcHVwXzA5ZGQzNTg5ZGY1NjQxNjJhZjYzOTdjOTRjNjMzMjNiLnNldENvbnRlbnQoaHRtbF82NWYzMGQ1YTk2YjQ0ZTQ1OTM1ODY2MGQ4OTc4YWVkNCk7CiAgICAgICAgCgogICAgICAgIG1hcmtlcl8xYzIyMzU5ZjQ5NDI0ZWFjYmMzOWU2OGMyMjk5YmFlMS5iaW5kUG9wdXAocG9wdXBfMDlkZDM1ODlkZjU2NDE2MmFmNjM5N2M5NGM2MzMyM2IpCiAgICAgICAgOwoKICAgICAgICAKICAgIAogICAgCiAgICAgICAgICAgIHZhciBtYXJrZXJfNzU2NGNhODQ0Yjc5NGYxMDg5ZTM1N2ViY2I5NmExNTQgPSBMLm1hcmtlcigKICAgICAgICAgICAgICAgIFs0My42MjQ2MzAwMDAwMDAwMjUsIC03OS41MjY5NDk3NjE5OTk5Nl0sCiAgICAgICAgICAgICAgICB7InJhZGl1cyI6IDV9CiAgICAgICAgICAgICkuYWRkVG8obWFwXzRhYjgxOWNjYWMyOTRmYmI4YTgyMDc3M2RmZDA0MmI5KTsKICAgICAgICAKICAgIAogICAgICAgIHZhciBwb3B1cF8wOTMxMTUxN2QyMTY0M2NmYjlhOGQ0NDg1Y2JmMTBiYiA9IEwucG9wdXAoeyJtYXhXaWR0aCI6ICIxMDAlIn0pOwoKICAgICAgICAKICAgICAgICAgICAgdmFyIGh0bWxfMDRiYzFmYmM2N2U3NGNkOWFlZThjMjhiZWMzNmNkYzggPSAkKGA8ZGl2IGlkPSJodG1sXzA0YmMxZmJjNjdlNzRjZDlhZWU4YzI4YmVjMzZjZGM4IiBzdHlsZT0id2lkdGg6IDEwMC4wJTsgaGVpZ2h0OiAxMDAuMCU7Ij5LaW5nc3dheSBQYXJrIFNvdXRoIFdlc3QsIE1pbWljbyBOVywgVGhlIFF1ZWVuc3dheSBXZXN0LCBSb3lhbCBZb3JrIFNvdXRoIFdlc3QsIFNvdXRoIG9mIEJsb29yPC9kaXY+YClbMF07CiAgICAgICAgICAgIHBvcHVwXzA5MzExNTE3ZDIxNjQzY2ZiOWE4ZDQ0ODVjYmYxMGJiLnNldENvbnRlbnQoaHRtbF8wNGJjMWZiYzY3ZTc0Y2Q5YWVlOGMyOGJlYzM2Y2RjOCk7CiAgICAgICAgCgogICAgICAgIG1hcmtlcl83NTY0Y2E4NDRiNzk0ZjEwODllMzU3ZWJjYjk2YTE1NC5iaW5kUG9wdXAocG9wdXBfMDkzMTE1MTdkMjE2NDNjZmI5YThkNDQ4NWNiZjEwYmIpCiAgICAgICAgOwoKICAgICAgICAKICAgIAo8L3NjcmlwdD4=\" style=\"position:absolute;width:100%;height:100%;left:0;top:0;border:none !important;\" allowfullscreen webkitallowfullscreen mozallowfullscreen></iframe></div></div>"
      ],
      "text/plain": [
       "<folium.folium.Map at 0x7f756b197110>"
      ]
     },
     "execution_count": 14,
     "metadata": {},
     "output_type": "execute_result"
    }
   ],
   "source": [
    "torm"
   ]
  },
  {
   "cell_type": "markdown",
   "metadata": {},
   "source": [
    "### <a id=\"export\"> </a> Exporting data to csv file for later usage"
   ]
  },
  {
   "cell_type": "code",
   "execution_count": 13,
   "metadata": {},
   "outputs": [],
   "source": [
    "toronto_geo_data.to_csv('data/toronto_geo_data.csv')"
   ]
  },
  {
   "cell_type": "code",
   "execution_count": null,
   "metadata": {},
   "outputs": [],
   "source": []
  },
  {
   "cell_type": "code",
   "execution_count": null,
   "metadata": {},
   "outputs": [],
   "source": []
  },
  {
   "cell_type": "code",
   "execution_count": null,
   "metadata": {},
   "outputs": [],
   "source": []
  }
 ],
 "metadata": {
  "kernelspec": {
   "display_name": "Python 3",
   "language": "python",
   "name": "python3"
  },
  "language_info": {
   "codemirror_mode": {
    "name": "ipython",
    "version": 3
   },
   "file_extension": ".py",
   "mimetype": "text/x-python",
   "name": "python",
   "nbconvert_exporter": "python",
   "pygments_lexer": "ipython3",
   "version": "3.7.4"
  }
 },
 "nbformat": 4,
 "nbformat_minor": 4
}
